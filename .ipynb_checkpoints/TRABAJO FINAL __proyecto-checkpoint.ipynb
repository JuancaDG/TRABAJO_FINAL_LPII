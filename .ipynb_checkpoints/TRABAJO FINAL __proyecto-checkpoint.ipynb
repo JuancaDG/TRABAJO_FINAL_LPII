{
 "cells": [
  {
   "cell_type": "markdown",
   "id": "cb63e2a0",
   "metadata": {},
   "source": [
    "### Librerias"
   ]
  },
  {
   "cell_type": "code",
   "execution_count": null,
   "id": "2f4ffd52",
   "metadata": {},
   "outputs": [],
   "source": [
    "# librerias\n",
    "import requests\n",
    "from bs4 import BeautifulSoup\n",
    "from lxml import etree"
   ]
  },
  {
   "cell_type": "markdown",
   "id": "bf0a84af",
   "metadata": {},
   "source": [
    "### Ingresando el nombre del producto que se desea buscar en la pagina \"MERCADO LIBRE\"\n",
    "\n",
    "- Crearemos un objeto llamado \"url\" del tipo str.\n",
    "- Crearemos un bucle con la funcion While que nos permitira ingresar el nombre del producto cuantas veces deaseamos buscar.\n",
    "- Con la funsion split() dividiremos una cadena de una lista donde cada palabra es un elemento de la lista.\n",
    "- Si la longitu es mayor a uno pasara la condicional if.\n",
    "- Ahora buscaremos concatenar la url de la pagina mas el nombre del producto(primera y segunda parte del string) que es el     unico que cambia   en el transcurso de la busqueda (split_busqueda[0]), despues las otras partes del url de la pagina  permanesen constantes. \n",
    "- Nos imprimira la url ya concatenada y con la funsion break nos proporcionara la oportunidad de cerrar el bucle."
   ]
  },
  {
   "cell_type": "code",
   "execution_count": 3,
   "id": "40a2dfad",
   "metadata": {},
   "outputs": [
    {
     "data": {
      "text/plain": [
       "str"
      ]
     },
     "execution_count": 3,
     "metadata": {},
     "output_type": "execute_result"
    }
   ],
   "source": [
    "url = ''\n",
    "while True:\n",
    "    busqueda = str(input('ingrese el nombre o nombres, del producto en el que está interesado: '))\n",
    "    split_busqueda = busqueda.split()\n",
    "    if len(split_busqueda) > 1:\n",
    "        primera_parte_string = '-'.join(split_busqueda)\n",
    "        segunda_parte_string = '%20'.join(split_busqueda)\n",
    "        url = 'https://listado.mercadolibre.com.pe/'+ primera_parte_string +'#D[A:'+ segunda_parte_string +']'\n",
    "        #url = https://listado.mercadolibre.com.pe/     jamon                #D[A:    jamon]\n",
    "        print(url)\n",
    "        break\n",
    "    elif len(split_busqueda) == 1:\n",
    "        url = 'https://listado.mercadolibre.com.pe/'+ split_busqueda[0] +'#D[A:'+ split_busqueda[0] +']'\n",
    "        print(url)\n",
    "        break\n",
    "    else:\n",
    "        print('Incorrecto. No ha ingresado ningún nombre')"
   ]
  },
  {
   "cell_type": "code",
   "execution_count": null,
   "id": "a0c2fca3",
   "metadata": {},
   "outputs": [],
   "source": []
  },
  {
   "cell_type": "code",
   "execution_count": null,
   "id": "7236516b",
   "metadata": {},
   "outputs": [],
   "source": []
  },
  {
   "cell_type": "code",
   "execution_count": null,
   "id": "97312d22",
   "metadata": {},
   "outputs": [],
   "source": []
  },
  {
   "cell_type": "code",
   "execution_count": null,
   "id": "82ebafab",
   "metadata": {},
   "outputs": [],
   "source": []
  },
  {
   "cell_type": "code",
   "execution_count": null,
   "id": "b9d6d417",
   "metadata": {},
   "outputs": [],
   "source": []
  },
  {
   "cell_type": "code",
   "execution_count": null,
   "id": "1959143e",
   "metadata": {},
   "outputs": [],
   "source": []
  },
  {
   "cell_type": "code",
   "execution_count": null,
   "id": "26b52618",
   "metadata": {},
   "outputs": [],
   "source": []
  }
 ],
 "metadata": {
  "kernelspec": {
   "display_name": "Python 3",
   "language": "python",
   "name": "python3"
  },
  "language_info": {
   "codemirror_mode": {
    "name": "ipython",
    "version": 3
   },
   "file_extension": ".py",
   "mimetype": "text/x-python",
   "name": "python",
   "nbconvert_exporter": "python",
   "pygments_lexer": "ipython3",
   "version": "3.8.8"
  }
 },
 "nbformat": 4,
 "nbformat_minor": 5
}
