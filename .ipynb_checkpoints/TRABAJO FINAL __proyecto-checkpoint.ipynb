{
 "cells": [
  {
   "cell_type": "markdown",
   "id": "5f58b378",
   "metadata": {},
   "source": [
    "### Librerias"
   ]
  },
  {
   "cell_type": "code",
   "execution_count": 6,
   "id": "e7e5dfce",
   "metadata": {},
   "outputs": [],
   "source": [
    "## librerias\n",
    "import requests\n",
    "from bs4 import BeautifulSoup\n",
    "from lxml import etree"
   ]
  },
  {
   "cell_type": "markdown",
   "id": "8590d86d",
   "metadata": {},
   "source": [
    "### Ingresando el nombre del producto que se desea buscar en la pagina \"MERCADO LIBRE\"\n",
    "\n",
    "- Crearemos un objeto llamado \"url\" del tipo str.\n",
    "- Crearemos un bucle con la funcion While que nos permitira ingresar el nombre del producto cuantas veces deaseamos buscar.\n",
    "- Con la funsion split() dividiremos una cadena de una lista donde cada palabra es un elemento de la lista.\n",
    "- Si la longitud es mayor a uno pasara la condicional if.\n",
    "- Ahora buscaremos concatenar la url de la pagina mas el nombre del producto(primera y segunda parte del string) que es el     unico que cambia   en el transcurso de la busqueda (split_busqueda[0]), despues las otras partes del url de la pagina  permanesen constantes. \n",
    "- Nos imprimira la url ya concatenada y con la funsion break nos proporcionara la oportunidad de cerrar el bucle."
   ]
  },
  {
   "cell_type": "code",
   "execution_count": 7,
   "id": "40a2dfad",
   "metadata": {},
   "outputs": [
    {
     "name": "stdout",
     "output_type": "stream",
     "text": [
      "ingrese el nombre o nombres, del producto en el que está interesado: zapatos mocasines de hombre\n",
      "https://listado.mercadolibre.com.pe/zapatos-mocasines-de-hombre#D[A:zapatos%20mocasines%20de%20hombre]\n"
     ]
    }
   ],
   "source": [
    "url = ''\n",
    "while True:\n",
    "    busqueda = str(input('ingrese el nombre o nombres, del producto en el que está interesado: '))\n",
    "    split_busqueda = busqueda.split()\n",
    "    if len(split_busqueda) > 1:\n",
    "        primera_parte_string = '-'.join(split_busqueda)\n",
    "        segunda_parte_string = '%20'.join(split_busqueda)\n",
    "        url = 'https://listado.mercadolibre.com.pe/'+ primera_parte_string +'#D[A:'+ segunda_parte_string +']'\n",
    "        #url = https://listado.mercadolibre.com.pe/     jamon                #D[A:    jamon]\n",
    "        print(url)\n",
    "        break\n",
    "    elif len(split_busqueda) == 1:\n",
    "        url = 'https://listado.mercadolibre.com.pe/'+ split_busqueda[0] +'#D[A:'+ split_busqueda[0] +']'\n",
    "        print(url)\n",
    "        break\n",
    "    else:\n",
    "        print('Incorrecto. No ha ingresado ningún nombre')\n",
    "        \n",
    "\n",
    "#EJEMPLO1\n",
    "# https://listado.mercadolibre.com.pe/zapatos-mocasines-de-hombre#D[A:zapatos%20mocasines%20de%20hombre]\n",
    "# ingrese el nombre o nombres, del producto en el que está interesado:      zapatos mocasines de hombre\n",
    "\n",
    "#EJEMPLO2\n",
    "# https://listado.mercadolibre.com.pe/jamon#D[A:jamon]\n",
    "# ingrese el nombre o nombres, del producto en el que está interesado:        jamon\n",
    "\n",
    "#FUENTE BIBLIOGRÁFICA: https://blog.carreralinux.com.ar/2017/07/uso-split-y-join-python/"
   ]
  },
  {
   "cell_type": "code",
   "execution_count": 8,
   "id": "e0007a7c",
   "metadata": {},
   "outputs": [
    {
     "data": {
      "text/plain": [
       "200"
      ]
     },
     "execution_count": 8,
     "metadata": {},
     "output_type": "execute_result"
    }
   ],
   "source": [
    "r = requests.get(url)                              #Haciendo la Peticion o solicitud de la pagina web\n",
    "r.status_code                                      #Viendo el estado (200 es correcto)"
   ]
  },
  {
   "cell_type": "code",
   "execution_count": 9,
   "id": "1fc22a90",
   "metadata": {},
   "outputs": [],
   "source": [
    "soup = BeautifulSoup(r.content,\"html.parser\")      #Haciendo soup para extraer información de contenido en formato HTML\n",
    "#soup"
   ]
  },
  {
   "cell_type": "markdown",
   "id": "43c55626",
   "metadata": {},
   "source": [
    "## Obteniendo los títulos de los productos"
   ]
  },
  {
   "cell_type": "code",
   "execution_count": 10,
   "id": "5a6b6453",
   "metadata": {},
   "outputs": [],
   "source": [
    "# Me dara todos los TITULOS del producto (como una lista)\n",
    "titulos = soup.find_all(\"h2\",attrs={\"class\":\"ui-search-item__title\"})\n",
    "#titulos             # 100pre\n",
    "#titulos[0].text    # solo imprimira el texto"
   ]
  },
  {
   "cell_type": "code",
   "execution_count": 12,
   "id": "3b3bcd80",
   "metadata": {},
   "outputs": [],
   "source": [
    "#titulos = [i.text for i in titulos] # NOTA: SOLO SE PUEDE CORRER ESTA FUNCION UNA (1) VEZ\n",
    "print(titulos)"
   ]
  },
  {
   "cell_type": "markdown",
   "id": "79501bb8",
   "metadata": {},
   "source": [
    "## Obteniendo sus respectivas url's"
   ]
  },
  {
   "cell_type": "code",
   "execution_count": 13,
   "id": "eeaed128",
   "metadata": {},
   "outputs": [],
   "source": [
    "# Obteniendo las URL de cada producto \n",
    "urls = soup.find_all(\"a\",attrs={\"class\":\"ui-search-result__content ui-search-link\"})\n",
    "urls = [i.get(\"href\") for i in urls]\n",
    "\n",
    "if len(urls) == 0:\n",
    "    urls = soup.find_all(\"a\", class_=\"ui-search-item__group__element ui-search-link\")\n",
    "    urls = [i.get(\"href\") for i in urls]\n",
    "\n",
    "# Cantidad de URLS\n",
    "#print(len(urls))"
   ]
  },
  {
   "cell_type": "code",
   "execution_count": 14,
   "id": "6e6fa718",
   "metadata": {},
   "outputs": [],
   "source": [
    "# Obteniendo URL de cada producto\n",
    "print(urls)\n"
   ]
  },
  {
   "cell_type": "code",
   "execution_count": 17,
   "id": "83e46e16",
   "metadata": {},
   "outputs": [],
   "source": [
    "# De una forma mas ordenada y para verificar que la cantidad de URLS sea la correcta:\n",
    "x=0\n",
    "for x in range(len(urls)):\n",
    "    print('Link numero',x+1,':')\n",
    "    print(urls[x])\n",
    "#    x==x+1"
   ]
  },
  {
   "cell_type": "markdown",
   "id": "8b088d33",
   "metadata": {},
   "source": [
    "## Scrapeando Precios de los productos"
   ]
  },
  {
   "cell_type": "code",
   "execution_count": 21,
   "id": "b60b40a6",
   "metadata": {},
   "outputs": [],
   "source": [
    "precios = []                  # Creamos una lista vacio para luego poder agregar los precios de todos los productos  \n",
    "#type(precios)                # Siempre es bueno estar corroborando con que tipo de objeto trabajamos "
   ]
  },
  {
   "cell_type": "code",
   "execution_count": null,
   "id": "ff570736",
   "metadata": {},
   "outputs": [],
   "source": []
  }
 ],
 "metadata": {
  "kernelspec": {
   "display_name": "Python 3",
   "language": "python",
   "name": "python3"
  },
  "language_info": {
   "codemirror_mode": {
    "name": "ipython",
    "version": 3
   },
   "file_extension": ".py",
   "mimetype": "text/x-python",
   "name": "python",
   "nbconvert_exporter": "python",
   "pygments_lexer": "ipython3",
   "version": "3.8.8"
  }
 },
 "nbformat": 4,
 "nbformat_minor": 5
}
