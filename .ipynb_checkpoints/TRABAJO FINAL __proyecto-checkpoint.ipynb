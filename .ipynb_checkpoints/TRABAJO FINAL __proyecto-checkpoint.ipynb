{
 "cells": [
  {
   "cell_type": "markdown",
   "id": "5f58b378",
   "metadata": {},
   "source": [
    "### Librerias"
   ]
  },
  {
   "cell_type": "code",
   "execution_count": 1,
   "id": "e7e5dfce",
   "metadata": {},
   "outputs": [],
   "source": [
    "## librerias\n",
    "import requests\n",
    "from bs4 import BeautifulSoup\n",
    "from lxml import etree"
   ]
  },
  {
   "cell_type": "markdown",
   "id": "8590d86d",
   "metadata": {},
   "source": [
    "### Ingresando el nombre del producto que se desea buscar en la pagina \"MERCADO LIBRE\"\n",
    "\n",
    "- Crearemos un objeto llamado \"url\" del tipo str.\n",
    "- Crearemos un bucle con la funcion While que nos permitira ingresar el nombre del producto cuantas veces deaseamos buscar.\n",
    "- Con la funsion split() dividiremos una cadena de una lista donde cada palabra es un elemento de la lista.\n",
    "- Si la longitud es mayor a uno pasara la condicional if.\n",
    "- Ahora buscaremos concatenar la url de la pagina mas el nombre del producto(primera y segunda parte del string) que es el     unico que cambia   en el transcurso de la busqueda (split_busqueda[0]), despues las otras partes del url de la pagina  permanesen constantes. \n",
    "- Nos imprimira la url ya concatenada y con la funsion break nos proporcionara la oportunidad de cerrar el bucle."
   ]
  },
  {
   "cell_type": "code",
   "execution_count": 2,
   "id": "40a2dfad",
   "metadata": {},
   "outputs": [
    {
     "name": "stdout",
     "output_type": "stream",
     "text": [
      "ingrese el nombre o nombres, del producto en el que está interesado: zapatos mocasines de hombre\n",
      "https://listado.mercadolibre.com.pe/zapatos-mocasines-de-hombre#D[A:zapatos%20mocasines%20de%20hombre]\n"
     ]
    }
   ],
   "source": [
    "url = ''\n",
    "while True:\n",
    "    busqueda = str(input('ingrese el nombre o nombres, del producto en el que está interesado: '))\n",
    "    split_busqueda = busqueda.split()\n",
    "    if len(split_busqueda) > 1:\n",
    "        primera_parte_string = '-'.join(split_busqueda)\n",
    "        segunda_parte_string = '%20'.join(split_busqueda)\n",
    "        url = 'https://listado.mercadolibre.com.pe/'+ primera_parte_string +'#D[A:'+ segunda_parte_string +']'\n",
    "        #url = https://listado.mercadolibre.com.pe/     jamon                #D[A:    jamon]\n",
    "        print(url)\n",
    "        break\n",
    "    elif len(split_busqueda) == 1:\n",
    "        url = 'https://listado.mercadolibre.com.pe/'+ split_busqueda[0] +'#D[A:'+ split_busqueda[0] +']'\n",
    "        print(url)\n",
    "        break\n",
    "    else:\n",
    "        print('Incorrecto. No ha ingresado ningún nombre')\n",
    "        \n",
    "\n",
    "#EJEMPLO1\n",
    "# https://listado.mercadolibre.com.pe/zapatos-mocasines-de-hombre#D[A:zapatos%20mocasines%20de%20hombre]\n",
    "# ingrese el nombre o nombres, del producto en el que está interesado:      zapatos mocasines de hombre\n",
    "\n",
    "#EJEMPLO2\n",
    "# https://listado.mercadolibre.com.pe/jamon#D[A:jamon]\n",
    "# ingrese el nombre o nombres, del producto en el que está interesado:        jamon\n",
    "\n",
    "#FUENTE BIBLIOGRÁFICA: https://blog.carreralinux.com.ar/2017/07/uso-split-y-join-python/"
   ]
  },
  {
   "cell_type": "code",
   "execution_count": 3,
   "id": "e0007a7c",
   "metadata": {},
   "outputs": [
    {
     "data": {
      "text/plain": [
       "200"
      ]
     },
     "execution_count": 3,
     "metadata": {},
     "output_type": "execute_result"
    }
   ],
   "source": [
    "r = requests.get(url)                              #Haciendo la Peticion o solicitud de la pagina web\n",
    "r.status_code                                      #Viendo el estado (200 es correcto)"
   ]
  },
  {
   "cell_type": "code",
   "execution_count": 4,
   "id": "1fc22a90",
   "metadata": {},
   "outputs": [],
   "source": [
    "soup = BeautifulSoup(r.content,\"html.parser\")      #Haciendo soup para extraer información de contenido en formato HTML\n",
    "#soup"
   ]
  },
  {
   "cell_type": "markdown",
   "id": "43c55626",
   "metadata": {},
   "source": [
    "## Obteniendo los títulos de los productos"
   ]
  },
  {
   "cell_type": "code",
   "execution_count": 5,
   "id": "5a6b6453",
   "metadata": {},
   "outputs": [
    {
     "data": {
      "text/plain": [
       "[<h2 class=\"ui-search-item__title ui-search-item__group__element\">Mocasines Casuales Hawai Negro - Fakers</h2>,\n",
       " <h2 class=\"ui-search-item__title ui-search-item__group__element\">Zapatos Caterpillar Kennedy De Hombre </h2>,\n",
       " <h2 class=\"ui-search-item__title ui-search-item__group__element\">Zapatos Mocasines De Hombre Cat 100% De Cuero</h2>,\n",
       " <h2 class=\"ui-search-item__title ui-search-item__group__element\">Semi Botín Caterpillar De Hombre Chavito </h2>,\n",
       " <h2 class=\"ui-search-item__title ui-search-item__group__element\">Zapatillas Caterpillar Warrant De Hombre </h2>,\n",
       " <h2 class=\"ui-search-item__title ui-search-item__group__element\">Zapatos Formales Berlin Negro - Fakers</h2>,\n",
       " <h2 class=\"ui-search-item__title ui-search-item__group__element\">Zapatos Casuales Kemer Negro - Fakers</h2>,\n",
       " <h2 class=\"ui-search-item__title ui-search-item__group__element\">Zapatos De Hombre Caterpillar De Cuero Legítimo Moda</h2>,\n",
       " <h2 class=\"ui-search-item__title ui-search-item__group__element\">Zapatos Caterpillar Duo Para Parejas </h2>,\n",
       " <h2 class=\"ui-search-item__title ui-search-item__group__element\">Zapato De Hombre Cuero,mocasines De Hombre</h2>,\n",
       " <h2 class=\"ui-search-item__title ui-search-item__group__element\">Zapatos Formales Kalvin Tang - Fakers</h2>,\n",
       " <h2 class=\"ui-search-item__title ui-search-item__group__element\">Zapatos Casuales Midway Olivo - Fakers</h2>,\n",
       " <h2 class=\"ui-search-item__title ui-search-item__group__element\">Calzado Zapatos Jóvenes Puro Cuero Tallas 39/43 Bmshoes New</h2>,\n",
       " <h2 class=\"ui-search-item__title ui-search-item__group__element\">Mocasines De Hombre Moda Urbana</h2>,\n",
       " <h2 class=\"ui-search-item__title ui-search-item__group__element\">Zapatos Casuales Venecia Negro - Fakers</h2>,\n",
       " <h2 class=\"ui-search-item__title ui-search-item__group__element\">Zapatos Caterpillar De Hombre 100% Cuero Original</h2>,\n",
       " <h2 class=\"ui-search-item__title ui-search-item__group__element\">Zapatos Cat De Hombre Puro Cuero </h2>,\n",
       " <h2 class=\"ui-search-item__title ui-search-item__group__element\">Zapato Para Hombre De Cuero,mocasin De Hombre</h2>,\n",
       " <h2 class=\"ui-search-item__title ui-search-item__group__element\">Zapato Talla 38 Pierre Cardin Cuero Mocasin</h2>,\n",
       " <h2 class=\"ui-search-item__title ui-search-item__group__element\">Zapatos Mocasines Para Hombre Marca Levis Importado De Usa</h2>,\n",
       " <h2 class=\"ui-search-item__title ui-search-item__group__element\">Zapatos Formales Kalvin Tang - Fakers</h2>,\n",
       " <h2 class=\"ui-search-item__title ui-search-item__group__element\">Zapato Escolar De Varon  Jacobo Pasador Venus 100%cuero</h2>,\n",
       " <h2 class=\"ui-search-item__title ui-search-item__group__element\">Zapatos Formales Berlin Negro - Fakers</h2>,\n",
       " <h2 class=\"ui-search-item__title ui-search-item__group__element\">Zapatos Hombre Casual Exclusivo Reforzado Negro 38-39, 42-43</h2>,\n",
       " <h2 class=\"ui-search-item__title ui-search-item__group__element\">Calzado Zapatos Mocasín Topsider P Cuero Talla 39/43 Bmshoes</h2>,\n",
       " <h2 class=\"ui-search-item__title ui-search-item__group__element\">Zapatos Caterpillar De Hombre 100% Cuero</h2>,\n",
       " <h2 class=\"ui-search-item__title ui-search-item__group__element\">Zapatos Formales Alonso Ju Marrón - Fakers</h2>,\n",
       " <h2 class=\"ui-search-item__title ui-search-item__group__element\">Zapatos De Hombre</h2>,\n",
       " <h2 class=\"ui-search-item__title ui-search-item__group__element\">Zapatos De Cuero Caterpillar Hombre</h2>,\n",
       " <h2 class=\"ui-search-item__title ui-search-item__group__element\">Zapatos De Hombre Caterpillar 100% Cuero</h2>,\n",
       " <h2 class=\"ui-search-item__title ui-search-item__group__element\">Zapato De Hombre,mocasines De Hombre</h2>,\n",
       " <h2 class=\"ui-search-item__title ui-search-item__group__element\">Zapato Escolar De Varon Venus Tomas Mocasín 100% Cuero</h2>,\n",
       " <h2 class=\"ui-search-item__title ui-search-item__group__element\">Zapatos Formales Cassano Marrón - Fakers</h2>,\n",
       " <h2 class=\"ui-search-item__title ui-search-item__group__element\">Zapato De Hombre, Mocasin De Hombre De Cuero</h2>,\n",
       " <h2 class=\"ui-search-item__title ui-search-item__group__element\">Zapatos Formales Kalvin Marrón - Fakers</h2>,\n",
       " <h2 class=\"ui-search-item__title ui-search-item__group__element\">Zapatos Formales Tristan Cobre - Fakers</h2>,\n",
       " <h2 class=\"ui-search-item__title ui-search-item__group__element\">Zapatos Formales Donald Nutria - Fakers</h2>,\n",
       " <h2 class=\"ui-search-item__title ui-search-item__group__element\">Zapatos Formales Emanuel Negro - Fakers</h2>,\n",
       " <h2 class=\"ui-search-item__title ui-search-item__group__element\">Zapatos Caterpillar Hombre 100% Cuero </h2>,\n",
       " <h2 class=\"ui-search-item__title ui-search-item__group__element\">Zapatos Casuales Paris Olivo - Fakers</h2>,\n",
       " <h2 class=\"ui-search-item__title ui-search-item__group__element\">Zapatos Formales Field Habano - Fakers</h2>,\n",
       " <h2 class=\"ui-search-item__title ui-search-item__group__element\">Zapatos Casuales Midway Olivo - Fakers</h2>,\n",
       " <h2 class=\"ui-search-item__title ui-search-item__group__element\">Zapatos Caterpillar 100% Cuero Original Nuevo Modelo </h2>,\n",
       " <h2 class=\"ui-search-item__title ui-search-item__group__element\">Zapatos De Hombre Moda Casual</h2>,\n",
       " <h2 class=\"ui-search-item__title ui-search-item__group__element\">Zapatos Caterpillar Kennedy De Hombre</h2>,\n",
       " <h2 class=\"ui-search-item__title ui-search-item__group__element\">Zapatillas Nike Tipo Mocasines Original Modelo Toki</h2>,\n",
       " <h2 class=\"ui-search-item__title ui-search-item__group__element\">Zapatos Formales Field Negro - Fakers</h2>,\n",
       " <h2 class=\"ui-search-item__title ui-search-item__group__element\">Zapatos Casuales Paris Azul - Fakers</h2>,\n",
       " <h2 class=\"ui-search-item__title ui-search-item__group__element\">Zapatos Casuales Andrew Azulino - Fakers</h2>,\n",
       " <h2 class=\"ui-search-item__title ui-search-item__group__element\">Calzado Zapatos Jóvenes Liso Puro Cuero Tallas 39/43 Bmshoes</h2>,\n",
       " <h2 class=\"ui-search-item__title ui-search-item__group__element\">Zapatos Formales Arnolds Marrón - Fakers</h2>,\n",
       " <h2 class=\"ui-search-item__title ui-search-item__group__element\">Mocasines Casuales Hawai Negro - Fakers</h2>,\n",
       " <h2 class=\"ui-search-item__title ui-search-item__group__element\">Zapatos Casuales Venecia Marron - Fakers</h2>,\n",
       " <h2 class=\"ui-search-item__title ui-search-item__group__element\">Zapato Escolar De Varon Modelo Munich Venus 100% Cuero</h2>]"
      ]
     },
     "execution_count": 5,
     "metadata": {},
     "output_type": "execute_result"
    }
   ],
   "source": [
    "# Me dara todos los TITULOS del producto (como una lista)\n",
    "titulos = soup.find_all(\"h2\",attrs={\"class\":\"ui-search-item__title\"})\n",
    "titulos             # 100pre\n",
    "#titulos[0].text    # solo imprimira el texto"
   ]
  },
  {
   "cell_type": "code",
   "execution_count": 6,
   "id": "3b3bcd80",
   "metadata": {},
   "outputs": [
    {
     "name": "stdout",
     "output_type": "stream",
     "text": [
      "['Mocasines Casuales Hawai Negro - Fakers', 'Zapatos Caterpillar Kennedy De Hombre ', 'Zapatos Mocasines De Hombre Cat 100% De Cuero', 'Semi Botín Caterpillar De Hombre Chavito ', 'Zapatillas Caterpillar Warrant De Hombre ', 'Zapatos Formales Berlin Negro - Fakers', 'Zapatos Casuales Kemer Negro - Fakers', 'Zapatos De Hombre Caterpillar De Cuero Legítimo Moda', 'Zapatos Caterpillar Duo Para Parejas ', 'Zapato De Hombre Cuero,mocasines De Hombre', 'Zapatos Formales Kalvin Tang - Fakers', 'Zapatos Casuales Midway Olivo - Fakers', 'Calzado Zapatos Jóvenes Puro Cuero Tallas 39/43 Bmshoes New', 'Mocasines De Hombre Moda Urbana', 'Zapatos Casuales Venecia Negro - Fakers', 'Zapatos Caterpillar De Hombre 100% Cuero Original', 'Zapatos Cat De Hombre Puro Cuero ', 'Zapato Para Hombre De Cuero,mocasin De Hombre', 'Zapato Talla 38 Pierre Cardin Cuero Mocasin', 'Zapatos Mocasines Para Hombre Marca Levis Importado De Usa', 'Zapatos Formales Kalvin Tang - Fakers', 'Zapato Escolar De Varon  Jacobo Pasador Venus 100%cuero', 'Zapatos Formales Berlin Negro - Fakers', 'Zapatos Hombre Casual Exclusivo Reforzado Negro 38-39, 42-43', 'Calzado Zapatos Mocasín Topsider P Cuero Talla 39/43 Bmshoes', 'Zapatos Caterpillar De Hombre 100% Cuero', 'Zapatos Formales Alonso Ju Marrón - Fakers', 'Zapatos De Hombre', 'Zapatos De Cuero Caterpillar Hombre', 'Zapatos De Hombre Caterpillar 100% Cuero', 'Zapato De Hombre,mocasines De Hombre', 'Zapato Escolar De Varon Venus Tomas Mocasín 100% Cuero', 'Zapatos Formales Cassano Marrón - Fakers', 'Zapato De Hombre, Mocasin De Hombre De Cuero', 'Zapatos Formales Kalvin Marrón - Fakers', 'Zapatos Formales Tristan Cobre - Fakers', 'Zapatos Formales Donald Nutria - Fakers', 'Zapatos Formales Emanuel Negro - Fakers', 'Zapatos Caterpillar Hombre 100% Cuero ', 'Zapatos Casuales Paris Olivo - Fakers', 'Zapatos Formales Field Habano - Fakers', 'Zapatos Casuales Midway Olivo - Fakers', 'Zapatos Caterpillar 100% Cuero Original Nuevo Modelo ', 'Zapatos De Hombre Moda Casual', 'Zapatos Caterpillar Kennedy De Hombre', 'Zapatillas Nike Tipo Mocasines Original Modelo Toki', 'Zapatos Formales Field Negro - Fakers', 'Zapatos Casuales Paris Azul - Fakers', 'Zapatos Casuales Andrew Azulino - Fakers', 'Calzado Zapatos Jóvenes Liso Puro Cuero Tallas 39/43 Bmshoes', 'Zapatos Formales Arnolds Marrón - Fakers', 'Mocasines Casuales Hawai Negro - Fakers', 'Zapatos Casuales Venecia Marron - Fakers', 'Zapato Escolar De Varon Modelo Munich Venus 100% Cuero']\n"
     ]
    }
   ],
   "source": [
    "titulos = [i.text for i in titulos] # NOTA: SOLO SE PUEDE CORRER ESTA FUNCION UNA (1) VEZ\n",
    "print(titulos)"
   ]
  },
  {
   "cell_type": "markdown",
   "id": "79501bb8",
   "metadata": {},
   "source": [
    "## Obteniendo sus respectivas url's"
   ]
  },
  {
   "cell_type": "code",
   "execution_count": 7,
   "id": "eeaed128",
   "metadata": {},
   "outputs": [
    {
     "name": "stdout",
     "output_type": "stream",
     "text": [
      "54\n"
     ]
    }
   ],
   "source": [
    "# Obteniendo las URL de cada producto \n",
    "urls = soup.find_all(\"a\",attrs={\"class\":\"ui-search-result__content ui-search-link\"})\n",
    "urls = [i.get(\"href\") for i in urls]\n",
    "\n",
    "if len(urls) == 0:\n",
    "    urls = soup.find_all(\"a\", class_=\"ui-search-item__group__element ui-search-link\")\n",
    "    urls = [i.get(\"href\") for i in urls]\n",
    "\n",
    "# Cantidad de URLS\n",
    "print(len(urls))"
   ]
  },
  {
   "cell_type": "code",
   "execution_count": 12,
   "id": "6e6fa718",
   "metadata": {},
   "outputs": [
    {
     "name": "stdout",
     "output_type": "stream",
     "text": [
      "['https://click1.mercadolibre.com.pe/mclics/clicks/external/MPE/count?a=cDyWAs2sZs8dQyT3JAQ0H%2BJ7i0GL%2FDTgChslMjYDac3eVylREAv0a06aa1SaHqpAtDcztq3Rok5OEDC5Fs6RSwp0cF%2F4vx%2FsZPW2gqxYmFsia%2FmH9Emy%2F93dKmsYwV6%2FHufElc4YnxhD%2BrdiQ0nCa0pglHVcHJaF6OBJjSRolNkgIW8OTowj2b3OZjyHYIxbAhUrJtXK7BK6GRcvt%2F1XlB4jEKrCKIg6SD8a6ql6BGJea6gS1W4uf1E8pgbhhVlZuxKIJy52k5x5z3MCkPTZzurMjpSpU0FNANWCrcSGnJol4arP7ih7UOj28gxMqmJmMLpTZbexiPwGMg4JjEdaVMq7lxDTZMdIBriI08ier%2FR%2F%2Be8gACp4oR0mnnT8I1FubkxSSkLHrCFY8yaSZRg9HswrUqhtjDrmAP1U857txf2NGDmPZZ0xEYa21rtl1DjaZBRxC6LnOWfIoS1pbpQXAcUTV1Hu79I1LVVZNYUFSQfm8mqpBQdgSDamCQYO8GzU60%2FnUeed5sFoyi4j%2BJcVsFVhenEmeWuTbxV5qJqqnwo5o6L8HANjf9hbHPRgUlrN4QY1W%2BsxRm44RPAgzcoFcRqQ0X5rjeT1n92NfbQsHnnberj6wjBYzvMdgj8U4VV2%2B3tlp4Z7cCkqIw5johnpABus8h7AbpXyTRFU9RjZg7zgpMQEXUF2b%2F9jWUbWxLXeepthAqJwvo7H28H8JBfhg%2FPf%2BuyA6HyCn%2BWChyU7SJABiX1II9eEX%2BkKR4FS8hFvzL0cZwbfgmh1bugZHPTVxeYI7nCi7FHlnlGbiaz0Dc7p4WDBEw7LNG3GJ5%2BhkM%2BB87aeJMweqzJuQyg5uaivtKuS4GReDZEm6PDX%2BS%2FmQNwHFNZgW0DOmsN68cuOd%2BMEMgfY4lVLBWxGY9XRXVyWpZb0wX83Rxkfau%2FVU2o4O5t0m2FF9ThRPBw5kzZUZhnK%2F25yR7dL2o8%2FSn4ZyyhQ6XqTne3zqDh5GEgW75cOGVsNtVjXK7XHQ%2BO8yJoyBtdxmfGZYc1EwVIqzRujxiSs%2BYXwQIIoNIrvwB1i%2BNLzmd2VT1lw%2FMFf%2FGitTrn9S775qihS4NWcHbX9DamskjVg2kco0cIdH5npH3hvHnN0NSp0J7WInxpIGqqXOe0oN3zXAs7xpC3CbnmpmFCIrYkKSvGXtBx26xaiDMO2pXpd4qv4a6d2bQS1mqKAde2C73e0yk%2FNOXrf%2FARxymHVrhj%2B9KM3KNA3G6kY1vEgaHLU9hjnCSshReyUC7Gn4QJDYsF%2BT%2Fd6NgxI%2BdMDlzXYYa7tfCOD9pLiv8Mr6A9bIeqB3m1JANqQIrPX7mtB9%2BZCOJtdbLMJ7Muaf2feFU4OdNwkPUGBxycl93u2hre1MHTP4HCl0STkUR9smsQOUMFytrfFAgWivZ%2FJuHiGMRgCvaj0P7wjjMoEjad5uy%2F5STRoDjdfAN5tk42FjAVvwhCnmfvJkB3iwI34KJsFpqPpfm0WBMw3PnL18CE5uVibGQCPI2SXcoL3LViYIVM4vjkMifQ2LeQ0MAAVhmTQG7Ehr%2FpcyCwWxy5drTY7ov%2Fp%2F94MzwGFKnioWjDrT7OO1rSMPkwzjMgBmX44sDvh9T7cRmmwA86%2BvS89I5GyCDgLu0IUxhMUpQFBkPB3ltZhGfBDFkhZG%2BTH8iQHKP3PyCGzH2wacMEqO2sy2Qv4%2Bi2dxJrVrg0XjhUYJLPnV1duqfzqkiclFr7uBlbkBJE%3D&rb=x', 'https://articulo.mercadolibre.com.pe/MPE-446724105-zapatos-caterpillar-kennedy-de-hombre-_JM?searchVariation=90375580188#searchVariation=90375580188&position=2&search_layout=grid&type=item&tracking_id=bf38fac2-aa04-49a5-ba7c-15fa9367ca1d', 'https://articulo.mercadolibre.com.pe/MPE-447015792-zapatos-mocasines-de-hombre-cat-100-de-cuero-_JM?searchVariation=173605449883#searchVariation=173605449883&position=3&search_layout=grid&type=item&tracking_id=bf38fac2-aa04-49a5-ba7c-15fa9367ca1d', 'https://articulo.mercadolibre.com.pe/MPE-446797976-semi-botin-caterpillar-de-hombre-chavito-_JM?searchVariation=173566698565#searchVariation=173566698565&position=4&search_layout=grid&type=item&tracking_id=bf38fac2-aa04-49a5-ba7c-15fa9367ca1d', 'https://articulo.mercadolibre.com.pe/MPE-447007362-zapatillas-caterpillar-warrant-de-hombre-_JM?searchVariation=173964411872#searchVariation=173964411872&position=5&search_layout=grid&type=item&tracking_id=bf38fac2-aa04-49a5-ba7c-15fa9367ca1d', 'https://articulo.mercadolibre.com.pe/MPE-441423837-zapatos-formales-berlin-negro-fakers-_JM?searchVariation=65440774000#searchVariation=65440774000&position=6&search_layout=grid&type=item&tracking_id=bf38fac2-aa04-49a5-ba7c-15fa9367ca1d', 'https://articulo.mercadolibre.com.pe/MPE-441446191-zapatos-casuales-kemer-negro-fakers-_JM?searchVariation=73287430817#searchVariation=73287430817&position=7&search_layout=grid&type=item&tracking_id=bf38fac2-aa04-49a5-ba7c-15fa9367ca1d', 'https://articulo.mercadolibre.com.pe/MPE-603562246-zapatos-de-hombre-caterpillar-de-cuero-legitimo-moda-_JM?searchVariation=174059237981#searchVariation=174059237981&position=8&search_layout=grid&type=item&tracking_id=bf38fac2-aa04-49a5-ba7c-15fa9367ca1d', 'https://articulo.mercadolibre.com.pe/MPE-447005828-zapatos-caterpillar-duo-para-parejas-_JM?searchVariation=173964950059#searchVariation=173964950059&position=9&search_layout=grid&type=item&tracking_id=bf38fac2-aa04-49a5-ba7c-15fa9367ca1d', 'https://articulo.mercadolibre.com.pe/MPE-430839593-zapato-de-hombre-cueromocasines-de-hombre-_JM?searchVariation=72974300850#searchVariation=72974300850&position=10&search_layout=grid&type=item&tracking_id=bf38fac2-aa04-49a5-ba7c-15fa9367ca1d', 'https://click1.mercadolibre.com.pe/mclics/clicks/external/MPE/count?a=kalZX2Iz5iwQ9cArF2R1H6NPwhqaEaNOM10v9MWKpQsGsnE2DaPLV62gF9Wt86u4c0AKS7zWHr5dVKnaaEWS6bvqSpIK7sjvgykhWQfhsIlJAiqLthPfL%2FHWYpzMeI6Lh%2FU0MrNSqtIaPhZLlKGx8ht5FJbpz3PWPLBNnPN%2BBkgIdpULObMKzGp9%2Bu9dgM%2BBHWPsJ4vmdJBlTGq32cGxomA8Qf2%2FmiKLQA0bnyHmROUJPTzxfAw%2BqySQem1XOCEmYU2fK6wOsRPgd8BYbjwOKtQZcsCuxnOtmIc4IpQeO1O2XKRo0nUZIx5LMz%2BNzvqYBaAjwnygadoXM0m%2FwbmVrXBT3Y67jTIPsa7on2%2FLwCg1toql327bOcdlh1DrH2ROMmEMdOUNWod7peCHrnvbh6uK%2FnwcjhezSI%2BEOPXvnaAaIjzhjEFXBLoZxH%2BkMv91qOUwjcnEtD%2FVZMxdgjdnOeCDHxHHBdkx7CQr4DPAVr103Bd9Qm7Eqkpza%2FYsUox%2Ft6CXxgIAMB2xbjTGOomQdvq27Xo3NCi4MOU%2B95jRksDoncv6hW2qCmhURwimCrunPaxagq%2BI7y%2B3vW0%2BabCnFvYx59vM%2FoStfJpt%2FgnCnIy4wFkZeORPMCBbMS9EbO9ioyVw4c99rzKlrWnJjzZc9Ky5xi%2FTLXBJ8VRTsKHrEt%2FCTUQuGN0g5rWwwBbKDuSpr4AnIfghGhGAN1SPyM03pQRe5yzk6neIv6iS9Emoscs%2Fiu5UfNyXteEwiEWGb%2FoUyvGueRhdxeoocEf8S2QSkkuTPXjPJ0KFeREEx%2BJhdWUOMh2Mph74vQ0ypUytEXsz5vTLLeY4tOoAE9HaQdqwCYKn7ni65Ckfh4I48yebYbOX0oRR0DB0qH2Q2cyetjTThc%2B9PfCjs1dLe%2FX6XOm7uRWc8P99bH05cTONM5N6LL4Xm%2BvGnEOADC8nDl3ECaMQKRwXDsdOoQmYC2sF3vwHfwSfgffQrjJtXPmqObZ1OSdIumJ9eAOx%2FOIEotwPnFhs6sjsOpr0IiiUScVvFPR5XqyEoLEErAcMmNFgPMvPWqDBPsFuHzV%2B3JN%2F7LaHI7CPr5jVkzcO6Z06BKZVhP5N98Xp9dIPPy%2BCwWdu9P8CxhQ05Be0LCtxKZiKz2IlLTjonPoREO8qOOxZ2joEUWeQGOxG7LDjvaHkJ9Mv5ubgUKEaxh8cAF%2Bhnm87uoei0suXY9A10zPQrXGqcaKVuA0ac9LtEwAEtsgGg0NeY4QaItdxevcDB%2BAzILg7we0V7SbtDLD6hoWfTU43a598YrNC20uHeo5on%2Bm2x%2BqwRnRnRnFbuqRwPwJ0c2fRvNo75337q9Qe5lzJ%2FwpT7dRdDZMbcjL9ZFZ0qpPYU6DJP6Ff60icOWPX7BSzj6Ypeuco6JZ15iEXW4sqtM7Kbo0TgMAdW1nGr3pdVaPcytVRR3ouDioZRfY7VP8JfmBhQFrqmn4YBm82abQJXi6GJitdrBp2u%2FmSg%2BlSkYu5lwMGiynYY1EaL0Dqkq4Do9JCQ6ADcEwC9ggnNPvqdfNiEUyLVcoQMOqnsncyPvtM5jRGXhvfsmI8dfgpWLzwj%2F83PsWXnL6jTLpiC4DSRuO0TenJFRu5msozYcqPaD%2B9dPRBkTFK0rXAZWydP5O%2FLTJVfRHOAaSZrn48FGWvGaXLyQf7j90XcHIQ6JPkYeVekUvYpRatoyyg%2FpxEoFLzcKQvV1TVPPruDcNgP2ziFZBB&rb=x', 'https://click1.mercadolibre.com.pe/mclics/clicks/external/MPE/count?a=TeAaIFDQf%2FIMC5eYylLcwAfFhbJXU2ckia32ISrJPYGp2WfVGhVhBxETFuIHWJgvmIAK5RaBEththa1pCji7lHGON5HcWUWsEF6LcaBAi4zhovvDouchcNNimyGxTrArem9fyE1KQWO8nVnmBgdh6FJn%2BWqNS%2BOsVhPYRjsYxK6fqzD0agdTl6pfg5Ye3O2k21%2FNyktP%2Bs%2B1pOMA%2FHCDBL0t%2FdpRWV0SQaDh8XYq1fWG9R3t%2FhntvgZtuD87MbC8%2F6iAMEjTqVFSQO2Z3j54iBOQg0DGmvfLq77l6qi25APHoOpmQGzUOga8ffqOPaD7Mpdn%2BJ%2FoOViwNRn06we4Mgzh3%2FlGKhSISs1Zo53OTLEPiwUDSLDwLoaPPpZPuqyAua1ZOBJ57MQFfFHZI%2B0k2HmmNixE%2BaFopgZIbAe%2BF%2FrQuugFfYFFUc4QJDMhwZk%2FWsUmbc9ogPQo4fJXKQ9QdD51hActCK%2FmXqZqOuCw%2Fr%2F0Qbl5MOcPzMM43%2B9R2Kk2S8HrSjC6N2A47Ie56tdshiZJcSo7bQJUlVFZhcanLIaGbohbA1bbo%2Fo1KDutsFKgqEq1psG7t0DeRez3IcYZ2guko8Oz24ktJ4aqBkC%2BKqdIQRhRb8uZV%2BF6T3EKW50RUTVO0RbEr9rKCxlsnPQu9K6lAs03R%2BOusLmBJ9BKvsKQrUUo3LL8FzunrQwhEMsWF%2FKtvLER%2Fe1ZLDnWZClB%2FzdwNu%2FlvLdlEEEcUm%2FeQzL%2BoPFlqDMbeljC4ZSN1yZxzwhbs5lYU2Pfh5V9M803VinHi8vWDg%2F38cXwxtlCXSjkrsgSjFL%2FmJ%2FsM0vhBl9ZqHn1JHNUl4jV3QjXXOGYvfWDno4fsw%2Fo8IikEppeqYc2WqCEwpKUm%2B42UFDEcSf4KJioZoXzmdGRh49LJaq2zU%2F8105JE8yP14OY6ZjoVKTnRj9T%2B8DozNNs%2FgWzYP2Lg5YLUo398TDzREI%2BXSsusekmxI%2BCtNAkV0XE1sx0mk543M%2FyuZ5Ag%2FVqbu9HLXeCFOWvNNex58g9iqLV%2FAilWJ1eHs%2Bplz7hQlnWib1savgXHJlJlgFP8wn%2FlGyE0M0MgByQV8%2FcjtOb3%2BReKLbVp6zPzlL5tGiCMmGYzzA0u9dKRbiz%2BNuc4rAKkxoHK4%2FiqMv8tIxV%2Bdd1wrp4BZ4UJ6TYjbH7IZeL%2BmQsYsajFed4ILq6vTOHXk7FRKRZKKVWKdDuN9FLwfNBqy0jUOA4R%2FAxTlDfklWSN55%2BS%2BbJSedvYI7JJOBHE%2F7OI1reAunG1Cxs74HArLeqdijsLBag77Y9u31IRCgyz9uH5GrspnrFaCyntMkkLAhXqdvizgNp8dMU1RycM%2Bxk7NWpSmG2HzmYcE429drmoDi%2BKVOK2VGH105%2FNQepryt7tAkIcSYZfiacvyKwwUZGMS7Oy20B%2FgqVhn2gkrS7viS8000szsneNNss65b%2FyfTSy1d8jG32WFX385mQ5nYFtMWz0rgytSQwXfFoCyvGOXspjsOqeXR59ohHHcLdd6%2BTTagwHTtrQiDcfuFkRgEJKrSnGFYvrdwzAgUyzjTZvo5pNrkfqjSwkPqyZpiKdaU593FSVho3ynibUKEfycdZuluWup0n%2FsVwbgcq7c0R5bUVPt%2FS3mcZKwMP%2FrlvffUjQwMtF6PmCcQa8tyo5%2B5Og5Ct%2FY4Frhw1tZXWiBzxM%2BR774M018zhitMWeTxZpJx9ZOsA%2BpkKpWX6ZqfUTz26QQ%3D%3D&rb=x', 'https://articulo.mercadolibre.com.pe/MPE-435547128-calzado-zapatos-jovenes-puro-cuero-tallas-3943-bmshoes-new-_JM?searchVariation=75847363136#searchVariation=75847363136&position=13&search_layout=grid&type=item&tracking_id=bf38fac2-aa04-49a5-ba7c-15fa9367ca1d', 'https://articulo.mercadolibre.com.pe/MPE-447016100-mocasines-de-hombre-moda-urbana-_JM?searchVariation=173665831450#searchVariation=173665831450&position=14&search_layout=grid&type=item&tracking_id=bf38fac2-aa04-49a5-ba7c-15fa9367ca1d', 'https://articulo.mercadolibre.com.pe/MPE-441514052-zapatos-casuales-venecia-negro-fakers-_JM?searchVariation=65712174979#searchVariation=65712174979&position=15&search_layout=grid&type=item&tracking_id=bf38fac2-aa04-49a5-ba7c-15fa9367ca1d', 'https://articulo.mercadolibre.com.pe/MPE-440697971-zapatos-caterpillar-de-hombre-100-cuero-original-_JM?searchVariation=63951292318#searchVariation=63951292318&position=16&search_layout=grid&type=item&tracking_id=bf38fac2-aa04-49a5-ba7c-15fa9367ca1d', 'https://articulo.mercadolibre.com.pe/MPE-440688828-zapatos-cat-de-hombre-puro-cuero-_JM?searchVariation=63783477610#searchVariation=63783477610&position=17&search_layout=grid&type=item&tracking_id=bf38fac2-aa04-49a5-ba7c-15fa9367ca1d', 'https://articulo.mercadolibre.com.pe/MPE-443281773-zapato-para-hombre-de-cueromocasin-de-hombre-_JM?searchVariation=75490678031#searchVariation=75490678031&position=18&search_layout=grid&type=item&tracking_id=bf38fac2-aa04-49a5-ba7c-15fa9367ca1d', 'https://articulo.mercadolibre.com.pe/MPE-444035658-zapato-talla-38-pierre-cardin-cuero-mocasin-_JM?searchVariation=78274768600#searchVariation=78274768600&position=19&search_layout=grid&type=item&tracking_id=bf38fac2-aa04-49a5-ba7c-15fa9367ca1d', 'https://articulo.mercadolibre.com.pe/MPE-432968122-zapatos-mocasines-para-hombre-marca-levis-importado-de-usa-_JM#position=20&search_layout=grid&type=item&tracking_id=bf38fac2-aa04-49a5-ba7c-15fa9367ca1d', 'https://articulo.mercadolibre.com.pe/MPE-441425084-zapatos-formales-kalvin-tang-fakers-_JM?searchVariation=65442928836#searchVariation=65442928836&position=21&search_layout=grid&type=item&tracking_id=bf38fac2-aa04-49a5-ba7c-15fa9367ca1d', 'https://click1.mercadolibre.com.pe/mclics/clicks/external/MPE/count?a=pjY2QT1%2F9i9Ysbwt1ZlB4XmaLExAPWn29d%2Fca5ylG%2BGREY32oz4nnfM2QNGXMPZFY12doiF0YB96XuBd%2BMfYNFUgNNTzZowGmVRZKEluoYguJ%2B%2F1E8yhh0uAxtiFZriNydLJc3mYX92PsK0Ap%2FZ0LLqC6kAfL9c4n%2FiIWzkMcQpxAnShKHi6JJCs0ZW%2FAtnqimn5XXbmrwwsg0iluIS2xtnUmN%2B8TehKmqe3m6ohvYtWV0h8HGjjhA7m3CwGtT%2FQiySsswzhEPJlTFo8Ew6AzKjVYyCsXNkBFuUaP3XsblZBtksJA4A%2F4juPC8Wi%2Fklg9WZ4q8TpI9nA3ww4MARFxlf2CtEHhLmq48Nk%2BHeF%2FVSRHkMd2uXjo4O6uZ90pgSXHOW8nAwelC4zopGah%2B8rE9vHnBLLsfy0Dfmdod5q%2B%2BQ%2Fz7fAArJdxphH0tUdfmvahUMR9epr3Z2OHZlkfCOK7ZYMKdVQFe8ZPQUgKhQJsOidnf25UwBW0aaQ7ym7n8c9EnwN7kdJob2jd1rerTrOqUOXeRwF5MKqPi681aMTXX9iNdm9lP7ZzvJNAP3X6bne3LEm80VMCy%2Fq9gxxyAPKIJ4hz03BjcELBQ%2BSuOUgF%2B63G2QfUQVt9WdYPnDtkzls0NWd82%2FRUmYzFIuPML7ELfkR79WzZqeONlMihGghO5tyjDsGmAhvSUYaiPh%2BStcoTTY1ImPHdwW7%2FsFSd1S4%2FJBke0qM0RwaqMFovDluhFU%2B5itQ0WhKwzvbK1LUier4Dmkr9P8stwbJYVNEMX2HFRt3xCFgvGiJodMSLCp1H1aIVhJLbb%2BWdOf%2FoIszQ8FikZyNDrQOI%2FWW67m8X6l0Hn5actDkgBRaT7x97OWyPp79Z60Q8hXwfZWIFkKXc%2FrUy8gsxofp78NaJYqIvM62VCbcHVsEZrOnhOgv2UHFiPd1aJpnq0hJNHkB6UGtYjyPJWUd1Wb4%2Bgtt7aOJho%2B1xLsHtx3ULrx38Lzk4i9nqKa52gueOC0gLU3YfiSlaBPVyuyQ7NK17rw4XdqovaqrWcgNzE16sR5wmF%2BZKswRW18pZAgeSKETMckYPFOuSi8mDJn6GIuIjOZ7ge8vYR0qN8VKuFLJy9negK0vf9Ebmkc2cRO5ddoWHfmg9%2B1SZvM2KpZYobXgVzvqz0j3EKL46iNcMM1eBg5f4Kd4Ksjl7JuESq7BF3YHbckgBr8qHs%2BfUSScojbc9By27HyoNi7mHchWZfZLi4kajo%2FC0e02JdOICASutGeEHrCq7jL%2BFXu3jbr%2FbIuCradWGcSGJPhiPMTBKThBv6HdTZ0w2wFPQjFOLj9ErOpbMqo5ZaZDNj%2FlpcWK5VgKXu9Ky3dp088ythsTMBC0fJVE8kYOBix%2F4X5MI5UzqxuxtIpNQZr7LvJFU0Q%2FbJgNztQPNssnxnAujVrY9uk5utO%2Fe4jWB7OesvNjI6cM%2FdByz5qxUV1JPuTOfVUkix2FJHmhCmPMs1yOfCPvpVe4%2BVv1jw4iv0qPOblIV8CHM8H1im7fCCjS%2FB5l2Y1RSrFJp%2Fu%2F1Am7m1YXIQJHvZog4SK21mgPC5Ue525AuD0%2BU%2FVZvfM%2FJwEWSpWNv1A%2BxUPppGEdJwhjq%2FdBp7xI1ptt%2FZ3E%2Bf%2BoHRMuW0lGzpwz50T%2BZbDG58Dt%2F%2BuYpyqPpcFdE5pScogY3iky26maE5eUyCAx8a2gp0llCL9AkW79YOSBkWfMmQ%3D%3D&rb=x', 'https://click1.mercadolibre.com.pe/mclics/clicks/external/MPE/count?a=Xgm5ONEBM2ve%2FW8mpXSRz67RekwX2tJKrdyhjBND5RmmrB7aKsjUKYU0P3qWB7%2B6HMyu2D8uFMnH5sTTNRC7eLQxIn2Eo2cHz4SjSJVcr0FzEhlAOj0X5mNVvDGwkX6%2B7G0BayuCPRuDWv8rLAZ5go9cBBJGRI7v5jaPm%2FPwRuDpeNGtX%2FevOr7089ejPSC3RHN%2FcdueHhd7RL82HVjcunPlkwFNOHGipL6WyYFlPge7rwk6SXspgLY3zSHo049wIq1GVjfgzDXKuTN2QDJalreSXYp%2FvMlBLgerCbppoDeconxF32xRLBSMH9aUp4K5qQOQbq%2FNV%2BvrqW3GFhFNh0vpyAVfvvKRdyCN7oVuQUGKMmP8pYE6lIvinDEUAIJwNrvjYbo2vNhlunJ9FRqaKONHqAsCiYMhrBc06cNJPTG6hSyJ2d9Hqhx9ZlsCvtttHSrluKlnd1P0juV1krCMM3PxYm4XnpHOg50SdcRdRz5DLqNnpmKYK7OCZzBkrYMoSGJza9V69nTNm2RfFvDkBZFicrfRto0b8fUXEs08gtG9GuQY8%2B9xDVfZpkzOYlmObxkVcky5xQjdbhVHqzujKZATXEXKpj2pP527jiV%2BxMdcG%2B7%2BhgnVWmU5CuxHVnJy368DSfePgjmwOr4X%2B5UVhR5viv4IXTGlHKIFA1JsxOUov4sjU3dgP73eiDEMOYrb0INHmG6dzo554rY9h2HMLFwpF8bZwizH0Az%2FxZsN7R3K5P0RqhB%2FHNHvdGka3cX1cTOKKfvPQ6%2BQbs2IfjkFAUkO9wGO3oM2FdMWaVQc%2FgAuGakYwbZWlFyVIx2w9V2hPw7w9%2B4%2Bmn5e9buvB%2FwyW2lgPS5Hd0BPiR78mTW%2FmedfWYtKHM9aqqB70NaCxBBSZDkEs2A3uQKpwxBAC%2BL3S%2FykHxMrDroQzSqtqV1CbpV9p4AQJ6YQpzArMJoXULecEJsI7AGjSJ5k8Yz8JuomHhVwOPy9D45H743%2FyuSDQy35VVzwgjxwQGYsINJf3sHBxWWkIK8bA289uCkeG1fzvyGUtNDGDRuVCEYEfak2%2F9wbZ7EA1P6I7VML4gqMYmEN84ss4igk2UXpFFdo0YJ%2Byno%2FfomGux%2BV6qpRs%2FlPXIku1t87XaY6vw00b7H%2BN7ST0VTeE2Ua60icXE1EZlNuDE7ruFRD0ASBFysHFIGMVWsg%2Bgzs6PW08rvpbWnLjIt%2BgYL7XY5WfzLzRtZrAjh98zTJqweg4G0yMC8YA1UNBd1qBebanuAtITehUJCxv7zovfo9XXqsMhmjLnQI%2B%2B%2FZEQ3we%2BJ9Whu53z3REHtfy%2FpGztvGAuIUAqlfm17g52mGMZx32%2Fq3UFTOPaeYhoAg1rvz349jTxPjX3DIcJUvdovyLAWRLWcX6%2FqmevmQlAatQUOwwYLnAoeULBnJWd4FUyo0gS1F261PkkdoLD4UUHn1sYdkgwynt9k6usDIHfLHyX2xEG6U4%2Br8apUfz1gXtwNzyFdafMFdQo6c3ur0NfiY0Z4%2BB%2FOAvqumtAVQsvdVaEKA7HInKgtL0%2FIxNG59OWf3ENsmZyghWieyNnapFplJDYTzxBPvorKYRc8eaCdv3gmCqV9UbSYa0uoYpiAu%2BCa9qDpdiEyxTm5LK9mEDSeyPOuTl49%2BdjOm9r48j%2FNS%2FZ9bqRuJzxnxbIoLgUzaKnQ8bDD8X9iVOoNi9vzKjbetxtYSR9Ffy01LgrEjmh9Y2xCn2Xbhj%2B0gyg%3D%3D&rb=x', 'https://articulo.mercadolibre.com.pe/MPE-425506790-zapatos-hombre-casual-exclusivo-reforzado-negro-38-39-42-43-_JM?searchVariation=30441479241#searchVariation=30441479241&position=24&search_layout=grid&type=item&tracking_id=bf38fac2-aa04-49a5-ba7c-15fa9367ca1d', 'https://articulo.mercadolibre.com.pe/MPE-442647058-calzado-zapatos-mocasin-topsider-p-cuero-talla-3943-bmshoes-_JM?searchVariation=72699488171#searchVariation=72699488171&position=25&search_layout=grid&type=item&tracking_id=bf38fac2-aa04-49a5-ba7c-15fa9367ca1d', 'https://articulo.mercadolibre.com.pe/MPE-440705453-zapatos-caterpillar-de-hombre-100-cuero-_JM?searchVariation=63946625707#searchVariation=63946625707&position=26&search_layout=grid&type=item&tracking_id=bf38fac2-aa04-49a5-ba7c-15fa9367ca1d', 'https://articulo.mercadolibre.com.pe/MPE-441683763-zapatos-formales-alonso-ju-marron-fakers-_JM?searchVariation=66323460461#searchVariation=66323460461&position=27&search_layout=grid&type=item&tracking_id=bf38fac2-aa04-49a5-ba7c-15fa9367ca1d', 'https://articulo.mercadolibre.com.pe/MPE-421173692-zapatos-de-hombre-_JM?searchVariation=61173736348#searchVariation=61173736348&position=28&search_layout=grid&type=item&tracking_id=bf38fac2-aa04-49a5-ba7c-15fa9367ca1d', 'https://articulo.mercadolibre.com.pe/MPE-440699112-zapatos-de-cuero-caterpillar-hombre-_JM?searchVariation=63953830259#searchVariation=63953830259&position=29&search_layout=grid&type=item&tracking_id=bf38fac2-aa04-49a5-ba7c-15fa9367ca1d', 'https://articulo.mercadolibre.com.pe/MPE-441051619-zapatos-de-hombre-caterpillar-100-cuero-_JM?searchVariation=63035269199#searchVariation=63035269199&position=30&search_layout=grid&type=item&tracking_id=bf38fac2-aa04-49a5-ba7c-15fa9367ca1d', 'https://articulo.mercadolibre.com.pe/MPE-421671954-zapato-de-hombremocasines-de-hombre-_JM?searchVariation=72872782599#searchVariation=72872782599&position=31&search_layout=grid&type=item&tracking_id=bf38fac2-aa04-49a5-ba7c-15fa9367ca1d', 'https://articulo.mercadolibre.com.pe/MPE-608234027-zapato-escolar-de-varon-venus-tomas-mocasin-100-cuero-_JM?searchVariation=174208995545#searchVariation=174208995545&position=32&search_layout=grid&type=item&tracking_id=bf38fac2-aa04-49a5-ba7c-15fa9367ca1d', 'https://articulo.mercadolibre.com.pe/MPE-441423133-zapatos-formales-cassano-marron-fakers-_JM?searchVariation=65439154292#searchVariation=65439154292&position=33&search_layout=grid&type=item&tracking_id=bf38fac2-aa04-49a5-ba7c-15fa9367ca1d', 'https://articulo.mercadolibre.com.pe/MPE-431522672-zapato-de-hombre-mocasin-de-hombre-de-cuero-_JM?searchVariation=95630540706#searchVariation=95630540706&position=34&search_layout=grid&type=item&tracking_id=bf38fac2-aa04-49a5-ba7c-15fa9367ca1d', 'https://articulo.mercadolibre.com.pe/MPE-441424895-zapatos-formales-kalvin-marron-fakers-_JM?searchVariation=65442625650#searchVariation=65442625650&position=35&search_layout=grid&type=item&tracking_id=bf38fac2-aa04-49a5-ba7c-15fa9367ca1d', 'https://articulo.mercadolibre.com.pe/MPE-441423132-zapatos-formales-tristan-cobre-fakers-_JM?searchVariation=65439153726#searchVariation=65439153726&position=36&search_layout=grid&type=item&tracking_id=bf38fac2-aa04-49a5-ba7c-15fa9367ca1d', 'https://articulo.mercadolibre.com.pe/MPE-441425053-zapatos-formales-donald-nutria-fakers-_JM?searchVariation=65442803596#searchVariation=65442803596&position=37&search_layout=grid&type=item&tracking_id=bf38fac2-aa04-49a5-ba7c-15fa9367ca1d', 'https://articulo.mercadolibre.com.pe/MPE-441684125-zapatos-formales-emanuel-negro-fakers-_JM?searchVariation=66324056793#searchVariation=66324056793&position=38&search_layout=grid&type=item&tracking_id=bf38fac2-aa04-49a5-ba7c-15fa9367ca1d', 'https://articulo.mercadolibre.com.pe/MPE-441059317-zapatos-caterpillar-hombre-100-cuero-_JM?searchVariation=68213403044#searchVariation=68213403044&position=39&search_layout=grid&type=item&tracking_id=bf38fac2-aa04-49a5-ba7c-15fa9367ca1d', 'https://articulo.mercadolibre.com.pe/MPE-441425119-zapatos-casuales-paris-olivo-fakers-_JM?searchVariation=69383011019#searchVariation=69383011019&position=40&search_layout=grid&type=item&tracking_id=bf38fac2-aa04-49a5-ba7c-15fa9367ca1d', 'https://articulo.mercadolibre.com.pe/MPE-441689219-zapatos-formales-field-habano-fakers-_JM?searchVariation=66331651701#searchVariation=66331651701&position=41&search_layout=grid&type=item&tracking_id=bf38fac2-aa04-49a5-ba7c-15fa9367ca1d', 'https://articulo.mercadolibre.com.pe/MPE-441454340-zapatos-casuales-midway-olivo-fakers-_JM?searchVariation=65506616236#searchVariation=65506616236&position=42&search_layout=grid&type=item&tracking_id=bf38fac2-aa04-49a5-ba7c-15fa9367ca1d', 'https://articulo.mercadolibre.com.pe/MPE-440707170-zapatos-caterpillar-100-cuero-original-nuevo-modelo-_JM?searchVariation=63436012733#searchVariation=63436012733&position=43&search_layout=grid&type=item&tracking_id=bf38fac2-aa04-49a5-ba7c-15fa9367ca1d', 'https://articulo.mercadolibre.com.pe/MPE-447265106-zapatos-de-hombre-moda-casual-_JM?searchVariation=91402532272#searchVariation=91402532272&position=44&search_layout=grid&type=item&tracking_id=bf38fac2-aa04-49a5-ba7c-15fa9367ca1d', 'https://articulo.mercadolibre.com.pe/MPE-440690369-zapatos-caterpillar-kennedy-de-hombre-_JM?searchVariation=63948074687#searchVariation=63948074687&position=45&search_layout=grid&type=item&tracking_id=bf38fac2-aa04-49a5-ba7c-15fa9367ca1d', 'https://articulo.mercadolibre.com.pe/MPE-432405450-zapatillas-nike-tipo-mocasines-original-modelo-toki-_JM?searchVariation=173609036370#searchVariation=173609036370&position=46&search_layout=grid&type=item&tracking_id=bf38fac2-aa04-49a5-ba7c-15fa9367ca1d', 'https://articulo.mercadolibre.com.pe/MPE-441454738-zapatos-formales-field-negro-fakers-_JM?searchVariation=65507407129#searchVariation=65507407129&position=47&search_layout=grid&type=item&tracking_id=bf38fac2-aa04-49a5-ba7c-15fa9367ca1d', 'https://articulo.mercadolibre.com.pe/MPE-441444487-zapatos-casuales-paris-azul-fakers-_JM?searchVariation=65487846628#searchVariation=65487846628&position=48&search_layout=grid&type=item&tracking_id=bf38fac2-aa04-49a5-ba7c-15fa9367ca1d', 'https://articulo.mercadolibre.com.pe/MPE-441512771-zapatos-casuales-andrew-azulino-fakers-_JM?searchVariation=65710213643#searchVariation=65710213643&position=49&search_layout=grid&type=item&tracking_id=bf38fac2-aa04-49a5-ba7c-15fa9367ca1d', 'https://articulo.mercadolibre.com.pe/MPE-435547131-calzado-zapatos-jovenes-liso-puro-cuero-tallas-3943-bmshoes-_JM?searchVariation=37508917793#searchVariation=37508917793&position=50&search_layout=grid&type=item&tracking_id=bf38fac2-aa04-49a5-ba7c-15fa9367ca1d', 'https://articulo.mercadolibre.com.pe/MPE-441424267-zapatos-formales-arnolds-marron-fakers-_JM?searchVariation=65441652463#searchVariation=65441652463&position=51&search_layout=grid&type=item&tracking_id=bf38fac2-aa04-49a5-ba7c-15fa9367ca1d', 'https://articulo.mercadolibre.com.pe/MPE-441513718-mocasines-casuales-hawai-negro-fakers-_JM?searchVariation=65711514027#searchVariation=65711514027&position=52&search_layout=grid&type=item&tracking_id=bf38fac2-aa04-49a5-ba7c-15fa9367ca1d', 'https://articulo.mercadolibre.com.pe/MPE-441513898-zapatos-casuales-venecia-marron-fakers-_JM?searchVariation=65711931098#searchVariation=65711931098&position=53&search_layout=grid&type=item&tracking_id=bf38fac2-aa04-49a5-ba7c-15fa9367ca1d', 'https://click1.mercadolibre.com.pe/mclics/clicks/external/MPE/count?a=6qt7TnYscqqqzaOdk%2BLh8bemMDW%2BwoM1ndIoWgMaCqlBGf5CDCagweXtMM8AH2wIrwYpSH%2Ftw9%2FqJnceD8d0FgPjPitzP65to43vlJslOsuhGEGj1VcPrkNd8K8Ij5cc0CxiO48pWHiMatYnI71BfkgsIDw%2FdwVX3FJokDQv1BhlqvpuI%2BgvrDEI6gBg%2F8kmMBd8YXob0RpyETjFZES%2FU5xw3prRdfiE8IrYLMxm8zfyTZZmSls%2Bt0%2FTsZSqgDC2vfVXk%2B7GpAdfgIwj5IstanZio%2Bzvqc6ROJ6kSbYj5u4pivXW6dX97aRAvgwP4FWd8xUMV9Q7XTcVe8mwzs7dqUkana3aQB1qKFujLMc67bpmmVudpcR7goTYW5rR9Qd9gsR7LvXxqIu9aOF6SauuI6rzqm7SSmR62WxC1VrRK0aO3eZmM3v7Zf5NgElhlhMFI3n7daf1rfDArNogkIYT6nBlZEyy%2FyDGNeDcvPn66%2BFOOAkOaOQ8%2B98W%2FtfSJjYDP53a8Vq28FcS89wr6%2FiBWdfWhHWDPKfVm5nx%2FDphKX8k1BLfHnWt4Kb2R6VwUzhi0GcaXNbH6mw%2BSaDNHoci3lNjLcmRkRT5ozuiulCNGPi338GVGftSfsZENNgZO8YshnzZoIuxFCYZ91JUeV9VK3zY6Y%2FqLyYOdVoSLlARzaiCeHwI4uDLTFyFJrYKlDW3VeBHrrF%2FESn0FhofN7yDxQzAKHjCzQsxbSbdcwe3UUzNyuiu7ZNBQa7Sl2lJGPF8uEeLr9g5%2Bfk8iNmOhTvH%2BK1Ga5KkAFlFeg6Z6ePW1C8CYDzqwDo8v5AyGEloZ%2B7FxOtN6G%2F4vuuM%2BHD%2Ft1QOu6Igy3vish9yJyu3sr41f4ghSRe32%2FBVs%2FVg0g%2BA3QU7iD8yx5tZcFOrKznGZPzZhHoT7stPpGfMrxI9JjVTQAYtMH6mjXivUFpVgtdOw4h3F%2FUK5jW5vqogDamqU3x4%2B5t9FZa%2FAVJUyIX3uV%2B4PDzefQRf3QEyWS4%2Bmxm5dw2woxR01a4xru%2FWvZjmijC4rKejVJOjD6x8ySahor7WXrmJm833Pp%2BKskqvcngnPYf8y2UMOvuORZfDmHlS1DxoO1YUbyIlJo8YiQAh0VSXSDb75SJWDhWIl7Emg5WZRLJ3QhqWGyWTyyRSj0Bi%2F6%2B42IaxlaAmX%2FFZY5IuzhgtOpOR%2BdMevgXhj9d%2BJI6KtdXg%2FgXfQlj2xA18Df8wfpzwFBlGiq7lKn8lUJ0QESRti8lAGR2R%2BV7O%2BX7wKDSBUB5bAzZshPR6k7UDkcOkUa4jQU1QHT6G1uVDdgDQJQ%2FsVn3QVAMfPRm0SzYuieS7GWEgK%2B02Ls%2BgpkdurgkT8KaDjxsQtk7ENhCgYT%2FEE3X5bEs5w8iJ4zYj0NO0kK5O0xAUpPQU%2B1voShY%2FdNiGhhC0yXzT2rz0cglbEdKGeaOehn99eeNIWrLkWjp3kCi54AXLiWTk%2B7cNwjlTVuCLu95zx3BexzUxb%2BgJj6HJ0jDrGSfJyUu4uVTh3wW7IjYCFFdDVsDubUsYDDOaIr8%2BA%2Fg9tFpQg4cOIGXR5yxeal9Zq02ELzsDJPQJ9ysdeYzY7Ol9JRZoFkbukWrpeCa3z%2BQkMl%2F3w%2F7I2RuPtXzh%2FyGB9GV9KB%2BfxAXrt2gArkUCLq0SJJQqBO4zSv5HOpOMrRa3j7pFa%2BZ0U3e4R4f0K8PFBC9X2RNm%2FTf7QYxqWg%3D%3D&rb=x']\n"
     ]
    }
   ],
   "source": [
    "# Obteniendo URL de cada producto\n",
    "print(urls)\n"
   ]
  },
  {
   "cell_type": "code",
   "execution_count": 10,
   "id": "83e46e16",
   "metadata": {},
   "outputs": [
    {
     "name": "stdout",
     "output_type": "stream",
     "text": [
      "Link numero 1 :\n",
      "https://click1.mercadolibre.com.pe/mclics/clicks/external/MPE/count?a=cDyWAs2sZs8dQyT3JAQ0H%2BJ7i0GL%2FDTgChslMjYDac3eVylREAv0a06aa1SaHqpAtDcztq3Rok5OEDC5Fs6RSwp0cF%2F4vx%2FsZPW2gqxYmFsia%2FmH9Emy%2F93dKmsYwV6%2FHufElc4YnxhD%2BrdiQ0nCa0pglHVcHJaF6OBJjSRolNkgIW8OTowj2b3OZjyHYIxbAhUrJtXK7BK6GRcvt%2F1XlB4jEKrCKIg6SD8a6ql6BGJea6gS1W4uf1E8pgbhhVlZuxKIJy52k5x5z3MCkPTZzurMjpSpU0FNANWCrcSGnJol4arP7ih7UOj28gxMqmJmMLpTZbexiPwGMg4JjEdaVMq7lxDTZMdIBriI08ier%2FR%2F%2Be8gACp4oR0mnnT8I1FubkxSSkLHrCFY8yaSZRg9HswrUqhtjDrmAP1U857txf2NGDmPZZ0xEYa21rtl1DjaZBRxC6LnOWfIoS1pbpQXAcUTV1Hu79I1LVVZNYUFSQfm8mqpBQdgSDamCQYO8GzU60%2FnUeed5sFoyi4j%2BJcVsFVhenEmeWuTbxV5qJqqnwo5o6L8HANjf9hbHPRgUlrN4QY1W%2BsxRm44RPAgzcoFcRqQ0X5rjeT1n92NfbQsHnnberj6wjBYzvMdgj8U4VV2%2B3tlp4Z7cCkqIw5johnpABus8h7AbpXyTRFU9RjZg7zgpMQEXUF2b%2F9jWUbWxLXeepthAqJwvo7H28H8JBfhg%2FPf%2BuyA6HyCn%2BWChyU7SJABiX1II9eEX%2BkKR4FS8hFvzL0cZwbfgmh1bugZHPTVxeYI7nCi7FHlnlGbiaz0Dc7p4WDBEw7LNG3GJ5%2BhkM%2BB87aeJMweqzJuQyg5uaivtKuS4GReDZEm6PDX%2BS%2FmQNwHFNZgW0DOmsN68cuOd%2BMEMgfY4lVLBWxGY9XRXVyWpZb0wX83Rxkfau%2FVU2o4O5t0m2FF9ThRPBw5kzZUZhnK%2F25yR7dL2o8%2FSn4ZyyhQ6XqTne3zqDh5GEgW75cOGVsNtVjXK7XHQ%2BO8yJoyBtdxmfGZYc1EwVIqzRujxiSs%2BYXwQIIoNIrvwB1i%2BNLzmd2VT1lw%2FMFf%2FGitTrn9S775qihS4NWcHbX9DamskjVg2kco0cIdH5npH3hvHnN0NSp0J7WInxpIGqqXOe0oN3zXAs7xpC3CbnmpmFCIrYkKSvGXtBx26xaiDMO2pXpd4qv4a6d2bQS1mqKAde2C73e0yk%2FNOXrf%2FARxymHVrhj%2B9KM3KNA3G6kY1vEgaHLU9hjnCSshReyUC7Gn4QJDYsF%2BT%2Fd6NgxI%2BdMDlzXYYa7tfCOD9pLiv8Mr6A9bIeqB3m1JANqQIrPX7mtB9%2BZCOJtdbLMJ7Muaf2feFU4OdNwkPUGBxycl93u2hre1MHTP4HCl0STkUR9smsQOUMFytrfFAgWivZ%2FJuHiGMRgCvaj0P7wjjMoEjad5uy%2F5STRoDjdfAN5tk42FjAVvwhCnmfvJkB3iwI34KJsFpqPpfm0WBMw3PnL18CE5uVibGQCPI2SXcoL3LViYIVM4vjkMifQ2LeQ0MAAVhmTQG7Ehr%2FpcyCwWxy5drTY7ov%2Fp%2F94MzwGFKnioWjDrT7OO1rSMPkwzjMgBmX44sDvh9T7cRmmwA86%2BvS89I5GyCDgLu0IUxhMUpQFBkPB3ltZhGfBDFkhZG%2BTH8iQHKP3PyCGzH2wacMEqO2sy2Qv4%2Bi2dxJrVrg0XjhUYJLPnV1duqfzqkiclFr7uBlbkBJE%3D&rb=x\n",
      "Link numero 2 :\n",
      "https://articulo.mercadolibre.com.pe/MPE-446724105-zapatos-caterpillar-kennedy-de-hombre-_JM?searchVariation=90375580188#searchVariation=90375580188&position=2&search_layout=grid&type=item&tracking_id=bf38fac2-aa04-49a5-ba7c-15fa9367ca1d\n",
      "Link numero 3 :\n",
      "https://articulo.mercadolibre.com.pe/MPE-447015792-zapatos-mocasines-de-hombre-cat-100-de-cuero-_JM?searchVariation=173605449883#searchVariation=173605449883&position=3&search_layout=grid&type=item&tracking_id=bf38fac2-aa04-49a5-ba7c-15fa9367ca1d\n",
      "Link numero 4 :\n",
      "https://articulo.mercadolibre.com.pe/MPE-446797976-semi-botin-caterpillar-de-hombre-chavito-_JM?searchVariation=173566698565#searchVariation=173566698565&position=4&search_layout=grid&type=item&tracking_id=bf38fac2-aa04-49a5-ba7c-15fa9367ca1d\n",
      "Link numero 5 :\n",
      "https://articulo.mercadolibre.com.pe/MPE-447007362-zapatillas-caterpillar-warrant-de-hombre-_JM?searchVariation=173964411872#searchVariation=173964411872&position=5&search_layout=grid&type=item&tracking_id=bf38fac2-aa04-49a5-ba7c-15fa9367ca1d\n",
      "Link numero 6 :\n",
      "https://articulo.mercadolibre.com.pe/MPE-441423837-zapatos-formales-berlin-negro-fakers-_JM?searchVariation=65440774000#searchVariation=65440774000&position=6&search_layout=grid&type=item&tracking_id=bf38fac2-aa04-49a5-ba7c-15fa9367ca1d\n",
      "Link numero 7 :\n",
      "https://articulo.mercadolibre.com.pe/MPE-441446191-zapatos-casuales-kemer-negro-fakers-_JM?searchVariation=73287430817#searchVariation=73287430817&position=7&search_layout=grid&type=item&tracking_id=bf38fac2-aa04-49a5-ba7c-15fa9367ca1d\n",
      "Link numero 8 :\n",
      "https://articulo.mercadolibre.com.pe/MPE-603562246-zapatos-de-hombre-caterpillar-de-cuero-legitimo-moda-_JM?searchVariation=174059237981#searchVariation=174059237981&position=8&search_layout=grid&type=item&tracking_id=bf38fac2-aa04-49a5-ba7c-15fa9367ca1d\n",
      "Link numero 9 :\n",
      "https://articulo.mercadolibre.com.pe/MPE-447005828-zapatos-caterpillar-duo-para-parejas-_JM?searchVariation=173964950059#searchVariation=173964950059&position=9&search_layout=grid&type=item&tracking_id=bf38fac2-aa04-49a5-ba7c-15fa9367ca1d\n",
      "Link numero 10 :\n",
      "https://articulo.mercadolibre.com.pe/MPE-430839593-zapato-de-hombre-cueromocasines-de-hombre-_JM?searchVariation=72974300850#searchVariation=72974300850&position=10&search_layout=grid&type=item&tracking_id=bf38fac2-aa04-49a5-ba7c-15fa9367ca1d\n",
      "Link numero 11 :\n",
      "https://click1.mercadolibre.com.pe/mclics/clicks/external/MPE/count?a=kalZX2Iz5iwQ9cArF2R1H6NPwhqaEaNOM10v9MWKpQsGsnE2DaPLV62gF9Wt86u4c0AKS7zWHr5dVKnaaEWS6bvqSpIK7sjvgykhWQfhsIlJAiqLthPfL%2FHWYpzMeI6Lh%2FU0MrNSqtIaPhZLlKGx8ht5FJbpz3PWPLBNnPN%2BBkgIdpULObMKzGp9%2Bu9dgM%2BBHWPsJ4vmdJBlTGq32cGxomA8Qf2%2FmiKLQA0bnyHmROUJPTzxfAw%2BqySQem1XOCEmYU2fK6wOsRPgd8BYbjwOKtQZcsCuxnOtmIc4IpQeO1O2XKRo0nUZIx5LMz%2BNzvqYBaAjwnygadoXM0m%2FwbmVrXBT3Y67jTIPsa7on2%2FLwCg1toql327bOcdlh1DrH2ROMmEMdOUNWod7peCHrnvbh6uK%2FnwcjhezSI%2BEOPXvnaAaIjzhjEFXBLoZxH%2BkMv91qOUwjcnEtD%2FVZMxdgjdnOeCDHxHHBdkx7CQr4DPAVr103Bd9Qm7Eqkpza%2FYsUox%2Ft6CXxgIAMB2xbjTGOomQdvq27Xo3NCi4MOU%2B95jRksDoncv6hW2qCmhURwimCrunPaxagq%2BI7y%2B3vW0%2BabCnFvYx59vM%2FoStfJpt%2FgnCnIy4wFkZeORPMCBbMS9EbO9ioyVw4c99rzKlrWnJjzZc9Ky5xi%2FTLXBJ8VRTsKHrEt%2FCTUQuGN0g5rWwwBbKDuSpr4AnIfghGhGAN1SPyM03pQRe5yzk6neIv6iS9Emoscs%2Fiu5UfNyXteEwiEWGb%2FoUyvGueRhdxeoocEf8S2QSkkuTPXjPJ0KFeREEx%2BJhdWUOMh2Mph74vQ0ypUytEXsz5vTLLeY4tOoAE9HaQdqwCYKn7ni65Ckfh4I48yebYbOX0oRR0DB0qH2Q2cyetjTThc%2B9PfCjs1dLe%2FX6XOm7uRWc8P99bH05cTONM5N6LL4Xm%2BvGnEOADC8nDl3ECaMQKRwXDsdOoQmYC2sF3vwHfwSfgffQrjJtXPmqObZ1OSdIumJ9eAOx%2FOIEotwPnFhs6sjsOpr0IiiUScVvFPR5XqyEoLEErAcMmNFgPMvPWqDBPsFuHzV%2B3JN%2F7LaHI7CPr5jVkzcO6Z06BKZVhP5N98Xp9dIPPy%2BCwWdu9P8CxhQ05Be0LCtxKZiKz2IlLTjonPoREO8qOOxZ2joEUWeQGOxG7LDjvaHkJ9Mv5ubgUKEaxh8cAF%2Bhnm87uoei0suXY9A10zPQrXGqcaKVuA0ac9LtEwAEtsgGg0NeY4QaItdxevcDB%2BAzILg7we0V7SbtDLD6hoWfTU43a598YrNC20uHeo5on%2Bm2x%2BqwRnRnRnFbuqRwPwJ0c2fRvNo75337q9Qe5lzJ%2FwpT7dRdDZMbcjL9ZFZ0qpPYU6DJP6Ff60icOWPX7BSzj6Ypeuco6JZ15iEXW4sqtM7Kbo0TgMAdW1nGr3pdVaPcytVRR3ouDioZRfY7VP8JfmBhQFrqmn4YBm82abQJXi6GJitdrBp2u%2FmSg%2BlSkYu5lwMGiynYY1EaL0Dqkq4Do9JCQ6ADcEwC9ggnNPvqdfNiEUyLVcoQMOqnsncyPvtM5jRGXhvfsmI8dfgpWLzwj%2F83PsWXnL6jTLpiC4DSRuO0TenJFRu5msozYcqPaD%2B9dPRBkTFK0rXAZWydP5O%2FLTJVfRHOAaSZrn48FGWvGaXLyQf7j90XcHIQ6JPkYeVekUvYpRatoyyg%2FpxEoFLzcKQvV1TVPPruDcNgP2ziFZBB&rb=x\n",
      "Link numero 12 :\n",
      "https://click1.mercadolibre.com.pe/mclics/clicks/external/MPE/count?a=TeAaIFDQf%2FIMC5eYylLcwAfFhbJXU2ckia32ISrJPYGp2WfVGhVhBxETFuIHWJgvmIAK5RaBEththa1pCji7lHGON5HcWUWsEF6LcaBAi4zhovvDouchcNNimyGxTrArem9fyE1KQWO8nVnmBgdh6FJn%2BWqNS%2BOsVhPYRjsYxK6fqzD0agdTl6pfg5Ye3O2k21%2FNyktP%2Bs%2B1pOMA%2FHCDBL0t%2FdpRWV0SQaDh8XYq1fWG9R3t%2FhntvgZtuD87MbC8%2F6iAMEjTqVFSQO2Z3j54iBOQg0DGmvfLq77l6qi25APHoOpmQGzUOga8ffqOPaD7Mpdn%2BJ%2FoOViwNRn06we4Mgzh3%2FlGKhSISs1Zo53OTLEPiwUDSLDwLoaPPpZPuqyAua1ZOBJ57MQFfFHZI%2B0k2HmmNixE%2BaFopgZIbAe%2BF%2FrQuugFfYFFUc4QJDMhwZk%2FWsUmbc9ogPQo4fJXKQ9QdD51hActCK%2FmXqZqOuCw%2Fr%2F0Qbl5MOcPzMM43%2B9R2Kk2S8HrSjC6N2A47Ie56tdshiZJcSo7bQJUlVFZhcanLIaGbohbA1bbo%2Fo1KDutsFKgqEq1psG7t0DeRez3IcYZ2guko8Oz24ktJ4aqBkC%2BKqdIQRhRb8uZV%2BF6T3EKW50RUTVO0RbEr9rKCxlsnPQu9K6lAs03R%2BOusLmBJ9BKvsKQrUUo3LL8FzunrQwhEMsWF%2FKtvLER%2Fe1ZLDnWZClB%2FzdwNu%2FlvLdlEEEcUm%2FeQzL%2BoPFlqDMbeljC4ZSN1yZxzwhbs5lYU2Pfh5V9M803VinHi8vWDg%2F38cXwxtlCXSjkrsgSjFL%2FmJ%2FsM0vhBl9ZqHn1JHNUl4jV3QjXXOGYvfWDno4fsw%2Fo8IikEppeqYc2WqCEwpKUm%2B42UFDEcSf4KJioZoXzmdGRh49LJaq2zU%2F8105JE8yP14OY6ZjoVKTnRj9T%2B8DozNNs%2FgWzYP2Lg5YLUo398TDzREI%2BXSsusekmxI%2BCtNAkV0XE1sx0mk543M%2FyuZ5Ag%2FVqbu9HLXeCFOWvNNex58g9iqLV%2FAilWJ1eHs%2Bplz7hQlnWib1savgXHJlJlgFP8wn%2FlGyE0M0MgByQV8%2FcjtOb3%2BReKLbVp6zPzlL5tGiCMmGYzzA0u9dKRbiz%2BNuc4rAKkxoHK4%2FiqMv8tIxV%2Bdd1wrp4BZ4UJ6TYjbH7IZeL%2BmQsYsajFed4ILq6vTOHXk7FRKRZKKVWKdDuN9FLwfNBqy0jUOA4R%2FAxTlDfklWSN55%2BS%2BbJSedvYI7JJOBHE%2F7OI1reAunG1Cxs74HArLeqdijsLBag77Y9u31IRCgyz9uH5GrspnrFaCyntMkkLAhXqdvizgNp8dMU1RycM%2Bxk7NWpSmG2HzmYcE429drmoDi%2BKVOK2VGH105%2FNQepryt7tAkIcSYZfiacvyKwwUZGMS7Oy20B%2FgqVhn2gkrS7viS8000szsneNNss65b%2FyfTSy1d8jG32WFX385mQ5nYFtMWz0rgytSQwXfFoCyvGOXspjsOqeXR59ohHHcLdd6%2BTTagwHTtrQiDcfuFkRgEJKrSnGFYvrdwzAgUyzjTZvo5pNrkfqjSwkPqyZpiKdaU593FSVho3ynibUKEfycdZuluWup0n%2FsVwbgcq7c0R5bUVPt%2FS3mcZKwMP%2FrlvffUjQwMtF6PmCcQa8tyo5%2B5Og5Ct%2FY4Frhw1tZXWiBzxM%2BR774M018zhitMWeTxZpJx9ZOsA%2BpkKpWX6ZqfUTz26QQ%3D%3D&rb=x\n",
      "Link numero 13 :\n",
      "https://articulo.mercadolibre.com.pe/MPE-435547128-calzado-zapatos-jovenes-puro-cuero-tallas-3943-bmshoes-new-_JM?searchVariation=75847363136#searchVariation=75847363136&position=13&search_layout=grid&type=item&tracking_id=bf38fac2-aa04-49a5-ba7c-15fa9367ca1d\n",
      "Link numero 14 :\n",
      "https://articulo.mercadolibre.com.pe/MPE-447016100-mocasines-de-hombre-moda-urbana-_JM?searchVariation=173665831450#searchVariation=173665831450&position=14&search_layout=grid&type=item&tracking_id=bf38fac2-aa04-49a5-ba7c-15fa9367ca1d\n",
      "Link numero 15 :\n",
      "https://articulo.mercadolibre.com.pe/MPE-441514052-zapatos-casuales-venecia-negro-fakers-_JM?searchVariation=65712174979#searchVariation=65712174979&position=15&search_layout=grid&type=item&tracking_id=bf38fac2-aa04-49a5-ba7c-15fa9367ca1d\n",
      "Link numero 16 :\n",
      "https://articulo.mercadolibre.com.pe/MPE-440697971-zapatos-caterpillar-de-hombre-100-cuero-original-_JM?searchVariation=63951292318#searchVariation=63951292318&position=16&search_layout=grid&type=item&tracking_id=bf38fac2-aa04-49a5-ba7c-15fa9367ca1d\n",
      "Link numero 17 :\n",
      "https://articulo.mercadolibre.com.pe/MPE-440688828-zapatos-cat-de-hombre-puro-cuero-_JM?searchVariation=63783477610#searchVariation=63783477610&position=17&search_layout=grid&type=item&tracking_id=bf38fac2-aa04-49a5-ba7c-15fa9367ca1d\n",
      "Link numero 18 :\n",
      "https://articulo.mercadolibre.com.pe/MPE-443281773-zapato-para-hombre-de-cueromocasin-de-hombre-_JM?searchVariation=75490678031#searchVariation=75490678031&position=18&search_layout=grid&type=item&tracking_id=bf38fac2-aa04-49a5-ba7c-15fa9367ca1d\n",
      "Link numero 19 :\n",
      "https://articulo.mercadolibre.com.pe/MPE-444035658-zapato-talla-38-pierre-cardin-cuero-mocasin-_JM?searchVariation=78274768600#searchVariation=78274768600&position=19&search_layout=grid&type=item&tracking_id=bf38fac2-aa04-49a5-ba7c-15fa9367ca1d\n",
      "Link numero 20 :\n",
      "https://articulo.mercadolibre.com.pe/MPE-432968122-zapatos-mocasines-para-hombre-marca-levis-importado-de-usa-_JM#position=20&search_layout=grid&type=item&tracking_id=bf38fac2-aa04-49a5-ba7c-15fa9367ca1d\n",
      "Link numero 21 :\n",
      "https://articulo.mercadolibre.com.pe/MPE-441425084-zapatos-formales-kalvin-tang-fakers-_JM?searchVariation=65442928836#searchVariation=65442928836&position=21&search_layout=grid&type=item&tracking_id=bf38fac2-aa04-49a5-ba7c-15fa9367ca1d\n",
      "Link numero 22 :\n",
      "https://click1.mercadolibre.com.pe/mclics/clicks/external/MPE/count?a=pjY2QT1%2F9i9Ysbwt1ZlB4XmaLExAPWn29d%2Fca5ylG%2BGREY32oz4nnfM2QNGXMPZFY12doiF0YB96XuBd%2BMfYNFUgNNTzZowGmVRZKEluoYguJ%2B%2F1E8yhh0uAxtiFZriNydLJc3mYX92PsK0Ap%2FZ0LLqC6kAfL9c4n%2FiIWzkMcQpxAnShKHi6JJCs0ZW%2FAtnqimn5XXbmrwwsg0iluIS2xtnUmN%2B8TehKmqe3m6ohvYtWV0h8HGjjhA7m3CwGtT%2FQiySsswzhEPJlTFo8Ew6AzKjVYyCsXNkBFuUaP3XsblZBtksJA4A%2F4juPC8Wi%2Fklg9WZ4q8TpI9nA3ww4MARFxlf2CtEHhLmq48Nk%2BHeF%2FVSRHkMd2uXjo4O6uZ90pgSXHOW8nAwelC4zopGah%2B8rE9vHnBLLsfy0Dfmdod5q%2B%2BQ%2Fz7fAArJdxphH0tUdfmvahUMR9epr3Z2OHZlkfCOK7ZYMKdVQFe8ZPQUgKhQJsOidnf25UwBW0aaQ7ym7n8c9EnwN7kdJob2jd1rerTrOqUOXeRwF5MKqPi681aMTXX9iNdm9lP7ZzvJNAP3X6bne3LEm80VMCy%2Fq9gxxyAPKIJ4hz03BjcELBQ%2BSuOUgF%2B63G2QfUQVt9WdYPnDtkzls0NWd82%2FRUmYzFIuPML7ELfkR79WzZqeONlMihGghO5tyjDsGmAhvSUYaiPh%2BStcoTTY1ImPHdwW7%2FsFSd1S4%2FJBke0qM0RwaqMFovDluhFU%2B5itQ0WhKwzvbK1LUier4Dmkr9P8stwbJYVNEMX2HFRt3xCFgvGiJodMSLCp1H1aIVhJLbb%2BWdOf%2FoIszQ8FikZyNDrQOI%2FWW67m8X6l0Hn5actDkgBRaT7x97OWyPp79Z60Q8hXwfZWIFkKXc%2FrUy8gsxofp78NaJYqIvM62VCbcHVsEZrOnhOgv2UHFiPd1aJpnq0hJNHkB6UGtYjyPJWUd1Wb4%2Bgtt7aOJho%2B1xLsHtx3ULrx38Lzk4i9nqKa52gueOC0gLU3YfiSlaBPVyuyQ7NK17rw4XdqovaqrWcgNzE16sR5wmF%2BZKswRW18pZAgeSKETMckYPFOuSi8mDJn6GIuIjOZ7ge8vYR0qN8VKuFLJy9negK0vf9Ebmkc2cRO5ddoWHfmg9%2B1SZvM2KpZYobXgVzvqz0j3EKL46iNcMM1eBg5f4Kd4Ksjl7JuESq7BF3YHbckgBr8qHs%2BfUSScojbc9By27HyoNi7mHchWZfZLi4kajo%2FC0e02JdOICASutGeEHrCq7jL%2BFXu3jbr%2FbIuCradWGcSGJPhiPMTBKThBv6HdTZ0w2wFPQjFOLj9ErOpbMqo5ZaZDNj%2FlpcWK5VgKXu9Ky3dp088ythsTMBC0fJVE8kYOBix%2F4X5MI5UzqxuxtIpNQZr7LvJFU0Q%2FbJgNztQPNssnxnAujVrY9uk5utO%2Fe4jWB7OesvNjI6cM%2FdByz5qxUV1JPuTOfVUkix2FJHmhCmPMs1yOfCPvpVe4%2BVv1jw4iv0qPOblIV8CHM8H1im7fCCjS%2FB5l2Y1RSrFJp%2Fu%2F1Am7m1YXIQJHvZog4SK21mgPC5Ue525AuD0%2BU%2FVZvfM%2FJwEWSpWNv1A%2BxUPppGEdJwhjq%2FdBp7xI1ptt%2FZ3E%2Bf%2BoHRMuW0lGzpwz50T%2BZbDG58Dt%2F%2BuYpyqPpcFdE5pScogY3iky26maE5eUyCAx8a2gp0llCL9AkW79YOSBkWfMmQ%3D%3D&rb=x\n",
      "Link numero 23 :\n",
      "https://click1.mercadolibre.com.pe/mclics/clicks/external/MPE/count?a=Xgm5ONEBM2ve%2FW8mpXSRz67RekwX2tJKrdyhjBND5RmmrB7aKsjUKYU0P3qWB7%2B6HMyu2D8uFMnH5sTTNRC7eLQxIn2Eo2cHz4SjSJVcr0FzEhlAOj0X5mNVvDGwkX6%2B7G0BayuCPRuDWv8rLAZ5go9cBBJGRI7v5jaPm%2FPwRuDpeNGtX%2FevOr7089ejPSC3RHN%2FcdueHhd7RL82HVjcunPlkwFNOHGipL6WyYFlPge7rwk6SXspgLY3zSHo049wIq1GVjfgzDXKuTN2QDJalreSXYp%2FvMlBLgerCbppoDeconxF32xRLBSMH9aUp4K5qQOQbq%2FNV%2BvrqW3GFhFNh0vpyAVfvvKRdyCN7oVuQUGKMmP8pYE6lIvinDEUAIJwNrvjYbo2vNhlunJ9FRqaKONHqAsCiYMhrBc06cNJPTG6hSyJ2d9Hqhx9ZlsCvtttHSrluKlnd1P0juV1krCMM3PxYm4XnpHOg50SdcRdRz5DLqNnpmKYK7OCZzBkrYMoSGJza9V69nTNm2RfFvDkBZFicrfRto0b8fUXEs08gtG9GuQY8%2B9xDVfZpkzOYlmObxkVcky5xQjdbhVHqzujKZATXEXKpj2pP527jiV%2BxMdcG%2B7%2BhgnVWmU5CuxHVnJy368DSfePgjmwOr4X%2B5UVhR5viv4IXTGlHKIFA1JsxOUov4sjU3dgP73eiDEMOYrb0INHmG6dzo554rY9h2HMLFwpF8bZwizH0Az%2FxZsN7R3K5P0RqhB%2FHNHvdGka3cX1cTOKKfvPQ6%2BQbs2IfjkFAUkO9wGO3oM2FdMWaVQc%2FgAuGakYwbZWlFyVIx2w9V2hPw7w9%2B4%2Bmn5e9buvB%2FwyW2lgPS5Hd0BPiR78mTW%2FmedfWYtKHM9aqqB70NaCxBBSZDkEs2A3uQKpwxBAC%2BL3S%2FykHxMrDroQzSqtqV1CbpV9p4AQJ6YQpzArMJoXULecEJsI7AGjSJ5k8Yz8JuomHhVwOPy9D45H743%2FyuSDQy35VVzwgjxwQGYsINJf3sHBxWWkIK8bA289uCkeG1fzvyGUtNDGDRuVCEYEfak2%2F9wbZ7EA1P6I7VML4gqMYmEN84ss4igk2UXpFFdo0YJ%2Byno%2FfomGux%2BV6qpRs%2FlPXIku1t87XaY6vw00b7H%2BN7ST0VTeE2Ua60icXE1EZlNuDE7ruFRD0ASBFysHFIGMVWsg%2Bgzs6PW08rvpbWnLjIt%2BgYL7XY5WfzLzRtZrAjh98zTJqweg4G0yMC8YA1UNBd1qBebanuAtITehUJCxv7zovfo9XXqsMhmjLnQI%2B%2B%2FZEQ3we%2BJ9Whu53z3REHtfy%2FpGztvGAuIUAqlfm17g52mGMZx32%2Fq3UFTOPaeYhoAg1rvz349jTxPjX3DIcJUvdovyLAWRLWcX6%2FqmevmQlAatQUOwwYLnAoeULBnJWd4FUyo0gS1F261PkkdoLD4UUHn1sYdkgwynt9k6usDIHfLHyX2xEG6U4%2Br8apUfz1gXtwNzyFdafMFdQo6c3ur0NfiY0Z4%2BB%2FOAvqumtAVQsvdVaEKA7HInKgtL0%2FIxNG59OWf3ENsmZyghWieyNnapFplJDYTzxBPvorKYRc8eaCdv3gmCqV9UbSYa0uoYpiAu%2BCa9qDpdiEyxTm5LK9mEDSeyPOuTl49%2BdjOm9r48j%2FNS%2FZ9bqRuJzxnxbIoLgUzaKnQ8bDD8X9iVOoNi9vzKjbetxtYSR9Ffy01LgrEjmh9Y2xCn2Xbhj%2B0gyg%3D%3D&rb=x\n",
      "Link numero 24 :\n",
      "https://articulo.mercadolibre.com.pe/MPE-425506790-zapatos-hombre-casual-exclusivo-reforzado-negro-38-39-42-43-_JM?searchVariation=30441479241#searchVariation=30441479241&position=24&search_layout=grid&type=item&tracking_id=bf38fac2-aa04-49a5-ba7c-15fa9367ca1d\n",
      "Link numero 25 :\n",
      "https://articulo.mercadolibre.com.pe/MPE-442647058-calzado-zapatos-mocasin-topsider-p-cuero-talla-3943-bmshoes-_JM?searchVariation=72699488171#searchVariation=72699488171&position=25&search_layout=grid&type=item&tracking_id=bf38fac2-aa04-49a5-ba7c-15fa9367ca1d\n",
      "Link numero 26 :\n",
      "https://articulo.mercadolibre.com.pe/MPE-440705453-zapatos-caterpillar-de-hombre-100-cuero-_JM?searchVariation=63946625707#searchVariation=63946625707&position=26&search_layout=grid&type=item&tracking_id=bf38fac2-aa04-49a5-ba7c-15fa9367ca1d\n",
      "Link numero 27 :\n",
      "https://articulo.mercadolibre.com.pe/MPE-441683763-zapatos-formales-alonso-ju-marron-fakers-_JM?searchVariation=66323460461#searchVariation=66323460461&position=27&search_layout=grid&type=item&tracking_id=bf38fac2-aa04-49a5-ba7c-15fa9367ca1d\n",
      "Link numero 28 :\n",
      "https://articulo.mercadolibre.com.pe/MPE-421173692-zapatos-de-hombre-_JM?searchVariation=61173736348#searchVariation=61173736348&position=28&search_layout=grid&type=item&tracking_id=bf38fac2-aa04-49a5-ba7c-15fa9367ca1d\n",
      "Link numero 29 :\n",
      "https://articulo.mercadolibre.com.pe/MPE-440699112-zapatos-de-cuero-caterpillar-hombre-_JM?searchVariation=63953830259#searchVariation=63953830259&position=29&search_layout=grid&type=item&tracking_id=bf38fac2-aa04-49a5-ba7c-15fa9367ca1d\n",
      "Link numero 30 :\n",
      "https://articulo.mercadolibre.com.pe/MPE-441051619-zapatos-de-hombre-caterpillar-100-cuero-_JM?searchVariation=63035269199#searchVariation=63035269199&position=30&search_layout=grid&type=item&tracking_id=bf38fac2-aa04-49a5-ba7c-15fa9367ca1d\n",
      "Link numero 31 :\n",
      "https://articulo.mercadolibre.com.pe/MPE-421671954-zapato-de-hombremocasines-de-hombre-_JM?searchVariation=72872782599#searchVariation=72872782599&position=31&search_layout=grid&type=item&tracking_id=bf38fac2-aa04-49a5-ba7c-15fa9367ca1d\n",
      "Link numero 32 :\n",
      "https://articulo.mercadolibre.com.pe/MPE-608234027-zapato-escolar-de-varon-venus-tomas-mocasin-100-cuero-_JM?searchVariation=174208995545#searchVariation=174208995545&position=32&search_layout=grid&type=item&tracking_id=bf38fac2-aa04-49a5-ba7c-15fa9367ca1d\n",
      "Link numero 33 :\n",
      "https://articulo.mercadolibre.com.pe/MPE-441423133-zapatos-formales-cassano-marron-fakers-_JM?searchVariation=65439154292#searchVariation=65439154292&position=33&search_layout=grid&type=item&tracking_id=bf38fac2-aa04-49a5-ba7c-15fa9367ca1d\n",
      "Link numero 34 :\n",
      "https://articulo.mercadolibre.com.pe/MPE-431522672-zapato-de-hombre-mocasin-de-hombre-de-cuero-_JM?searchVariation=95630540706#searchVariation=95630540706&position=34&search_layout=grid&type=item&tracking_id=bf38fac2-aa04-49a5-ba7c-15fa9367ca1d\n",
      "Link numero 35 :\n",
      "https://articulo.mercadolibre.com.pe/MPE-441424895-zapatos-formales-kalvin-marron-fakers-_JM?searchVariation=65442625650#searchVariation=65442625650&position=35&search_layout=grid&type=item&tracking_id=bf38fac2-aa04-49a5-ba7c-15fa9367ca1d\n",
      "Link numero 36 :\n",
      "https://articulo.mercadolibre.com.pe/MPE-441423132-zapatos-formales-tristan-cobre-fakers-_JM?searchVariation=65439153726#searchVariation=65439153726&position=36&search_layout=grid&type=item&tracking_id=bf38fac2-aa04-49a5-ba7c-15fa9367ca1d\n",
      "Link numero 37 :\n",
      "https://articulo.mercadolibre.com.pe/MPE-441425053-zapatos-formales-donald-nutria-fakers-_JM?searchVariation=65442803596#searchVariation=65442803596&position=37&search_layout=grid&type=item&tracking_id=bf38fac2-aa04-49a5-ba7c-15fa9367ca1d\n",
      "Link numero 38 :\n",
      "https://articulo.mercadolibre.com.pe/MPE-441684125-zapatos-formales-emanuel-negro-fakers-_JM?searchVariation=66324056793#searchVariation=66324056793&position=38&search_layout=grid&type=item&tracking_id=bf38fac2-aa04-49a5-ba7c-15fa9367ca1d\n",
      "Link numero 39 :\n",
      "https://articulo.mercadolibre.com.pe/MPE-441059317-zapatos-caterpillar-hombre-100-cuero-_JM?searchVariation=68213403044#searchVariation=68213403044&position=39&search_layout=grid&type=item&tracking_id=bf38fac2-aa04-49a5-ba7c-15fa9367ca1d\n",
      "Link numero 40 :\n",
      "https://articulo.mercadolibre.com.pe/MPE-441425119-zapatos-casuales-paris-olivo-fakers-_JM?searchVariation=69383011019#searchVariation=69383011019&position=40&search_layout=grid&type=item&tracking_id=bf38fac2-aa04-49a5-ba7c-15fa9367ca1d\n",
      "Link numero 41 :\n",
      "https://articulo.mercadolibre.com.pe/MPE-441689219-zapatos-formales-field-habano-fakers-_JM?searchVariation=66331651701#searchVariation=66331651701&position=41&search_layout=grid&type=item&tracking_id=bf38fac2-aa04-49a5-ba7c-15fa9367ca1d\n",
      "Link numero 42 :\n",
      "https://articulo.mercadolibre.com.pe/MPE-441454340-zapatos-casuales-midway-olivo-fakers-_JM?searchVariation=65506616236#searchVariation=65506616236&position=42&search_layout=grid&type=item&tracking_id=bf38fac2-aa04-49a5-ba7c-15fa9367ca1d\n",
      "Link numero 43 :\n",
      "https://articulo.mercadolibre.com.pe/MPE-440707170-zapatos-caterpillar-100-cuero-original-nuevo-modelo-_JM?searchVariation=63436012733#searchVariation=63436012733&position=43&search_layout=grid&type=item&tracking_id=bf38fac2-aa04-49a5-ba7c-15fa9367ca1d\n",
      "Link numero 44 :\n",
      "https://articulo.mercadolibre.com.pe/MPE-447265106-zapatos-de-hombre-moda-casual-_JM?searchVariation=91402532272#searchVariation=91402532272&position=44&search_layout=grid&type=item&tracking_id=bf38fac2-aa04-49a5-ba7c-15fa9367ca1d\n",
      "Link numero 45 :\n",
      "https://articulo.mercadolibre.com.pe/MPE-440690369-zapatos-caterpillar-kennedy-de-hombre-_JM?searchVariation=63948074687#searchVariation=63948074687&position=45&search_layout=grid&type=item&tracking_id=bf38fac2-aa04-49a5-ba7c-15fa9367ca1d\n",
      "Link numero 46 :\n",
      "https://articulo.mercadolibre.com.pe/MPE-432405450-zapatillas-nike-tipo-mocasines-original-modelo-toki-_JM?searchVariation=173609036370#searchVariation=173609036370&position=46&search_layout=grid&type=item&tracking_id=bf38fac2-aa04-49a5-ba7c-15fa9367ca1d\n",
      "Link numero 47 :\n",
      "https://articulo.mercadolibre.com.pe/MPE-441454738-zapatos-formales-field-negro-fakers-_JM?searchVariation=65507407129#searchVariation=65507407129&position=47&search_layout=grid&type=item&tracking_id=bf38fac2-aa04-49a5-ba7c-15fa9367ca1d\n",
      "Link numero 48 :\n",
      "https://articulo.mercadolibre.com.pe/MPE-441444487-zapatos-casuales-paris-azul-fakers-_JM?searchVariation=65487846628#searchVariation=65487846628&position=48&search_layout=grid&type=item&tracking_id=bf38fac2-aa04-49a5-ba7c-15fa9367ca1d\n",
      "Link numero 49 :\n",
      "https://articulo.mercadolibre.com.pe/MPE-441512771-zapatos-casuales-andrew-azulino-fakers-_JM?searchVariation=65710213643#searchVariation=65710213643&position=49&search_layout=grid&type=item&tracking_id=bf38fac2-aa04-49a5-ba7c-15fa9367ca1d\n",
      "Link numero 50 :\n",
      "https://articulo.mercadolibre.com.pe/MPE-435547131-calzado-zapatos-jovenes-liso-puro-cuero-tallas-3943-bmshoes-_JM?searchVariation=37508917793#searchVariation=37508917793&position=50&search_layout=grid&type=item&tracking_id=bf38fac2-aa04-49a5-ba7c-15fa9367ca1d\n",
      "Link numero 51 :\n",
      "https://articulo.mercadolibre.com.pe/MPE-441424267-zapatos-formales-arnolds-marron-fakers-_JM?searchVariation=65441652463#searchVariation=65441652463&position=51&search_layout=grid&type=item&tracking_id=bf38fac2-aa04-49a5-ba7c-15fa9367ca1d\n",
      "Link numero 52 :\n",
      "https://articulo.mercadolibre.com.pe/MPE-441513718-mocasines-casuales-hawai-negro-fakers-_JM?searchVariation=65711514027#searchVariation=65711514027&position=52&search_layout=grid&type=item&tracking_id=bf38fac2-aa04-49a5-ba7c-15fa9367ca1d\n",
      "Link numero 53 :\n",
      "https://articulo.mercadolibre.com.pe/MPE-441513898-zapatos-casuales-venecia-marron-fakers-_JM?searchVariation=65711931098#searchVariation=65711931098&position=53&search_layout=grid&type=item&tracking_id=bf38fac2-aa04-49a5-ba7c-15fa9367ca1d\n",
      "Link numero 54 :\n",
      "https://click1.mercadolibre.com.pe/mclics/clicks/external/MPE/count?a=6qt7TnYscqqqzaOdk%2BLh8bemMDW%2BwoM1ndIoWgMaCqlBGf5CDCagweXtMM8AH2wIrwYpSH%2Ftw9%2FqJnceD8d0FgPjPitzP65to43vlJslOsuhGEGj1VcPrkNd8K8Ij5cc0CxiO48pWHiMatYnI71BfkgsIDw%2FdwVX3FJokDQv1BhlqvpuI%2BgvrDEI6gBg%2F8kmMBd8YXob0RpyETjFZES%2FU5xw3prRdfiE8IrYLMxm8zfyTZZmSls%2Bt0%2FTsZSqgDC2vfVXk%2B7GpAdfgIwj5IstanZio%2Bzvqc6ROJ6kSbYj5u4pivXW6dX97aRAvgwP4FWd8xUMV9Q7XTcVe8mwzs7dqUkana3aQB1qKFujLMc67bpmmVudpcR7goTYW5rR9Qd9gsR7LvXxqIu9aOF6SauuI6rzqm7SSmR62WxC1VrRK0aO3eZmM3v7Zf5NgElhlhMFI3n7daf1rfDArNogkIYT6nBlZEyy%2FyDGNeDcvPn66%2BFOOAkOaOQ8%2B98W%2FtfSJjYDP53a8Vq28FcS89wr6%2FiBWdfWhHWDPKfVm5nx%2FDphKX8k1BLfHnWt4Kb2R6VwUzhi0GcaXNbH6mw%2BSaDNHoci3lNjLcmRkRT5ozuiulCNGPi338GVGftSfsZENNgZO8YshnzZoIuxFCYZ91JUeV9VK3zY6Y%2FqLyYOdVoSLlARzaiCeHwI4uDLTFyFJrYKlDW3VeBHrrF%2FESn0FhofN7yDxQzAKHjCzQsxbSbdcwe3UUzNyuiu7ZNBQa7Sl2lJGPF8uEeLr9g5%2Bfk8iNmOhTvH%2BK1Ga5KkAFlFeg6Z6ePW1C8CYDzqwDo8v5AyGEloZ%2B7FxOtN6G%2F4vuuM%2BHD%2Ft1QOu6Igy3vish9yJyu3sr41f4ghSRe32%2FBVs%2FVg0g%2BA3QU7iD8yx5tZcFOrKznGZPzZhHoT7stPpGfMrxI9JjVTQAYtMH6mjXivUFpVgtdOw4h3F%2FUK5jW5vqogDamqU3x4%2B5t9FZa%2FAVJUyIX3uV%2B4PDzefQRf3QEyWS4%2Bmxm5dw2woxR01a4xru%2FWvZjmijC4rKejVJOjD6x8ySahor7WXrmJm833Pp%2BKskqvcngnPYf8y2UMOvuORZfDmHlS1DxoO1YUbyIlJo8YiQAh0VSXSDb75SJWDhWIl7Emg5WZRLJ3QhqWGyWTyyRSj0Bi%2F6%2B42IaxlaAmX%2FFZY5IuzhgtOpOR%2BdMevgXhj9d%2BJI6KtdXg%2FgXfQlj2xA18Df8wfpzwFBlGiq7lKn8lUJ0QESRti8lAGR2R%2BV7O%2BX7wKDSBUB5bAzZshPR6k7UDkcOkUa4jQU1QHT6G1uVDdgDQJQ%2FsVn3QVAMfPRm0SzYuieS7GWEgK%2B02Ls%2BgpkdurgkT8KaDjxsQtk7ENhCgYT%2FEE3X5bEs5w8iJ4zYj0NO0kK5O0xAUpPQU%2B1voShY%2FdNiGhhC0yXzT2rz0cglbEdKGeaOehn99eeNIWrLkWjp3kCi54AXLiWTk%2B7cNwjlTVuCLu95zx3BexzUxb%2BgJj6HJ0jDrGSfJyUu4uVTh3wW7IjYCFFdDVsDubUsYDDOaIr8%2BA%2Fg9tFpQg4cOIGXR5yxeal9Zq02ELzsDJPQJ9ysdeYzY7Ol9JRZoFkbukWrpeCa3z%2BQkMl%2F3w%2F7I2RuPtXzh%2FyGB9GV9KB%2BfxAXrt2gArkUCLq0SJJQqBO4zSv5HOpOMrRa3j7pFa%2BZ0U3e4R4f0K8PFBC9X2RNm%2FTf7QYxqWg%3D%3D&rb=x\n"
     ]
    }
   ],
   "source": [
    "# De una forma mas ordenada y para verificar que la cantidad de URLS sea la correcta:\n",
    "x=0\n",
    "for x in range(len(urls)):\n",
    "    print('Link numero',x+1,':')\n",
    "    print(urls[x])\n",
    "    x==x+1"
   ]
  }
 ],
 "metadata": {
  "kernelspec": {
   "display_name": "Python 3 (ipykernel)",
   "language": "python",
   "name": "python3"
  },
  "language_info": {
   "codemirror_mode": {
    "name": "ipython",
    "version": 3
   },
   "file_extension": ".py",
   "mimetype": "text/x-python",
   "name": "python",
   "nbconvert_exporter": "python",
   "pygments_lexer": "ipython3",
   "version": "3.9.7"
  }
 },
 "nbformat": 4,
 "nbformat_minor": 5
}
