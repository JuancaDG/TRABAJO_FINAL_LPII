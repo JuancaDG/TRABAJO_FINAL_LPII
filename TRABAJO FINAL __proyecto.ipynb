{
 "cells": [
  {
   "cell_type": "markdown",
   "id": "5f58b378",
   "metadata": {},
   "source": [
    "### Librerias"
   ]
  },
  {
   "cell_type": "code",
   "execution_count": 20,
   "id": "e7e5dfce",
   "metadata": {},
   "outputs": [],
   "source": [
    "## librerias\n",
    "import requests\n",
    "from bs4 import BeautifulSoup\n",
    "from lxml import etree"
   ]
  },
  {
   "cell_type": "markdown",
   "id": "8590d86d",
   "metadata": {},
   "source": [
    "### Ingresando el nombre del producto que se desea buscar en la pagina \"MERCADO LIBRE\"\n",
    "\n",
    "- Crearemos un objeto llamado \"url\" del tipo str.\n",
    "- Crearemos un bucle con la funcion While que nos permitira ingresar el nombre del producto cuantas veces deaseamos buscar.\n",
    "- Con la funsion split() dividiremos una cadena de una lista donde cada palabra es un elemento de la lista.\n",
    "- Si la longitud es mayor a uno pasara la condicional if.\n",
    "- Ahora buscaremos concatenar la url de la pagina mas el nombre del producto(primera y segunda parte del string) que es el     unico que cambia   en el transcurso de la busqueda (split_busqueda[0]), despues las otras partes del url de la pagina  permanesen constantes. \n",
    "- Nos imprimira la url ya concatenada y con la funsion break nos proporcionara la oportunidad de cerrar el bucle."
   ]
  },
  {
   "cell_type": "code",
   "execution_count": 22,
   "id": "40a2dfad",
   "metadata": {},
   "outputs": [
    {
     "name": "stdout",
     "output_type": "stream",
     "text": [
      "ingrese el nombre o nombres, del producto en el que está interesado: zapatos mocasines de hombre\n",
      "https://listado.mercadolibre.com.pe/zapatos-mocasines-de-hombre#D[A:zapatos%20mocasines%20de%20hombre]\n"
     ]
    }
   ],
   "source": [
    "url = ''\n",
    "while True:\n",
    "    busqueda = str(input('ingrese el nombre o nombres, del producto en el que está interesado: '))\n",
    "    split_busqueda = busqueda.split()\n",
    "    if len(split_busqueda) > 1:\n",
    "        primera_parte_string = '-'.join(split_busqueda)\n",
    "        segunda_parte_string = '%20'.join(split_busqueda)\n",
    "        url = 'https://listado.mercadolibre.com.pe/'+ primera_parte_string +'#D[A:'+ segunda_parte_string +']'\n",
    "        #url = https://listado.mercadolibre.com.pe/     jamon                #D[A:    jamon]\n",
    "        print(url)\n",
    "        break\n",
    "    elif len(split_busqueda) == 1:\n",
    "        url = 'https://listado.mercadolibre.com.pe/'+ split_busqueda[0] +'#D[A:'+ split_busqueda[0] +']'\n",
    "        print(url)\n",
    "        break\n",
    "    else:\n",
    "        print('Incorrecto. No ha ingresado ningún nombre')\n",
    "        \n",
    "\n",
    "#EJEMPLO1\n",
    "# https://listado.mercadolibre.com.pe/zapatos-mocasines-de-hombre#D[A:zapatos%20mocasines%20de%20hombre]\n",
    "# ingrese el nombre o nombres, del producto en el que está interesado:      zapatos mocasines de hombre\n",
    "\n",
    "#EJEMPLO2\n",
    "# https://listado.mercadolibre.com.pe/jamon#D[A:jamon]\n",
    "# ingrese el nombre o nombres, del producto en el que está interesado:        jamon\n",
    "\n",
    "#FUENTE BIBLIOGRÁFICA: https://blog.carreralinux.com.ar/2017/07/uso-split-y-join-python/"
   ]
  },
  {
   "cell_type": "code",
   "execution_count": 23,
   "id": "e0007a7c",
   "metadata": {},
   "outputs": [
    {
     "data": {
      "text/plain": [
       "200"
      ]
     },
     "execution_count": 23,
     "metadata": {},
     "output_type": "execute_result"
    }
   ],
   "source": [
    "r = requests.get(url)                              #Haciendo la Peticion o solicitud de la pagina web\n",
    "r.status_code                                      #Viendo el estado (200 es correcto)"
   ]
  },
  {
   "cell_type": "code",
   "execution_count": 24,
   "id": "1fc22a90",
   "metadata": {},
   "outputs": [],
   "source": [
    "soup = BeautifulSoup(r.content,\"html.parser\")      #Haciendo soup para extraer información de contenido en formato HTML\n",
    "#soup"
   ]
  },
  {
   "cell_type": "markdown",
   "id": "43c55626",
   "metadata": {},
   "source": [
    "## Obteniendo los títulos de los productos"
   ]
  },
  {
   "cell_type": "code",
   "execution_count": 25,
   "id": "5a6b6453",
   "metadata": {},
   "outputs": [],
   "source": [
    "# Me dara todos los TITULOS del producto (como una lista)\n",
    "titulos = soup.find_all(\"h2\",attrs={\"class\":\"ui-search-item__title\"})\n",
    "#titulos             # 100pre\n",
    "#titulos[0].text    # solo imprimira el texto"
   ]
  },
  {
   "cell_type": "code",
   "execution_count": 26,
   "id": "3b3bcd80",
   "metadata": {},
   "outputs": [
    {
     "name": "stdout",
     "output_type": "stream",
     "text": [
      "[<h2 class=\"ui-search-item__title ui-search-item__group__element\">Zapatos Caterpillar Kennedy De Hombre </h2>, <h2 class=\"ui-search-item__title ui-search-item__group__element\">Zapatos Mocasines De Hombre Cat 100% De Cuero</h2>, <h2 class=\"ui-search-item__title ui-search-item__group__element\">Semi Botín Caterpillar De Hombre Chavito </h2>, <h2 class=\"ui-search-item__title ui-search-item__group__element\">Zapatillas Caterpillar Warrant De Hombre </h2>, <h2 class=\"ui-search-item__title ui-search-item__group__element\">Zapatos Formales Berlin Negro - Fakers</h2>, <h2 class=\"ui-search-item__title ui-search-item__group__element\">Zapatos Casuales Kemer Negro - Fakers</h2>, <h2 class=\"ui-search-item__title ui-search-item__group__element\">Zapatos De Hombre Caterpillar De Cuero Legítimo Moda</h2>, <h2 class=\"ui-search-item__title ui-search-item__group__element\">Zapatos Caterpillar Duo Para Parejas </h2>, <h2 class=\"ui-search-item__title ui-search-item__group__element\">Zapato De Hombre Cuero,mocasines De Hombre</h2>, <h2 class=\"ui-search-item__title ui-search-item__group__element\">Calzado Zapatos Jóvenes Puro Cuero Tallas 39/43 Bmshoes New</h2>, <h2 class=\"ui-search-item__title ui-search-item__group__element\">Zapatos Caterpillar Kennedy De Hombre </h2>, <h2 class=\"ui-search-item__title ui-search-item__group__element\">Mocasines Casuales Hawai Negro - Fakers</h2>, <h2 class=\"ui-search-item__title ui-search-item__group__element\">Mocasines De Hombre Moda Urbana</h2>, <h2 class=\"ui-search-item__title ui-search-item__group__element\">Zapatos Casuales Venecia Negro - Fakers</h2>, <h2 class=\"ui-search-item__title ui-search-item__group__element\">Zapatos Caterpillar De Hombre 100% Cuero Original</h2>, <h2 class=\"ui-search-item__title ui-search-item__group__element\">Zapatos Cat De Hombre Puro Cuero </h2>, <h2 class=\"ui-search-item__title ui-search-item__group__element\">Zapato Para Hombre De Cuero,mocasin De Hombre</h2>, <h2 class=\"ui-search-item__title ui-search-item__group__element\">Zapato Talla 38 Pierre Cardin Cuero Mocasin</h2>, <h2 class=\"ui-search-item__title ui-search-item__group__element\">Zapatos Mocasines Para Hombre Marca Levis Importado De Usa</h2>, <h2 class=\"ui-search-item__title ui-search-item__group__element\">Zapatos Formales Kalvin Tang - Fakers</h2>, <h2 class=\"ui-search-item__title ui-search-item__group__element\">Zapatos Hombre Casual Exclusivo Reforzado Negro 38-39, 42-43</h2>, <h2 class=\"ui-search-item__title ui-search-item__group__element\">Semi Botín Caterpillar De Hombre Chavito </h2>, <h2 class=\"ui-search-item__title ui-search-item__group__element\">Mocasines De Lujo Para Hombre 100% Cuero Legítimo</h2>, <h2 class=\"ui-search-item__title ui-search-item__group__element\">Calzado Zapatos Mocasín Topsider P Cuero Talla 39/43 Bmshoes</h2>, <h2 class=\"ui-search-item__title ui-search-item__group__element\">Zapatos Caterpillar De Hombre 100% Cuero</h2>, <h2 class=\"ui-search-item__title ui-search-item__group__element\">Zapatos Formales Alonso Ju Marrón - Fakers</h2>, <h2 class=\"ui-search-item__title ui-search-item__group__element\">Zapatos De Hombre</h2>, <h2 class=\"ui-search-item__title ui-search-item__group__element\">Zapatos De Cuero Caterpillar Hombre</h2>, <h2 class=\"ui-search-item__title ui-search-item__group__element\">Zapatos De Hombre Caterpillar 100% Cuero</h2>, <h2 class=\"ui-search-item__title ui-search-item__group__element\">Zapato De Hombre,mocasines De Hombre</h2>, <h2 class=\"ui-search-item__title ui-search-item__group__element\">Zapato Escolar De Varon Venus Tomas Mocasín 100% Cuero</h2>, <h2 class=\"ui-search-item__title ui-search-item__group__element\">Zapatos Formales Cassano Marrón - Fakers</h2>, <h2 class=\"ui-search-item__title ui-search-item__group__element\">Zapato De Hombre, Mocasin De Hombre De Cuero</h2>, <h2 class=\"ui-search-item__title ui-search-item__group__element\">Zapatos Formales Kalvin Marrón - Fakers</h2>, <h2 class=\"ui-search-item__title ui-search-item__group__element\">Zapatos De Hombre Caterpillar Liquidación </h2>, <h2 class=\"ui-search-item__title ui-search-item__group__element\">Zapatos Formales Field Habano - Fakers</h2>, <h2 class=\"ui-search-item__title ui-search-item__group__element\">Zapatos Formales Tristan Cobre - Fakers</h2>, <h2 class=\"ui-search-item__title ui-search-item__group__element\">Zapatos Formales Donald Nutria - Fakers</h2>, <h2 class=\"ui-search-item__title ui-search-item__group__element\">Zapatos Formales Emanuel Negro - Fakers</h2>, <h2 class=\"ui-search-item__title ui-search-item__group__element\">Zapatos Caterpillar Hombre 100% Cuero </h2>, <h2 class=\"ui-search-item__title ui-search-item__group__element\">Zapatos Casuales Paris Olivo - Fakers</h2>, <h2 class=\"ui-search-item__title ui-search-item__group__element\">Zapatos Formales Field Habano - Fakers</h2>, <h2 class=\"ui-search-item__title ui-search-item__group__element\">Zapatos Casuales Midway Olivo - Fakers</h2>, <h2 class=\"ui-search-item__title ui-search-item__group__element\">Zapatos Caterpillar 100% Cuero Original Nuevo Modelo </h2>, <h2 class=\"ui-search-item__title ui-search-item__group__element\">Zapatos De Hombre Moda Casual</h2>, <h2 class=\"ui-search-item__title ui-search-item__group__element\">Zapatos Caterpillar Kennedy De Hombre</h2>, <h2 class=\"ui-search-item__title ui-search-item__group__element\">Zapatillas Nike Tipo Mocasines Original Modelo Toki</h2>, <h2 class=\"ui-search-item__title ui-search-item__group__element\">Zapatos Formales Field Negro - Fakers</h2>, <h2 class=\"ui-search-item__title ui-search-item__group__element\">Zapatos Casuales Paris Azul - Fakers</h2>, <h2 class=\"ui-search-item__title ui-search-item__group__element\">Zapatos Casuales Andrew Azulino - Fakers</h2>, <h2 class=\"ui-search-item__title ui-search-item__group__element\">Calzado Zapatos Jóvenes Liso Puro Cuero Tallas 39/43 Bmshoes</h2>, <h2 class=\"ui-search-item__title ui-search-item__group__element\">Zapatos Formales Arnolds Marrón - Fakers</h2>, <h2 class=\"ui-search-item__title ui-search-item__group__element\">Mocasines Casuales Hawai Negro - Fakers</h2>, <h2 class=\"ui-search-item__title ui-search-item__group__element\">Zapatos Casuales Venecia Marron - Fakers</h2>]\n"
     ]
    }
   ],
   "source": [
    "#titulos = [i.text for i in titulos] # NOTA: SOLO SE PUEDE CORRER ESTA FUNCION UNA (1) VEZ\n",
    "print(titulos)"
   ]
  },
  {
   "cell_type": "markdown",
   "id": "79501bb8",
   "metadata": {},
   "source": [
    "## Obteniendo sus respectivas url's"
   ]
  },
  {
   "cell_type": "code",
   "execution_count": 27,
   "id": "eeaed128",
   "metadata": {},
   "outputs": [],
   "source": [
    "# Obteniendo las URL de cada producto \n",
    "urls = soup.find_all(\"a\",attrs={\"class\":\"ui-search-result__content ui-search-link\"})\n",
    "urls = [i.get(\"href\") for i in urls]\n",
    "\n",
    "if len(urls) == 0:\n",
    "    urls = soup.find_all(\"a\", class_=\"ui-search-item__group__element ui-search-link\")\n",
    "    urls = [i.get(\"href\") for i in urls]\n",
    "\n",
    "# Cantidad de URLS\n",
    "#print(len(urls))"
   ]
  },
  {
   "cell_type": "code",
   "execution_count": 28,
   "id": "6e6fa718",
   "metadata": {},
   "outputs": [
    {
     "name": "stdout",
     "output_type": "stream",
     "text": [
      "['https://articulo.mercadolibre.com.pe/MPE-446724105-zapatos-caterpillar-kennedy-de-hombre-_JM?searchVariation=90375580188#searchVariation=90375580188&position=1&search_layout=grid&type=item&tracking_id=70103ec4-69bd-48d2-b64a-4ea0efd1224f', 'https://articulo.mercadolibre.com.pe/MPE-447015792-zapatos-mocasines-de-hombre-cat-100-de-cuero-_JM?searchVariation=173605449883#searchVariation=173605449883&position=2&search_layout=grid&type=item&tracking_id=70103ec4-69bd-48d2-b64a-4ea0efd1224f', 'https://articulo.mercadolibre.com.pe/MPE-446797976-semi-botin-caterpillar-de-hombre-chavito-_JM?searchVariation=173566698565#searchVariation=173566698565&position=3&search_layout=grid&type=item&tracking_id=70103ec4-69bd-48d2-b64a-4ea0efd1224f', 'https://articulo.mercadolibre.com.pe/MPE-447007362-zapatillas-caterpillar-warrant-de-hombre-_JM?searchVariation=173964411872#searchVariation=173964411872&position=4&search_layout=grid&type=item&tracking_id=70103ec4-69bd-48d2-b64a-4ea0efd1224f', 'https://articulo.mercadolibre.com.pe/MPE-441423837-zapatos-formales-berlin-negro-fakers-_JM?searchVariation=65440774000#searchVariation=65440774000&position=5&search_layout=grid&type=item&tracking_id=70103ec4-69bd-48d2-b64a-4ea0efd1224f', 'https://articulo.mercadolibre.com.pe/MPE-441446191-zapatos-casuales-kemer-negro-fakers-_JM?searchVariation=73287430817#searchVariation=73287430817&position=6&search_layout=grid&type=item&tracking_id=70103ec4-69bd-48d2-b64a-4ea0efd1224f', 'https://articulo.mercadolibre.com.pe/MPE-603562246-zapatos-de-hombre-caterpillar-de-cuero-legitimo-moda-_JM?searchVariation=174059237981#searchVariation=174059237981&position=7&search_layout=grid&type=item&tracking_id=70103ec4-69bd-48d2-b64a-4ea0efd1224f', 'https://articulo.mercadolibre.com.pe/MPE-447005828-zapatos-caterpillar-duo-para-parejas-_JM?searchVariation=173964950059#searchVariation=173964950059&position=8&search_layout=grid&type=item&tracking_id=70103ec4-69bd-48d2-b64a-4ea0efd1224f', 'https://articulo.mercadolibre.com.pe/MPE-430839593-zapato-de-hombre-cueromocasines-de-hombre-_JM?searchVariation=72974300850#searchVariation=72974300850&position=9&search_layout=grid&type=item&tracking_id=70103ec4-69bd-48d2-b64a-4ea0efd1224f', 'https://articulo.mercadolibre.com.pe/MPE-435547128-calzado-zapatos-jovenes-puro-cuero-tallas-3943-bmshoes-new-_JM?searchVariation=75847363136#searchVariation=75847363136&position=10&search_layout=grid&type=item&tracking_id=70103ec4-69bd-48d2-b64a-4ea0efd1224f', 'https://click1.mercadolibre.com.pe/mclics/clicks/external/MPE/count?a=Fs4dp4WTVQWv4NVIk%2Bf5XQhFwSeDgH76H4e1Mxp17lLTsXy%2BY88Jqd2AAojsuX4aG7gi1aeRcCqkt85Kyl%2F72DKdpwjlil9rLlGpjn%2FIDEfvsnhixbckufOekuaXTOij2bHpZP2vdXyY5H9WPb%2BW0V2GnVmEHCOt5repUW37QyEcG95twczBAS2kod448yXP1Bsnt4vE%2FPmZ7CBx%2F%2FhoLZ4feqs1g7diELUpkFgeDd1jVIdranXUbn4MYnrTAe224w30WHau48oU%2BrCKupZZ%2BNH4Xm%2FxdXywTql39omrXkJby6MX8UwoN2VbrCazBjLSHyclaGE6wmrnxpdvvzM1XxBLL5tYs8We%2B8dmTE%2B%2BhVaUqZF9qCVmrMD3kcOvqUjxSMOjN6FhwtB%2BIqRIrY893X9nyC4rOQLsCUYEWoRcWjW3dbUIOZWod0Kg9i9rPT9LyUCn78ddtxOx5cFhve5crqCIqodeLwyU42KwclZUvn7UuzxZYixPZZa1J%2BCvET%2F0NIZxbpr7pwY%2BjzZ0J59dmko6vuThCFILblBsdCkdDEPLbYp0pA%2FyIFEivN6B%2BYdNLGGiptRQjameVOZRj2foodwnXuPTqHlv6L7jMCtqO2kxLFh%2FWGnTY80GvWb0eBQdkxNc5YRQxJa94rVhLkCVot%2B03mfN6QLjYGKSnTbGnosP%2BIoL8hTEqFzxF31X5qbn7fW7UhO9%2F9KOgPGf7Lc8IJJDn9iUldJs93e4EbhVsBLHukukWe2jbvErC6QeM%2FgvVofi9x24RI21rbs8UGqqWwgEAljhb30JOAqgsA64iUPV8kxrXI%2FOiQi3hPGgeDI47zc9%2FxaQpU5HImcxliE5Wr8osFX4LV97Si68PPh4Sij1oZuWdIFn62vk0Q%2F8WBPMIoLzIn46tsnR7%2FRDsksj0MrT7zXd22uGEMh46%2BE%2BXiVdYaoXM5kZqQsooV49W2YRgsD8WE%2BqNyNqCMQX6zS5nx2vp242GW4BrDw85qTy16YoyFJA0WlBq7Lnf4ZDaycX7tCPf71B8OTlBjRg86HP11I4lOn1fIM0PofgbKRYwXHFKBe9qs%2B8z0lhLZoBE5Zzwyj54rhrgZebT6sDMqKIRGeTz5xVqUf4b1RVXf04UAsOQYImi7AyEb6i4yBGb961ERNuUJW9ukcDoNZpLfefrRKLQaZPo93X3Iy%2BjmMkOLX%2FyIBh2KFJCSz8PMcek4Ky%2FbVtLYxCDOwrjL%2FpGhqbkP2Lpc%2Fl2BYFasfkuzEqsTQAXV9lkFrBAU%2B4xYhUSYYvlDZO0k9e%2BGv%2BQXNIExQkItOrF28cc5SbLmVx8U6x%2FMP%2BqMLb9jm9m2JSZ8wZ9H8sy68PAbYdHahUmvlhv1w1oig8k%2BGdBG9ZEWTxRApg0cfopjJG0WP4ip2GSzGikMuamHBrJoVGGk4xHv2JfKzJdrbepwPrAbA8713epZxGoUFITK9Fila2gm8i9eN40UNOnUwFcEnBIRzCXl5xE28aAMYGHuFmzQ3DpzaH30Thj55%2FAbmEH7PUnj2IPLWNAcBiHbYoWZ%2FxYEkIua9nTv58UacLCJ2CsLxU7HYVep9zV3szyDXltMnqPRbtuMtNOa94gbGFoIdDyTmiCzxgBkg2XLtqANvjY1VRE%2BKvRDAV%2FJPEFj%2BaupaiMtCTra7aeF0EqKWY07bH%2F0EkV4k5czqrLnyohY4aIKx2Kcha8aUDHVFkEgVlsDW3lh1BXMnV3xaQwtxBhqrrPpmn&rb=x', 'https://click1.mercadolibre.com.pe/mclics/clicks/external/MPE/count?a=FPANedGrMEtICpIkOlRC8J7ATR0msT0CIcD5t0ycSdozoo0Wwp77QZf1Epbf6Y5%2FtvQn%2FSm1jJRyK4Ifo%2FWzmZjev6pw2IvnYZFv4VN9fjofR6B%2BO4QSq6UOKmcj%2F%2FpycptvvoITpyf2gH%2B6eO4lw26y6hR5I7MUbBJRWDquttSBVbD3Ihgc5Me7ddc2i8UvWVJNrXtIfxh6XjA7qg6AXg6%2BjlGIOFEQby%2BwaflmmM1IvFkyYjswryORo5m2Z9aTzxh5IQr9NcNWW5F3qcMF8LWwVTwsVClGFg0aV8BLpW9bY%2F9VbiKJjHEywqthtQLzMrpc2XItywrweZ0pZDJsrcKhTWMumacXK7jl2RmzloHbXTffmyaCxouMC6arMbhD%2B%2BnCRXjxYZL5FePdm3btjyN5iqQei1RnMWA2RBcnzJJpdNj02Nn5fYKB%2BmOWykDystX1gL0typLzL8alYt0JgC7wazdHKBgfoD%2BDprHOhMAwJ6FQuGVzQDyIOcDTKDrcSR8vpLVU1u2JfTdR07s5x5iuvZHpGh4BE%2BhWRVBYL62hednYCVnS4TfgOzbb9BlHKDCQZe46j7tbbavQpG2W%2FqXxisMYv19to7cnTwTEj4jIZdMJCN7qLtFIQPF5bSbyIj4hrVIxX%2BUCN7oXCrxM2xbDPOEEMe%2FngjTRReaPr6909VPeBpDrpu4gqJ3Zpk44R8aeirGSk597KP7NBNVqUGvCBjMoZimsj1gjpIkbM1fVhWWQ2PqrQMsoQs7XGuJvmcWYVSDnTbYKGIZcQo5IKlX2GByLlJzleKVWC6Cn3v%2BG9EaL2PLA1QefWiQrMhoHlXR2%2FFvi5re0vMc8R2H6vQWrEprqqgeSAD%2BQOcVQKdrFeFRHBfz7D5YyRv%2Bqz6n0KlnoqvrKcS0huVd3hZfiU00WcgK3SpV%2BDaVGErC72vUqwumCr7Xj6wFsqmvJ3jqFls39MSM3Sker0de%2F0bgdP%2Bmfssmq8%2FsBrthSVgRacXEfDpDk8jVuGrENpBZRXcwGnzd6xCSXtGfW5hxGxBuAOxfcY95duzqolEl1fUzByrvXWFWR%2BsTpJyv%2FVqzhp6Z4z48whHmvWFzhvCH5NTdGLQyX9dZSKzMrmDMrcJ4jiQSR5dN3bY2d6To1jKUS%2B53nZu%2FHvlk661M2kCgBsI1cnhBhwlKv1dWCLu0lW5gOTO65%2FrD3ZyP867RIQZ5fDl8Yungoedgqfo3h7TArBuSWwxM1iLn4D9iop8bmjfvibnHWNd%2BJmokcfUnGiV%2B%2B7YRWyhE67Qr%2FMof5E70Nq19aWONV0D7qfEhteT%2F4TxwWpDFhU9DTiWAHhXMP1yRShSr%2F%2FgJAXA2A%2FrzWyzroFcXM8UPw%2B%2FWku31r00D7EQObeTCsC7sNrWYZYvpRUDqktlEvQIMJD3CItMw%2FAK7KlUx%2Fbs5W0PqsUr1NM%2B1aD2mmmiFybvD1QLzLb7llB5C6omDm9jO0i7PSjJAADUBVokr7A4XKrF%2BxtI%2Fia6kNXQGw7GQ%2FeKNCXX7zVVM07wsogEtHhEpqo8CfCNQ9LdF8yoBW%2Bz3qbrnhaxKatRamwA3Owk50XNez8eKLbuCeG3hgOHhEx4kVani4ooB0AO0onjda5G50ekmiUS7lXc%2FLBNBepkYR0WKTDBDoDy%2BMwmGYn0ERA53rJ3n3xk73jbOSAH9IA%2Fin%2BeFl9gSjfgzK0zGdvzHLlkoBFRvDk2kVvHwUxIG1IwBf8T99zVK38Q%3D%3D&rb=x', 'https://articulo.mercadolibre.com.pe/MPE-447016100-mocasines-de-hombre-moda-urbana-_JM?searchVariation=173665831450#searchVariation=173665831450&position=13&search_layout=grid&type=item&tracking_id=70103ec4-69bd-48d2-b64a-4ea0efd1224f', 'https://articulo.mercadolibre.com.pe/MPE-441514052-zapatos-casuales-venecia-negro-fakers-_JM?searchVariation=65712174979#searchVariation=65712174979&position=14&search_layout=grid&type=item&tracking_id=70103ec4-69bd-48d2-b64a-4ea0efd1224f', 'https://articulo.mercadolibre.com.pe/MPE-440697971-zapatos-caterpillar-de-hombre-100-cuero-original-_JM?searchVariation=63951292318#searchVariation=63951292318&position=15&search_layout=grid&type=item&tracking_id=70103ec4-69bd-48d2-b64a-4ea0efd1224f', 'https://articulo.mercadolibre.com.pe/MPE-440688828-zapatos-cat-de-hombre-puro-cuero-_JM?searchVariation=63783477610#searchVariation=63783477610&position=16&search_layout=grid&type=item&tracking_id=70103ec4-69bd-48d2-b64a-4ea0efd1224f', 'https://articulo.mercadolibre.com.pe/MPE-443281773-zapato-para-hombre-de-cueromocasin-de-hombre-_JM?searchVariation=75490678031#searchVariation=75490678031&position=17&search_layout=grid&type=item&tracking_id=70103ec4-69bd-48d2-b64a-4ea0efd1224f', 'https://articulo.mercadolibre.com.pe/MPE-444035658-zapato-talla-38-pierre-cardin-cuero-mocasin-_JM?searchVariation=78274768600#searchVariation=78274768600&position=18&search_layout=grid&type=item&tracking_id=70103ec4-69bd-48d2-b64a-4ea0efd1224f', 'https://articulo.mercadolibre.com.pe/MPE-432968122-zapatos-mocasines-para-hombre-marca-levis-importado-de-usa-_JM#position=19&search_layout=grid&type=item&tracking_id=70103ec4-69bd-48d2-b64a-4ea0efd1224f', 'https://articulo.mercadolibre.com.pe/MPE-441425084-zapatos-formales-kalvin-tang-fakers-_JM?searchVariation=65442928836#searchVariation=65442928836&position=20&search_layout=grid&type=item&tracking_id=70103ec4-69bd-48d2-b64a-4ea0efd1224f', 'https://articulo.mercadolibre.com.pe/MPE-425506790-zapatos-hombre-casual-exclusivo-reforzado-negro-38-39-42-43-_JM?searchVariation=30441479241#searchVariation=30441479241&position=21&search_layout=grid&type=item&tracking_id=70103ec4-69bd-48d2-b64a-4ea0efd1224f', 'https://click1.mercadolibre.com.pe/mclics/clicks/external/MPE/count?a=owCWBB7PnCnQe8Y2l463nJIHN%2FdHKIoqjXk1xULfzsdE2FeskreYEDTgs2PEgb%2BDtj85yRCJkSATC6PDs44YSH0oSkHEyfvWkzo9BYlEsEgaPGIQzL6SB%2F82rbf%2BjUcFXS8exg%2FJgya%2B2yyf6J4HL3ksYJOdvSB%2B2SaaeQQ3ZYtJay4XgluFEEm5u%2F6S3ZPEDsl1uY4gwS4VOlmy7RXe22OqG7Zy6hWO1NlqY%2FMrb5%2B0n7qChrgu8Qy2OEYGe2LnSSYLVElm0ugr93pneX5R%2BVatiTzwGmuD9Nskzz4bRYhAAdOAJZQy4oJeR0K2yj8w3Nk%2FqBeMRJXyV4oMLuh3%2B6OlZKBvP0F39qWEbu%2BtGh%2FcuoMR3ZaQ5Za6o3ECpEENvOdVBUVvhE4TmgkWSWhlKxYA83zn98cqSN%2BBVWzpsrI%2F3g6Kws6PrY6IGoh6GT5UW%2FmSrFCNIMGneaml6J%2F9AwKzO6hTZcXgapOaQlqQNQe4khpKGfDeBQ955zSx%2BVZu5mdB730SUCLYGstlnlR42R%2BrkviwXOivGYOeAUSNQ2qM7Zgnc4R%2Fu5lTgvCZ%2BjDCHtQ6AyTYIXyO9gISu56cVlASSGSki2h3KDoC1ge1NOOxPt8i6YO0m0PpcDYdjRRxi5MpjLGDqcXc9tUx%2FYzeVVmhWuYgvRCrUW3n2GMqF11BgqV3X9QHRvLkLepYXzF%2Bn1WFMthw6%2BGYLuHKJLdJwrO9Zj7QaIviDj44mgQsCGVm%2BBub6sgwM0GyhMr7v7%2BhrBzOSYvXb8fw1doUGcuFIObIrQSF12xXK4vp5HSKgEWxcEkhMsUgQrougcdjKKG5azD0YJTW3bgkeYwXZUyV5qPaSeNWw9hLUmIcg1iK5CVPZP3NnkazcD9S%2BT7QT9HARLx2Q9XAPTKd7HYQQzRbzyR5BQ5Fagg9lPcGcT1gNrd0kIf%2Fi8oh61qiiM66Hbl9NB9NTkXk5MpYNntc0bT7zjJHYvjmkvYO5%2BE2y0jUMw5zS%2BGzfHJHHJm2WjsLdjMTqpcSNA0glMqzCzkzhVyuMgNH5kVuCsJGDYWITUUr6ON27A0GDZ2MzSJ7nNmY3fRIGVnjjAobQtrhnmaIWzUaXpDXSUFBwO1wxmpNoP%2BlWXzTmuaT8urvesoqwQ0x3FpCY9SEQseDbIPlMTt%2BwUGs%2BEVORhTbO51L8gLJLPwul1PErmmvXG3gmJnpM48A5YdZv3NAYMob4iFV%2BxHr9re7ttTFcoQ%2BVpgTKBPxgNs2TLh3Kj%2BbTMQJPHwAefRauGNgXOmheGmb36edkZ%2FRX%2B%2Bvl7batUMeTXRrNtTlVfMTdvKESZESbX0hkzq54lCDlAm9vP57mzq0uWq99liwH0WQkgfihl%2Fh36BztlivQUobLlIQ6xlpQNpo1l5ObOFoJtcTvlq78HWnqGa%2B%2BnORvqkxYmxBW1b8IR6XXr0MzRdsmeQb5PYrk%2BlrdEvdkwGzTSvL%2B7lPNaWzert5EMsdfJQdNGHWTu8%2Ba4S6xxdCKwEi1RoOFT9K41hLaPoVzxLur4SA8S75U3n107dx%2BXCgDO%2BmmmpO2A8vuuXxyZtT%2BIFnt%2BQQKCkZOEwmly%2FS6KVpgb8jbkfiItG6r8n2QNzqxxByKZWjCcnsVqDQ8mESDwRjvbJpMcVAjSo3VidUoeLqe6REBxb2fouGgCNKiJyHNnXv%2BkK%2FMdZDlT%2FxgPUCh%2FW1nleQbEasJy8kNIRNkAdii9SBadG10PObgKy%2BLsoLXWE%3D&rb=x', 'https://click1.mercadolibre.com.pe/mclics/clicks/external/MPE/count?a=nMyYRIOVqjZuG8O3qa%2Fci7Sxcvqq8co5LJjTvyOGVr8OgCCi5rJIQ5qf05MUk%2BiXDdsIlgFcBgCfvHy9JJw5lswESryg8ce2gPaWdkeiYqWHItt%2Fsq6V%2FKMev8RNnOpvNnrjTiBb4K0xHxiGd3XyGJI36tXroYMBwA%2BRdlNL0EOrQcm62IeNk8VxC%2BEGAN%2F9ToKw%2Fs2gWhVEoO9pui%2F2sE0yc2arYtwRyxkmWgazd3Nfchykqs4g69x3tBzoxJ5HbBPo7Ufv5glmH40WTo8dr4yxM4OO%2FcXCSFMMQI46b8p7eAYo1AXtRdGx0XV%2FNpLA%2FIUvliT3%2Bv0n7nkBHH2OLr4zsn%2FX7anNA%2FkDaiX8PhKh6UbldEwF6IvqbMtVXH%2FAmJiffJMzBfAXRmCKxMhgYsci93FCJgfJTz4wH4yqEQrddf0xEY7mFMZ%2FJuMC5zU94uni%2BAxKC%2FEFystynFG1C9DvWn4MLROxf8ATMP29LMtFvqDuwXjP%2F0d6%2Fi1A4o8bhRD5wY0QIv%2FzV911AyBLXS3n1K5QT8w5bndTvNbZ3wPmjLcB85yteXWr3Vm9VUnYvUr4nnnK5JFDSDElqoqzqx8jzkACGnI%2FWIZweaxVmvLZeOvlgiO0SzNVpBShOo9pP95I8L8hNyUtOqUxsqd0P8OvdEhpL8NKVCkRpNzzDRGJhg4bf0Ep4iR7KkCTbxey4ZONwZ4uS0JgFNj1BE%2F9cj06jUSkd1ZU0poXoMeVM3E9V%2B%2BW8qLSISEYzL%2FGm3l3L9lPq%2BAz7MpaC0EUtCxOGzNMR0Q84eiuc26U%2FDnCQ66l5JZVWR8VvIwlH9Xxi%2FRZ6%2F0ugUsfh6Nod23PWZCqZoZIuOcOmZKsyfg4iKgYz%2F%2BidH6bhHW2yzyib%2B5XFtLXpIXMp7ZUzmkyogDHhdWAe60wkoWf6g4OYJ%2F6f0zmUVEmilXTeOEGZnyA3O0GHOlUbquoTlZYNlBJnGZOOXaYxOpX9RkARLhPLsFt31mt9KP6NE%2BXTfXWILlV9AXmnLh0xrswC3zU2nSEzpubvzepsARiq5JujBANA5GQAqEqunO4JaDy1YVjqfL5eE82MMUYaUlz2DbPwR4FnfCx6fbQmpy36VDg%2FrRRjuPPso2GMvoU0ynKlxGZzpAhmNG2xs22G9cdmsdJ6guGX98bYZAJFDxMto7Gr%2FtIViGFOJRmDNa4sCjlNtyavpYlJuYpumR8auKiYXNI8naYMUcbexkdaF0Tu5fmLt9DlquMksSKy%2FrnwYuPDdMbEqU2huYSA3hF5glfauev5c%2BoAmMLJBD6kXVi56FJMxaSZi7uMcsvVUz10YNM26rXw1pswFmgpJ3MVv6BeElvawVgpinQVtlgg8Z8Rm3Qqv8i%2FQbyXHsFsw7jbf9jGBEW6NlQGw9DPXuFeKrpwmjFUBfBr8ioga1TyczPzzk1eRtIWzJ5L5dZtl4vdRcVCe6b5%2Fabykcr7G07QkiJ2VpZCi6wKj8dgIUFAncIuQaWOjgbPJMNbEUNjO7t4wos44DdpYY0BGNjnPewXiTk1k6QM3rjiheYKuXbxjNB7sx2WY1kYHzGXG2I1oQydX36xz1932TYreMCpApzb77%2FsqYTO%2BGPZYmeGULxoPcWmOf8RZGc99LqVFIJeZkp6YLcn6OG3uYLlftpFYClUDNtZKSxGJAiqV18IS1%2FSP3tAGpWPe3VM0PeSZYgnEaUBQboyQ%3D%3D&rb=x', 'https://articulo.mercadolibre.com.pe/MPE-442647058-calzado-zapatos-mocasin-topsider-p-cuero-talla-3943-bmshoes-_JM?searchVariation=72699488171#searchVariation=72699488171&position=24&search_layout=grid&type=item&tracking_id=70103ec4-69bd-48d2-b64a-4ea0efd1224f', 'https://articulo.mercadolibre.com.pe/MPE-440705453-zapatos-caterpillar-de-hombre-100-cuero-_JM?searchVariation=63946625707#searchVariation=63946625707&position=25&search_layout=grid&type=item&tracking_id=70103ec4-69bd-48d2-b64a-4ea0efd1224f', 'https://articulo.mercadolibre.com.pe/MPE-441683763-zapatos-formales-alonso-ju-marron-fakers-_JM?searchVariation=66323460461#searchVariation=66323460461&position=26&search_layout=grid&type=item&tracking_id=70103ec4-69bd-48d2-b64a-4ea0efd1224f', 'https://articulo.mercadolibre.com.pe/MPE-421173692-zapatos-de-hombre-_JM?searchVariation=61173736348#searchVariation=61173736348&position=27&search_layout=grid&type=item&tracking_id=70103ec4-69bd-48d2-b64a-4ea0efd1224f', 'https://articulo.mercadolibre.com.pe/MPE-440699112-zapatos-de-cuero-caterpillar-hombre-_JM?searchVariation=63953830259#searchVariation=63953830259&position=28&search_layout=grid&type=item&tracking_id=70103ec4-69bd-48d2-b64a-4ea0efd1224f', 'https://articulo.mercadolibre.com.pe/MPE-441051619-zapatos-de-hombre-caterpillar-100-cuero-_JM?searchVariation=63035269199#searchVariation=63035269199&position=29&search_layout=grid&type=item&tracking_id=70103ec4-69bd-48d2-b64a-4ea0efd1224f', 'https://articulo.mercadolibre.com.pe/MPE-421671954-zapato-de-hombremocasines-de-hombre-_JM?searchVariation=72872782599#searchVariation=72872782599&position=30&search_layout=grid&type=item&tracking_id=70103ec4-69bd-48d2-b64a-4ea0efd1224f', 'https://articulo.mercadolibre.com.pe/MPE-608234027-zapato-escolar-de-varon-venus-tomas-mocasin-100-cuero-_JM?searchVariation=174208995545#searchVariation=174208995545&position=31&search_layout=grid&type=item&tracking_id=70103ec4-69bd-48d2-b64a-4ea0efd1224f', 'https://articulo.mercadolibre.com.pe/MPE-441423133-zapatos-formales-cassano-marron-fakers-_JM?searchVariation=65439154292#searchVariation=65439154292&position=32&search_layout=grid&type=item&tracking_id=70103ec4-69bd-48d2-b64a-4ea0efd1224f', 'https://articulo.mercadolibre.com.pe/MPE-431522672-zapato-de-hombre-mocasin-de-hombre-de-cuero-_JM?searchVariation=95630540706#searchVariation=95630540706&position=33&search_layout=grid&type=item&tracking_id=70103ec4-69bd-48d2-b64a-4ea0efd1224f', 'https://articulo.mercadolibre.com.pe/MPE-441424895-zapatos-formales-kalvin-marron-fakers-_JM?searchVariation=65442625650#searchVariation=65442625650&position=34&search_layout=grid&type=item&tracking_id=70103ec4-69bd-48d2-b64a-4ea0efd1224f', 'https://click1.mercadolibre.com.pe/mclics/clicks/external/MPE/count?a=YDCi6DZE84UTnHDhu7Sl1oYwW5bF6tP1%2BTUpwXu940xek6Yz502YMVfWukkVqgaRIU7DvQjlknqbjMdQpwbyVfUBQC7R2b18Gmh9tmMh%2Bf0FNJsuc7BrVQcZHI93943AtXflQ6WWZedqSOQKCXea1tDfwZUWIhzPsE4tOLWl0AD8E%2BsOwee2JaijSaza70DDeM42ZhCcnI7Nncp7GP0M29tIKwwXzKLFTv7R0qfCQ1WZkTYx8Ou5BvmfdBZ%2BOBV5Wm8nZ2I1OKzLyuTjn3JlXOO8IYX8tcnVZVJ%2BNpEs2FLt%2F9Eu1skogp6ysdp6D6FzC5uBdfxb%2F29Ej1rPxeuTjDNeZU7WHTIBuCiwSrfjvJ3mBjSYcl1JiAxOglSKOMSEoIYQLX63aFq7G2lLW5tGlnF3kFWU9cqyrq7%2B5Ebej3C35Twl0O7g7fX3plFvATMaXkQaQE25XaK8uHkNioNw%2BZHQ5%2B2zrSZcXXy1GihT%2BGrI3zUN9ZnpfKS%2BPVxkMolfthD0FUyGfg1u6TjiTURVn4EOAKdKBO0EBilis5gkvDToDvgPikvTG5toA71Z0IA%2FrbFnrotNNA0JOPAKLJUrRs3nP4BYoWeBqg2WhD4S1k%2B8%2FZrXon5BTAbGd9fVZ4gdEDTE4XPp0LS34tLUDUV1%2Bg83zqLFEjSOtTMfmZXrWEhoEqoziTMeBSXpsjP1chdwFr2xIPl7c%2FzwFGKRwkJlgoiSWryvneeKJQMimyWkUB%2BtnJXF7Nqukasiz19SfX6II8FstP9tb3aiEXsdGMzgft%2FALT45ny%2FOXfNzDBpM9M%2BhrQaLW6Rr8CM2lXFxQuY2g2UagEscmcn1AgbYhxOu8hcKtJh4478bmF0%2F0qYU9kCnFRsxG2x4fFBdCrc8Yw14XJ1oZZLeEgmE%2FKs4hQc71PYAxasmuL38ftoKLiQNiDVurIGkw6tSJtTmDMUoIj3mAgU8uQB5T%2Bz%2FBpxlT7uPupHJrD1TC5yAvAQ1MEqmRf8fNBhsEH3KnBm1dQn%2BUvzH%2BeU54T4C%2BY6yOOsjKqQ9IjWYtePOAEyfgROrbj3XaqBySbWw30M%2FRTXYlFR%2Boy3%2BZIPX0z67PrQO1WpSHQyoeSdfJeIfcJ%2Fu8ZfTbrgU7umY6hRlL2iR7CtYjTFc4vcatgf3wy9a483mFsSfDHi%2Fv8a%2FcpQJBSQw4ZsHcIJWFQrOppWLqaxjZ2u2NdhZZaJhroMqejngft443lzg2BKaHwMkiKPxHBpcHCrvfRotmpquOLbcEHoHP6nz77eZzEIVGNpGo%2FeuOoabuCH9ZEi3hAyCqrVDaiDzkAx%2BpI3U1CUM%2FQ%2Bgw0mICJxYUQAnt0nfRqMo40I6WhILYoOq6zTHHO%2Bqb72s3%2BGYXsxfDbA1gCvm2pE5hYt4X%2FEl8vTvAZuQsxR7vtSMEAu5Fn2zzVXDRGvE5TZ15rrhoKjHRFJXGF947ExocAw3AdI6yzvrO7Hrb5CxKu1ZT1uukr2A5wnWcbrTpYIWuOGNnO9Pr%2Bc%2FcT695BdKuQuFp8ZE0UhtnNlqIxbwuoMqQbzjJxjEtpqwVEt8V1sDjjMVjog34fZN03WzNdNuGGfY3wV%2B6sbP9pRygnVSN5Ap22NoioMzxRgPCrX3JJHSS5%2BjEU7Cv3xIBCfxxMAiX1Rv66IEDgLikZeRYldeyavfxCa0Hwii0wfXjAr5MAD1zpNWDur80FxCG0gqaE6tCYqnGurCfU7EqGLfqUIqq32jRlcu%2F0529bxP&rb=x', 'https://click1.mercadolibre.com.pe/mclics/clicks/external/MPE/count?a=s6M%2BN%2Faatd1nWDSokKwtUW6wwWotWSxOvlNa9X3VTIzdEeWcN5x1zYYglYmqlvhgxnHsfkRi5TwC8%2FRpWi7Zux5JfuGSB1jeMRvy0QS94VTV3Gbbu7jv%2BP9aDlSHVjtuq925vcdSz6VHhdcgqfEcPWQcnVFd6T4hBwPDwTRpoexwnyPwkxAixJKQE7dU5d0O%2FmEUfCfsHnpRk0Y%2B2oZC7f7DwuWssgm5%2BXbAkKtdI82lgS9QqD50EGwcwzusOVPNlfcQntlcV2SvSc%2Fr223IaoneC%2FxtGbEGfPLyPic8ZlJy9q%2FtXTfiRI19e32qIzUREJ6YBBXMnQWE8%2BFn7mNDtIj5v4%2BLY3f0vHiheCGMD8vOEDDnUTdOmjrxD4CIZ4p3oTRGSopULOxwhIgWRxUM%2FJwedGsoqRUcv0w87LWc6MPU8dT7ghz6hJM2LxuVNt3fRygPmOAPYcWN6VH9AdsrFCO5CN2HdBWGnRvoa6bctJafzVp9jyzXzwCEmPItAZ5uu0GHVf5bv5JwnDtkXHgPXb2bXU5PLHX0D3TdVDFO%2FH%2BsrLtA0cr9dkl%2F7P0%2BFbhn8IKFjCoLWVPwC1vj2hyeyjfDgmoii097OJHpS6Pb9StZijbebOcjMoB1du0f3zrRZJL0%2FTTP%2BALCjQRYoFQ4lcHm7gnYnzvXnCpw8zoVeBAIgQzCYJLGvq2K2zkckX6GuaXPwWBA8a%2BYOl%2FoK%2BrpgHxOozeUKdcBv3%2BOKhQR9uvZomBHomrdrFgwRmQjrFR%2FaxTtxRxMuq%2FUF%2FinAgLPnj6RAcSWjuYPvBQGkHlIt%2F0Vrm7jCAbi9WtWLBNFX8litUh3PCfxTdRWgLRDJLs7IWr9dN3TuNCJCvgVVYrgsG%2FwyybFUp92HHgm7HAl5wHxwGLOU06Mx803gcY6PLdPTEXu2VswpkXQ0jqxTcgbtggR98spqgUc5%2BqJpJBbjVPJh4r8po3C7NewQMuMo3J8CLxi4MseqsO81MT5vyM7Yj3upyxLrkMeAL8fxk7mG2i3ub9z6Z4BEffy3BbnzAELreWsrdLc5Vf17cbpVfbSMxj9yEnFW55pZ0Y5qoyGWu%2Fjfo5LvEaqdAcHHoUE2bzBd82SK3Q45%2FjalChLQJbhsuTv7Wq2E2p74ZYrzGMBIs8kC%2FpwJGKqPyU9gXDWokNPIsikW0m6vCVVQNOJsUEhhkMSm0ZSQ9V%2FUUh%2F2rS1pnAHx5wTOEQwKxlko78FrHE5O36vvalTL325rfbmDRqDarT5LWMXTjXxKKEQ88js6hh%2BPHz9s31LPrwIUDEZxBWkQjCEBsFYUynPbRKT%2BjlFmalTi19qxsg9pKphCBPnK3RQzdsxW3LDpjIRR%2BsR89LWUjGKVhyGLH%2BYCdmc19d6y3UVCL53h118FB%2BvkeNsbrVYlhbE43VdtoCQ3qKeMxZNBCzDDAJQrXosLxcpKKNMXPeYfY3JtOzhlUOmJdCDYdshogo2tb96mKwPFBCUU1Th1dPiZDSUchFeqGIp79a1kMGviDdwFFHGNhtrLXNAJqdhsHzIhLSOCxPU0z0nJxaQw9uJH%2B8r1YJrb41No2n56ylwxJyUwN4yy3zs2Kfq%2BFvPePVPOHvSwU%2FRDUD182XxaZPiNs%2F3XcVqIt4bN9cjvjLsC4B9icd0ARgn%2FUyOC%2FOw03uJDqP8dFnjJ6NNHJI6gNe9aJDNzpy8DZH8CqXMmkbQ6pjobFGxzP%2F9cDacjWd%2Fel4f0FXmczo%3D&rb=x', 'https://articulo.mercadolibre.com.pe/MPE-441423132-zapatos-formales-tristan-cobre-fakers-_JM?searchVariation=65439153726#searchVariation=65439153726&position=37&search_layout=grid&type=item&tracking_id=70103ec4-69bd-48d2-b64a-4ea0efd1224f', 'https://articulo.mercadolibre.com.pe/MPE-441425053-zapatos-formales-donald-nutria-fakers-_JM?searchVariation=65442803596#searchVariation=65442803596&position=38&search_layout=grid&type=item&tracking_id=70103ec4-69bd-48d2-b64a-4ea0efd1224f', 'https://articulo.mercadolibre.com.pe/MPE-441684125-zapatos-formales-emanuel-negro-fakers-_JM?searchVariation=66324056793#searchVariation=66324056793&position=39&search_layout=grid&type=item&tracking_id=70103ec4-69bd-48d2-b64a-4ea0efd1224f', 'https://articulo.mercadolibre.com.pe/MPE-441059317-zapatos-caterpillar-hombre-100-cuero-_JM?searchVariation=68213403044#searchVariation=68213403044&position=40&search_layout=grid&type=item&tracking_id=70103ec4-69bd-48d2-b64a-4ea0efd1224f', 'https://articulo.mercadolibre.com.pe/MPE-441425119-zapatos-casuales-paris-olivo-fakers-_JM?searchVariation=69383011019#searchVariation=69383011019&position=41&search_layout=grid&type=item&tracking_id=70103ec4-69bd-48d2-b64a-4ea0efd1224f', 'https://articulo.mercadolibre.com.pe/MPE-441689219-zapatos-formales-field-habano-fakers-_JM?searchVariation=66331651701#searchVariation=66331651701&position=42&search_layout=grid&type=item&tracking_id=70103ec4-69bd-48d2-b64a-4ea0efd1224f', 'https://articulo.mercadolibre.com.pe/MPE-441454340-zapatos-casuales-midway-olivo-fakers-_JM?searchVariation=65506616236#searchVariation=65506616236&position=43&search_layout=grid&type=item&tracking_id=70103ec4-69bd-48d2-b64a-4ea0efd1224f', 'https://articulo.mercadolibre.com.pe/MPE-440707170-zapatos-caterpillar-100-cuero-original-nuevo-modelo-_JM?searchVariation=63436012733#searchVariation=63436012733&position=44&search_layout=grid&type=item&tracking_id=70103ec4-69bd-48d2-b64a-4ea0efd1224f', 'https://articulo.mercadolibre.com.pe/MPE-447265106-zapatos-de-hombre-moda-casual-_JM?searchVariation=91402532272#searchVariation=91402532272&position=45&search_layout=grid&type=item&tracking_id=70103ec4-69bd-48d2-b64a-4ea0efd1224f', 'https://articulo.mercadolibre.com.pe/MPE-440690369-zapatos-caterpillar-kennedy-de-hombre-_JM?searchVariation=63948074687#searchVariation=63948074687&position=46&search_layout=grid&type=item&tracking_id=70103ec4-69bd-48d2-b64a-4ea0efd1224f', 'https://articulo.mercadolibre.com.pe/MPE-432405450-zapatillas-nike-tipo-mocasines-original-modelo-toki-_JM?searchVariation=173609036370#searchVariation=173609036370&position=47&search_layout=grid&type=item&tracking_id=70103ec4-69bd-48d2-b64a-4ea0efd1224f', 'https://articulo.mercadolibre.com.pe/MPE-441454738-zapatos-formales-field-negro-fakers-_JM?searchVariation=65507407129#searchVariation=65507407129&position=48&search_layout=grid&type=item&tracking_id=70103ec4-69bd-48d2-b64a-4ea0efd1224f', 'https://articulo.mercadolibre.com.pe/MPE-441444487-zapatos-casuales-paris-azul-fakers-_JM?searchVariation=65487846628#searchVariation=65487846628&position=49&search_layout=grid&type=item&tracking_id=70103ec4-69bd-48d2-b64a-4ea0efd1224f', 'https://articulo.mercadolibre.com.pe/MPE-441512771-zapatos-casuales-andrew-azulino-fakers-_JM?searchVariation=65710213643#searchVariation=65710213643&position=50&search_layout=grid&type=item&tracking_id=70103ec4-69bd-48d2-b64a-4ea0efd1224f', 'https://articulo.mercadolibre.com.pe/MPE-435547131-calzado-zapatos-jovenes-liso-puro-cuero-tallas-3943-bmshoes-_JM?searchVariation=37508917793#searchVariation=37508917793&position=51&search_layout=grid&type=item&tracking_id=70103ec4-69bd-48d2-b64a-4ea0efd1224f', 'https://articulo.mercadolibre.com.pe/MPE-441424267-zapatos-formales-arnolds-marron-fakers-_JM?searchVariation=65441652463#searchVariation=65441652463&position=52&search_layout=grid&type=item&tracking_id=70103ec4-69bd-48d2-b64a-4ea0efd1224f', 'https://articulo.mercadolibre.com.pe/MPE-441513718-mocasines-casuales-hawai-negro-fakers-_JM?searchVariation=65711514027#searchVariation=65711514027&position=53&search_layout=grid&type=item&tracking_id=70103ec4-69bd-48d2-b64a-4ea0efd1224f', 'https://articulo.mercadolibre.com.pe/MPE-441513898-zapatos-casuales-venecia-marron-fakers-_JM?searchVariation=65711931098#searchVariation=65711931098&position=54&search_layout=grid&type=item&tracking_id=70103ec4-69bd-48d2-b64a-4ea0efd1224f']\n"
     ]
    }
   ],
   "source": [
    "# Obteniendo URL de cada producto\n",
    "print(urls)\n"
   ]
  },
  {
   "cell_type": "code",
   "execution_count": 29,
   "id": "83e46e16",
   "metadata": {},
   "outputs": [
    {
     "name": "stdout",
     "output_type": "stream",
     "text": [
      "Link numero 1 :\n",
      "https://articulo.mercadolibre.com.pe/MPE-446724105-zapatos-caterpillar-kennedy-de-hombre-_JM?searchVariation=90375580188#searchVariation=90375580188&position=1&search_layout=grid&type=item&tracking_id=70103ec4-69bd-48d2-b64a-4ea0efd1224f\n",
      "Link numero 2 :\n",
      "https://articulo.mercadolibre.com.pe/MPE-447015792-zapatos-mocasines-de-hombre-cat-100-de-cuero-_JM?searchVariation=173605449883#searchVariation=173605449883&position=2&search_layout=grid&type=item&tracking_id=70103ec4-69bd-48d2-b64a-4ea0efd1224f\n",
      "Link numero 3 :\n",
      "https://articulo.mercadolibre.com.pe/MPE-446797976-semi-botin-caterpillar-de-hombre-chavito-_JM?searchVariation=173566698565#searchVariation=173566698565&position=3&search_layout=grid&type=item&tracking_id=70103ec4-69bd-48d2-b64a-4ea0efd1224f\n",
      "Link numero 4 :\n",
      "https://articulo.mercadolibre.com.pe/MPE-447007362-zapatillas-caterpillar-warrant-de-hombre-_JM?searchVariation=173964411872#searchVariation=173964411872&position=4&search_layout=grid&type=item&tracking_id=70103ec4-69bd-48d2-b64a-4ea0efd1224f\n",
      "Link numero 5 :\n",
      "https://articulo.mercadolibre.com.pe/MPE-441423837-zapatos-formales-berlin-negro-fakers-_JM?searchVariation=65440774000#searchVariation=65440774000&position=5&search_layout=grid&type=item&tracking_id=70103ec4-69bd-48d2-b64a-4ea0efd1224f\n",
      "Link numero 6 :\n",
      "https://articulo.mercadolibre.com.pe/MPE-441446191-zapatos-casuales-kemer-negro-fakers-_JM?searchVariation=73287430817#searchVariation=73287430817&position=6&search_layout=grid&type=item&tracking_id=70103ec4-69bd-48d2-b64a-4ea0efd1224f\n",
      "Link numero 7 :\n",
      "https://articulo.mercadolibre.com.pe/MPE-603562246-zapatos-de-hombre-caterpillar-de-cuero-legitimo-moda-_JM?searchVariation=174059237981#searchVariation=174059237981&position=7&search_layout=grid&type=item&tracking_id=70103ec4-69bd-48d2-b64a-4ea0efd1224f\n",
      "Link numero 8 :\n",
      "https://articulo.mercadolibre.com.pe/MPE-447005828-zapatos-caterpillar-duo-para-parejas-_JM?searchVariation=173964950059#searchVariation=173964950059&position=8&search_layout=grid&type=item&tracking_id=70103ec4-69bd-48d2-b64a-4ea0efd1224f\n",
      "Link numero 9 :\n",
      "https://articulo.mercadolibre.com.pe/MPE-430839593-zapato-de-hombre-cueromocasines-de-hombre-_JM?searchVariation=72974300850#searchVariation=72974300850&position=9&search_layout=grid&type=item&tracking_id=70103ec4-69bd-48d2-b64a-4ea0efd1224f\n",
      "Link numero 10 :\n",
      "https://articulo.mercadolibre.com.pe/MPE-435547128-calzado-zapatos-jovenes-puro-cuero-tallas-3943-bmshoes-new-_JM?searchVariation=75847363136#searchVariation=75847363136&position=10&search_layout=grid&type=item&tracking_id=70103ec4-69bd-48d2-b64a-4ea0efd1224f\n",
      "Link numero 11 :\n",
      "https://click1.mercadolibre.com.pe/mclics/clicks/external/MPE/count?a=Fs4dp4WTVQWv4NVIk%2Bf5XQhFwSeDgH76H4e1Mxp17lLTsXy%2BY88Jqd2AAojsuX4aG7gi1aeRcCqkt85Kyl%2F72DKdpwjlil9rLlGpjn%2FIDEfvsnhixbckufOekuaXTOij2bHpZP2vdXyY5H9WPb%2BW0V2GnVmEHCOt5repUW37QyEcG95twczBAS2kod448yXP1Bsnt4vE%2FPmZ7CBx%2F%2FhoLZ4feqs1g7diELUpkFgeDd1jVIdranXUbn4MYnrTAe224w30WHau48oU%2BrCKupZZ%2BNH4Xm%2FxdXywTql39omrXkJby6MX8UwoN2VbrCazBjLSHyclaGE6wmrnxpdvvzM1XxBLL5tYs8We%2B8dmTE%2B%2BhVaUqZF9qCVmrMD3kcOvqUjxSMOjN6FhwtB%2BIqRIrY893X9nyC4rOQLsCUYEWoRcWjW3dbUIOZWod0Kg9i9rPT9LyUCn78ddtxOx5cFhve5crqCIqodeLwyU42KwclZUvn7UuzxZYixPZZa1J%2BCvET%2F0NIZxbpr7pwY%2BjzZ0J59dmko6vuThCFILblBsdCkdDEPLbYp0pA%2FyIFEivN6B%2BYdNLGGiptRQjameVOZRj2foodwnXuPTqHlv6L7jMCtqO2kxLFh%2FWGnTY80GvWb0eBQdkxNc5YRQxJa94rVhLkCVot%2B03mfN6QLjYGKSnTbGnosP%2BIoL8hTEqFzxF31X5qbn7fW7UhO9%2F9KOgPGf7Lc8IJJDn9iUldJs93e4EbhVsBLHukukWe2jbvErC6QeM%2FgvVofi9x24RI21rbs8UGqqWwgEAljhb30JOAqgsA64iUPV8kxrXI%2FOiQi3hPGgeDI47zc9%2FxaQpU5HImcxliE5Wr8osFX4LV97Si68PPh4Sij1oZuWdIFn62vk0Q%2F8WBPMIoLzIn46tsnR7%2FRDsksj0MrT7zXd22uGEMh46%2BE%2BXiVdYaoXM5kZqQsooV49W2YRgsD8WE%2BqNyNqCMQX6zS5nx2vp242GW4BrDw85qTy16YoyFJA0WlBq7Lnf4ZDaycX7tCPf71B8OTlBjRg86HP11I4lOn1fIM0PofgbKRYwXHFKBe9qs%2B8z0lhLZoBE5Zzwyj54rhrgZebT6sDMqKIRGeTz5xVqUf4b1RVXf04UAsOQYImi7AyEb6i4yBGb961ERNuUJW9ukcDoNZpLfefrRKLQaZPo93X3Iy%2BjmMkOLX%2FyIBh2KFJCSz8PMcek4Ky%2FbVtLYxCDOwrjL%2FpGhqbkP2Lpc%2Fl2BYFasfkuzEqsTQAXV9lkFrBAU%2B4xYhUSYYvlDZO0k9e%2BGv%2BQXNIExQkItOrF28cc5SbLmVx8U6x%2FMP%2BqMLb9jm9m2JSZ8wZ9H8sy68PAbYdHahUmvlhv1w1oig8k%2BGdBG9ZEWTxRApg0cfopjJG0WP4ip2GSzGikMuamHBrJoVGGk4xHv2JfKzJdrbepwPrAbA8713epZxGoUFITK9Fila2gm8i9eN40UNOnUwFcEnBIRzCXl5xE28aAMYGHuFmzQ3DpzaH30Thj55%2FAbmEH7PUnj2IPLWNAcBiHbYoWZ%2FxYEkIua9nTv58UacLCJ2CsLxU7HYVep9zV3szyDXltMnqPRbtuMtNOa94gbGFoIdDyTmiCzxgBkg2XLtqANvjY1VRE%2BKvRDAV%2FJPEFj%2BaupaiMtCTra7aeF0EqKWY07bH%2F0EkV4k5czqrLnyohY4aIKx2Kcha8aUDHVFkEgVlsDW3lh1BXMnV3xaQwtxBhqrrPpmn&rb=x\n",
      "Link numero 12 :\n",
      "https://click1.mercadolibre.com.pe/mclics/clicks/external/MPE/count?a=FPANedGrMEtICpIkOlRC8J7ATR0msT0CIcD5t0ycSdozoo0Wwp77QZf1Epbf6Y5%2FtvQn%2FSm1jJRyK4Ifo%2FWzmZjev6pw2IvnYZFv4VN9fjofR6B%2BO4QSq6UOKmcj%2F%2FpycptvvoITpyf2gH%2B6eO4lw26y6hR5I7MUbBJRWDquttSBVbD3Ihgc5Me7ddc2i8UvWVJNrXtIfxh6XjA7qg6AXg6%2BjlGIOFEQby%2BwaflmmM1IvFkyYjswryORo5m2Z9aTzxh5IQr9NcNWW5F3qcMF8LWwVTwsVClGFg0aV8BLpW9bY%2F9VbiKJjHEywqthtQLzMrpc2XItywrweZ0pZDJsrcKhTWMumacXK7jl2RmzloHbXTffmyaCxouMC6arMbhD%2B%2BnCRXjxYZL5FePdm3btjyN5iqQei1RnMWA2RBcnzJJpdNj02Nn5fYKB%2BmOWykDystX1gL0typLzL8alYt0JgC7wazdHKBgfoD%2BDprHOhMAwJ6FQuGVzQDyIOcDTKDrcSR8vpLVU1u2JfTdR07s5x5iuvZHpGh4BE%2BhWRVBYL62hednYCVnS4TfgOzbb9BlHKDCQZe46j7tbbavQpG2W%2FqXxisMYv19to7cnTwTEj4jIZdMJCN7qLtFIQPF5bSbyIj4hrVIxX%2BUCN7oXCrxM2xbDPOEEMe%2FngjTRReaPr6909VPeBpDrpu4gqJ3Zpk44R8aeirGSk597KP7NBNVqUGvCBjMoZimsj1gjpIkbM1fVhWWQ2PqrQMsoQs7XGuJvmcWYVSDnTbYKGIZcQo5IKlX2GByLlJzleKVWC6Cn3v%2BG9EaL2PLA1QefWiQrMhoHlXR2%2FFvi5re0vMc8R2H6vQWrEprqqgeSAD%2BQOcVQKdrFeFRHBfz7D5YyRv%2Bqz6n0KlnoqvrKcS0huVd3hZfiU00WcgK3SpV%2BDaVGErC72vUqwumCr7Xj6wFsqmvJ3jqFls39MSM3Sker0de%2F0bgdP%2Bmfssmq8%2FsBrthSVgRacXEfDpDk8jVuGrENpBZRXcwGnzd6xCSXtGfW5hxGxBuAOxfcY95duzqolEl1fUzByrvXWFWR%2BsTpJyv%2FVqzhp6Z4z48whHmvWFzhvCH5NTdGLQyX9dZSKzMrmDMrcJ4jiQSR5dN3bY2d6To1jKUS%2B53nZu%2FHvlk661M2kCgBsI1cnhBhwlKv1dWCLu0lW5gOTO65%2FrD3ZyP867RIQZ5fDl8Yungoedgqfo3h7TArBuSWwxM1iLn4D9iop8bmjfvibnHWNd%2BJmokcfUnGiV%2B%2B7YRWyhE67Qr%2FMof5E70Nq19aWONV0D7qfEhteT%2F4TxwWpDFhU9DTiWAHhXMP1yRShSr%2F%2FgJAXA2A%2FrzWyzroFcXM8UPw%2B%2FWku31r00D7EQObeTCsC7sNrWYZYvpRUDqktlEvQIMJD3CItMw%2FAK7KlUx%2Fbs5W0PqsUr1NM%2B1aD2mmmiFybvD1QLzLb7llB5C6omDm9jO0i7PSjJAADUBVokr7A4XKrF%2BxtI%2Fia6kNXQGw7GQ%2FeKNCXX7zVVM07wsogEtHhEpqo8CfCNQ9LdF8yoBW%2Bz3qbrnhaxKatRamwA3Owk50XNez8eKLbuCeG3hgOHhEx4kVani4ooB0AO0onjda5G50ekmiUS7lXc%2FLBNBepkYR0WKTDBDoDy%2BMwmGYn0ERA53rJ3n3xk73jbOSAH9IA%2Fin%2BeFl9gSjfgzK0zGdvzHLlkoBFRvDk2kVvHwUxIG1IwBf8T99zVK38Q%3D%3D&rb=x\n",
      "Link numero 13 :\n",
      "https://articulo.mercadolibre.com.pe/MPE-447016100-mocasines-de-hombre-moda-urbana-_JM?searchVariation=173665831450#searchVariation=173665831450&position=13&search_layout=grid&type=item&tracking_id=70103ec4-69bd-48d2-b64a-4ea0efd1224f\n",
      "Link numero 14 :\n",
      "https://articulo.mercadolibre.com.pe/MPE-441514052-zapatos-casuales-venecia-negro-fakers-_JM?searchVariation=65712174979#searchVariation=65712174979&position=14&search_layout=grid&type=item&tracking_id=70103ec4-69bd-48d2-b64a-4ea0efd1224f\n",
      "Link numero 15 :\n",
      "https://articulo.mercadolibre.com.pe/MPE-440697971-zapatos-caterpillar-de-hombre-100-cuero-original-_JM?searchVariation=63951292318#searchVariation=63951292318&position=15&search_layout=grid&type=item&tracking_id=70103ec4-69bd-48d2-b64a-4ea0efd1224f\n",
      "Link numero 16 :\n",
      "https://articulo.mercadolibre.com.pe/MPE-440688828-zapatos-cat-de-hombre-puro-cuero-_JM?searchVariation=63783477610#searchVariation=63783477610&position=16&search_layout=grid&type=item&tracking_id=70103ec4-69bd-48d2-b64a-4ea0efd1224f\n",
      "Link numero 17 :\n",
      "https://articulo.mercadolibre.com.pe/MPE-443281773-zapato-para-hombre-de-cueromocasin-de-hombre-_JM?searchVariation=75490678031#searchVariation=75490678031&position=17&search_layout=grid&type=item&tracking_id=70103ec4-69bd-48d2-b64a-4ea0efd1224f\n",
      "Link numero 18 :\n",
      "https://articulo.mercadolibre.com.pe/MPE-444035658-zapato-talla-38-pierre-cardin-cuero-mocasin-_JM?searchVariation=78274768600#searchVariation=78274768600&position=18&search_layout=grid&type=item&tracking_id=70103ec4-69bd-48d2-b64a-4ea0efd1224f\n",
      "Link numero 19 :\n",
      "https://articulo.mercadolibre.com.pe/MPE-432968122-zapatos-mocasines-para-hombre-marca-levis-importado-de-usa-_JM#position=19&search_layout=grid&type=item&tracking_id=70103ec4-69bd-48d2-b64a-4ea0efd1224f\n",
      "Link numero 20 :\n",
      "https://articulo.mercadolibre.com.pe/MPE-441425084-zapatos-formales-kalvin-tang-fakers-_JM?searchVariation=65442928836#searchVariation=65442928836&position=20&search_layout=grid&type=item&tracking_id=70103ec4-69bd-48d2-b64a-4ea0efd1224f\n",
      "Link numero 21 :\n",
      "https://articulo.mercadolibre.com.pe/MPE-425506790-zapatos-hombre-casual-exclusivo-reforzado-negro-38-39-42-43-_JM?searchVariation=30441479241#searchVariation=30441479241&position=21&search_layout=grid&type=item&tracking_id=70103ec4-69bd-48d2-b64a-4ea0efd1224f\n",
      "Link numero 22 :\n",
      "https://click1.mercadolibre.com.pe/mclics/clicks/external/MPE/count?a=owCWBB7PnCnQe8Y2l463nJIHN%2FdHKIoqjXk1xULfzsdE2FeskreYEDTgs2PEgb%2BDtj85yRCJkSATC6PDs44YSH0oSkHEyfvWkzo9BYlEsEgaPGIQzL6SB%2F82rbf%2BjUcFXS8exg%2FJgya%2B2yyf6J4HL3ksYJOdvSB%2B2SaaeQQ3ZYtJay4XgluFEEm5u%2F6S3ZPEDsl1uY4gwS4VOlmy7RXe22OqG7Zy6hWO1NlqY%2FMrb5%2B0n7qChrgu8Qy2OEYGe2LnSSYLVElm0ugr93pneX5R%2BVatiTzwGmuD9Nskzz4bRYhAAdOAJZQy4oJeR0K2yj8w3Nk%2FqBeMRJXyV4oMLuh3%2B6OlZKBvP0F39qWEbu%2BtGh%2FcuoMR3ZaQ5Za6o3ECpEENvOdVBUVvhE4TmgkWSWhlKxYA83zn98cqSN%2BBVWzpsrI%2F3g6Kws6PrY6IGoh6GT5UW%2FmSrFCNIMGneaml6J%2F9AwKzO6hTZcXgapOaQlqQNQe4khpKGfDeBQ955zSx%2BVZu5mdB730SUCLYGstlnlR42R%2BrkviwXOivGYOeAUSNQ2qM7Zgnc4R%2Fu5lTgvCZ%2BjDCHtQ6AyTYIXyO9gISu56cVlASSGSki2h3KDoC1ge1NOOxPt8i6YO0m0PpcDYdjRRxi5MpjLGDqcXc9tUx%2FYzeVVmhWuYgvRCrUW3n2GMqF11BgqV3X9QHRvLkLepYXzF%2Bn1WFMthw6%2BGYLuHKJLdJwrO9Zj7QaIviDj44mgQsCGVm%2BBub6sgwM0GyhMr7v7%2BhrBzOSYvXb8fw1doUGcuFIObIrQSF12xXK4vp5HSKgEWxcEkhMsUgQrougcdjKKG5azD0YJTW3bgkeYwXZUyV5qPaSeNWw9hLUmIcg1iK5CVPZP3NnkazcD9S%2BT7QT9HARLx2Q9XAPTKd7HYQQzRbzyR5BQ5Fagg9lPcGcT1gNrd0kIf%2Fi8oh61qiiM66Hbl9NB9NTkXk5MpYNntc0bT7zjJHYvjmkvYO5%2BE2y0jUMw5zS%2BGzfHJHHJm2WjsLdjMTqpcSNA0glMqzCzkzhVyuMgNH5kVuCsJGDYWITUUr6ON27A0GDZ2MzSJ7nNmY3fRIGVnjjAobQtrhnmaIWzUaXpDXSUFBwO1wxmpNoP%2BlWXzTmuaT8urvesoqwQ0x3FpCY9SEQseDbIPlMTt%2BwUGs%2BEVORhTbO51L8gLJLPwul1PErmmvXG3gmJnpM48A5YdZv3NAYMob4iFV%2BxHr9re7ttTFcoQ%2BVpgTKBPxgNs2TLh3Kj%2BbTMQJPHwAefRauGNgXOmheGmb36edkZ%2FRX%2B%2Bvl7batUMeTXRrNtTlVfMTdvKESZESbX0hkzq54lCDlAm9vP57mzq0uWq99liwH0WQkgfihl%2Fh36BztlivQUobLlIQ6xlpQNpo1l5ObOFoJtcTvlq78HWnqGa%2B%2BnORvqkxYmxBW1b8IR6XXr0MzRdsmeQb5PYrk%2BlrdEvdkwGzTSvL%2B7lPNaWzert5EMsdfJQdNGHWTu8%2Ba4S6xxdCKwEi1RoOFT9K41hLaPoVzxLur4SA8S75U3n107dx%2BXCgDO%2BmmmpO2A8vuuXxyZtT%2BIFnt%2BQQKCkZOEwmly%2FS6KVpgb8jbkfiItG6r8n2QNzqxxByKZWjCcnsVqDQ8mESDwRjvbJpMcVAjSo3VidUoeLqe6REBxb2fouGgCNKiJyHNnXv%2BkK%2FMdZDlT%2FxgPUCh%2FW1nleQbEasJy8kNIRNkAdii9SBadG10PObgKy%2BLsoLXWE%3D&rb=x\n",
      "Link numero 23 :\n",
      "https://click1.mercadolibre.com.pe/mclics/clicks/external/MPE/count?a=nMyYRIOVqjZuG8O3qa%2Fci7Sxcvqq8co5LJjTvyOGVr8OgCCi5rJIQ5qf05MUk%2BiXDdsIlgFcBgCfvHy9JJw5lswESryg8ce2gPaWdkeiYqWHItt%2Fsq6V%2FKMev8RNnOpvNnrjTiBb4K0xHxiGd3XyGJI36tXroYMBwA%2BRdlNL0EOrQcm62IeNk8VxC%2BEGAN%2F9ToKw%2Fs2gWhVEoO9pui%2F2sE0yc2arYtwRyxkmWgazd3Nfchykqs4g69x3tBzoxJ5HbBPo7Ufv5glmH40WTo8dr4yxM4OO%2FcXCSFMMQI46b8p7eAYo1AXtRdGx0XV%2FNpLA%2FIUvliT3%2Bv0n7nkBHH2OLr4zsn%2FX7anNA%2FkDaiX8PhKh6UbldEwF6IvqbMtVXH%2FAmJiffJMzBfAXRmCKxMhgYsci93FCJgfJTz4wH4yqEQrddf0xEY7mFMZ%2FJuMC5zU94uni%2BAxKC%2FEFystynFG1C9DvWn4MLROxf8ATMP29LMtFvqDuwXjP%2F0d6%2Fi1A4o8bhRD5wY0QIv%2FzV911AyBLXS3n1K5QT8w5bndTvNbZ3wPmjLcB85yteXWr3Vm9VUnYvUr4nnnK5JFDSDElqoqzqx8jzkACGnI%2FWIZweaxVmvLZeOvlgiO0SzNVpBShOo9pP95I8L8hNyUtOqUxsqd0P8OvdEhpL8NKVCkRpNzzDRGJhg4bf0Ep4iR7KkCTbxey4ZONwZ4uS0JgFNj1BE%2F9cj06jUSkd1ZU0poXoMeVM3E9V%2B%2BW8qLSISEYzL%2FGm3l3L9lPq%2BAz7MpaC0EUtCxOGzNMR0Q84eiuc26U%2FDnCQ66l5JZVWR8VvIwlH9Xxi%2FRZ6%2F0ugUsfh6Nod23PWZCqZoZIuOcOmZKsyfg4iKgYz%2F%2BidH6bhHW2yzyib%2B5XFtLXpIXMp7ZUzmkyogDHhdWAe60wkoWf6g4OYJ%2F6f0zmUVEmilXTeOEGZnyA3O0GHOlUbquoTlZYNlBJnGZOOXaYxOpX9RkARLhPLsFt31mt9KP6NE%2BXTfXWILlV9AXmnLh0xrswC3zU2nSEzpubvzepsARiq5JujBANA5GQAqEqunO4JaDy1YVjqfL5eE82MMUYaUlz2DbPwR4FnfCx6fbQmpy36VDg%2FrRRjuPPso2GMvoU0ynKlxGZzpAhmNG2xs22G9cdmsdJ6guGX98bYZAJFDxMto7Gr%2FtIViGFOJRmDNa4sCjlNtyavpYlJuYpumR8auKiYXNI8naYMUcbexkdaF0Tu5fmLt9DlquMksSKy%2FrnwYuPDdMbEqU2huYSA3hF5glfauev5c%2BoAmMLJBD6kXVi56FJMxaSZi7uMcsvVUz10YNM26rXw1pswFmgpJ3MVv6BeElvawVgpinQVtlgg8Z8Rm3Qqv8i%2FQbyXHsFsw7jbf9jGBEW6NlQGw9DPXuFeKrpwmjFUBfBr8ioga1TyczPzzk1eRtIWzJ5L5dZtl4vdRcVCe6b5%2Fabykcr7G07QkiJ2VpZCi6wKj8dgIUFAncIuQaWOjgbPJMNbEUNjO7t4wos44DdpYY0BGNjnPewXiTk1k6QM3rjiheYKuXbxjNB7sx2WY1kYHzGXG2I1oQydX36xz1932TYreMCpApzb77%2FsqYTO%2BGPZYmeGULxoPcWmOf8RZGc99LqVFIJeZkp6YLcn6OG3uYLlftpFYClUDNtZKSxGJAiqV18IS1%2FSP3tAGpWPe3VM0PeSZYgnEaUBQboyQ%3D%3D&rb=x\n",
      "Link numero 24 :\n",
      "https://articulo.mercadolibre.com.pe/MPE-442647058-calzado-zapatos-mocasin-topsider-p-cuero-talla-3943-bmshoes-_JM?searchVariation=72699488171#searchVariation=72699488171&position=24&search_layout=grid&type=item&tracking_id=70103ec4-69bd-48d2-b64a-4ea0efd1224f\n",
      "Link numero 25 :\n",
      "https://articulo.mercadolibre.com.pe/MPE-440705453-zapatos-caterpillar-de-hombre-100-cuero-_JM?searchVariation=63946625707#searchVariation=63946625707&position=25&search_layout=grid&type=item&tracking_id=70103ec4-69bd-48d2-b64a-4ea0efd1224f\n",
      "Link numero 26 :\n",
      "https://articulo.mercadolibre.com.pe/MPE-441683763-zapatos-formales-alonso-ju-marron-fakers-_JM?searchVariation=66323460461#searchVariation=66323460461&position=26&search_layout=grid&type=item&tracking_id=70103ec4-69bd-48d2-b64a-4ea0efd1224f\n",
      "Link numero 27 :\n",
      "https://articulo.mercadolibre.com.pe/MPE-421173692-zapatos-de-hombre-_JM?searchVariation=61173736348#searchVariation=61173736348&position=27&search_layout=grid&type=item&tracking_id=70103ec4-69bd-48d2-b64a-4ea0efd1224f\n",
      "Link numero 28 :\n",
      "https://articulo.mercadolibre.com.pe/MPE-440699112-zapatos-de-cuero-caterpillar-hombre-_JM?searchVariation=63953830259#searchVariation=63953830259&position=28&search_layout=grid&type=item&tracking_id=70103ec4-69bd-48d2-b64a-4ea0efd1224f\n",
      "Link numero 29 :\n",
      "https://articulo.mercadolibre.com.pe/MPE-441051619-zapatos-de-hombre-caterpillar-100-cuero-_JM?searchVariation=63035269199#searchVariation=63035269199&position=29&search_layout=grid&type=item&tracking_id=70103ec4-69bd-48d2-b64a-4ea0efd1224f\n",
      "Link numero 30 :\n",
      "https://articulo.mercadolibre.com.pe/MPE-421671954-zapato-de-hombremocasines-de-hombre-_JM?searchVariation=72872782599#searchVariation=72872782599&position=30&search_layout=grid&type=item&tracking_id=70103ec4-69bd-48d2-b64a-4ea0efd1224f\n",
      "Link numero 31 :\n",
      "https://articulo.mercadolibre.com.pe/MPE-608234027-zapato-escolar-de-varon-venus-tomas-mocasin-100-cuero-_JM?searchVariation=174208995545#searchVariation=174208995545&position=31&search_layout=grid&type=item&tracking_id=70103ec4-69bd-48d2-b64a-4ea0efd1224f\n",
      "Link numero 32 :\n",
      "https://articulo.mercadolibre.com.pe/MPE-441423133-zapatos-formales-cassano-marron-fakers-_JM?searchVariation=65439154292#searchVariation=65439154292&position=32&search_layout=grid&type=item&tracking_id=70103ec4-69bd-48d2-b64a-4ea0efd1224f\n",
      "Link numero 33 :\n",
      "https://articulo.mercadolibre.com.pe/MPE-431522672-zapato-de-hombre-mocasin-de-hombre-de-cuero-_JM?searchVariation=95630540706#searchVariation=95630540706&position=33&search_layout=grid&type=item&tracking_id=70103ec4-69bd-48d2-b64a-4ea0efd1224f\n",
      "Link numero 34 :\n",
      "https://articulo.mercadolibre.com.pe/MPE-441424895-zapatos-formales-kalvin-marron-fakers-_JM?searchVariation=65442625650#searchVariation=65442625650&position=34&search_layout=grid&type=item&tracking_id=70103ec4-69bd-48d2-b64a-4ea0efd1224f\n",
      "Link numero 35 :\n",
      "https://click1.mercadolibre.com.pe/mclics/clicks/external/MPE/count?a=YDCi6DZE84UTnHDhu7Sl1oYwW5bF6tP1%2BTUpwXu940xek6Yz502YMVfWukkVqgaRIU7DvQjlknqbjMdQpwbyVfUBQC7R2b18Gmh9tmMh%2Bf0FNJsuc7BrVQcZHI93943AtXflQ6WWZedqSOQKCXea1tDfwZUWIhzPsE4tOLWl0AD8E%2BsOwee2JaijSaza70DDeM42ZhCcnI7Nncp7GP0M29tIKwwXzKLFTv7R0qfCQ1WZkTYx8Ou5BvmfdBZ%2BOBV5Wm8nZ2I1OKzLyuTjn3JlXOO8IYX8tcnVZVJ%2BNpEs2FLt%2F9Eu1skogp6ysdp6D6FzC5uBdfxb%2F29Ej1rPxeuTjDNeZU7WHTIBuCiwSrfjvJ3mBjSYcl1JiAxOglSKOMSEoIYQLX63aFq7G2lLW5tGlnF3kFWU9cqyrq7%2B5Ebej3C35Twl0O7g7fX3plFvATMaXkQaQE25XaK8uHkNioNw%2BZHQ5%2B2zrSZcXXy1GihT%2BGrI3zUN9ZnpfKS%2BPVxkMolfthD0FUyGfg1u6TjiTURVn4EOAKdKBO0EBilis5gkvDToDvgPikvTG5toA71Z0IA%2FrbFnrotNNA0JOPAKLJUrRs3nP4BYoWeBqg2WhD4S1k%2B8%2FZrXon5BTAbGd9fVZ4gdEDTE4XPp0LS34tLUDUV1%2Bg83zqLFEjSOtTMfmZXrWEhoEqoziTMeBSXpsjP1chdwFr2xIPl7c%2FzwFGKRwkJlgoiSWryvneeKJQMimyWkUB%2BtnJXF7Nqukasiz19SfX6II8FstP9tb3aiEXsdGMzgft%2FALT45ny%2FOXfNzDBpM9M%2BhrQaLW6Rr8CM2lXFxQuY2g2UagEscmcn1AgbYhxOu8hcKtJh4478bmF0%2F0qYU9kCnFRsxG2x4fFBdCrc8Yw14XJ1oZZLeEgmE%2FKs4hQc71PYAxasmuL38ftoKLiQNiDVurIGkw6tSJtTmDMUoIj3mAgU8uQB5T%2Bz%2FBpxlT7uPupHJrD1TC5yAvAQ1MEqmRf8fNBhsEH3KnBm1dQn%2BUvzH%2BeU54T4C%2BY6yOOsjKqQ9IjWYtePOAEyfgROrbj3XaqBySbWw30M%2FRTXYlFR%2Boy3%2BZIPX0z67PrQO1WpSHQyoeSdfJeIfcJ%2Fu8ZfTbrgU7umY6hRlL2iR7CtYjTFc4vcatgf3wy9a483mFsSfDHi%2Fv8a%2FcpQJBSQw4ZsHcIJWFQrOppWLqaxjZ2u2NdhZZaJhroMqejngft443lzg2BKaHwMkiKPxHBpcHCrvfRotmpquOLbcEHoHP6nz77eZzEIVGNpGo%2FeuOoabuCH9ZEi3hAyCqrVDaiDzkAx%2BpI3U1CUM%2FQ%2Bgw0mICJxYUQAnt0nfRqMo40I6WhILYoOq6zTHHO%2Bqb72s3%2BGYXsxfDbA1gCvm2pE5hYt4X%2FEl8vTvAZuQsxR7vtSMEAu5Fn2zzVXDRGvE5TZ15rrhoKjHRFJXGF947ExocAw3AdI6yzvrO7Hrb5CxKu1ZT1uukr2A5wnWcbrTpYIWuOGNnO9Pr%2Bc%2FcT695BdKuQuFp8ZE0UhtnNlqIxbwuoMqQbzjJxjEtpqwVEt8V1sDjjMVjog34fZN03WzNdNuGGfY3wV%2B6sbP9pRygnVSN5Ap22NoioMzxRgPCrX3JJHSS5%2BjEU7Cv3xIBCfxxMAiX1Rv66IEDgLikZeRYldeyavfxCa0Hwii0wfXjAr5MAD1zpNWDur80FxCG0gqaE6tCYqnGurCfU7EqGLfqUIqq32jRlcu%2F0529bxP&rb=x\n",
      "Link numero 36 :\n",
      "https://click1.mercadolibre.com.pe/mclics/clicks/external/MPE/count?a=s6M%2BN%2Faatd1nWDSokKwtUW6wwWotWSxOvlNa9X3VTIzdEeWcN5x1zYYglYmqlvhgxnHsfkRi5TwC8%2FRpWi7Zux5JfuGSB1jeMRvy0QS94VTV3Gbbu7jv%2BP9aDlSHVjtuq925vcdSz6VHhdcgqfEcPWQcnVFd6T4hBwPDwTRpoexwnyPwkxAixJKQE7dU5d0O%2FmEUfCfsHnpRk0Y%2B2oZC7f7DwuWssgm5%2BXbAkKtdI82lgS9QqD50EGwcwzusOVPNlfcQntlcV2SvSc%2Fr223IaoneC%2FxtGbEGfPLyPic8ZlJy9q%2FtXTfiRI19e32qIzUREJ6YBBXMnQWE8%2BFn7mNDtIj5v4%2BLY3f0vHiheCGMD8vOEDDnUTdOmjrxD4CIZ4p3oTRGSopULOxwhIgWRxUM%2FJwedGsoqRUcv0w87LWc6MPU8dT7ghz6hJM2LxuVNt3fRygPmOAPYcWN6VH9AdsrFCO5CN2HdBWGnRvoa6bctJafzVp9jyzXzwCEmPItAZ5uu0GHVf5bv5JwnDtkXHgPXb2bXU5PLHX0D3TdVDFO%2FH%2BsrLtA0cr9dkl%2F7P0%2BFbhn8IKFjCoLWVPwC1vj2hyeyjfDgmoii097OJHpS6Pb9StZijbebOcjMoB1du0f3zrRZJL0%2FTTP%2BALCjQRYoFQ4lcHm7gnYnzvXnCpw8zoVeBAIgQzCYJLGvq2K2zkckX6GuaXPwWBA8a%2BYOl%2FoK%2BrpgHxOozeUKdcBv3%2BOKhQR9uvZomBHomrdrFgwRmQjrFR%2FaxTtxRxMuq%2FUF%2FinAgLPnj6RAcSWjuYPvBQGkHlIt%2F0Vrm7jCAbi9WtWLBNFX8litUh3PCfxTdRWgLRDJLs7IWr9dN3TuNCJCvgVVYrgsG%2FwyybFUp92HHgm7HAl5wHxwGLOU06Mx803gcY6PLdPTEXu2VswpkXQ0jqxTcgbtggR98spqgUc5%2BqJpJBbjVPJh4r8po3C7NewQMuMo3J8CLxi4MseqsO81MT5vyM7Yj3upyxLrkMeAL8fxk7mG2i3ub9z6Z4BEffy3BbnzAELreWsrdLc5Vf17cbpVfbSMxj9yEnFW55pZ0Y5qoyGWu%2Fjfo5LvEaqdAcHHoUE2bzBd82SK3Q45%2FjalChLQJbhsuTv7Wq2E2p74ZYrzGMBIs8kC%2FpwJGKqPyU9gXDWokNPIsikW0m6vCVVQNOJsUEhhkMSm0ZSQ9V%2FUUh%2F2rS1pnAHx5wTOEQwKxlko78FrHE5O36vvalTL325rfbmDRqDarT5LWMXTjXxKKEQ88js6hh%2BPHz9s31LPrwIUDEZxBWkQjCEBsFYUynPbRKT%2BjlFmalTi19qxsg9pKphCBPnK3RQzdsxW3LDpjIRR%2BsR89LWUjGKVhyGLH%2BYCdmc19d6y3UVCL53h118FB%2BvkeNsbrVYlhbE43VdtoCQ3qKeMxZNBCzDDAJQrXosLxcpKKNMXPeYfY3JtOzhlUOmJdCDYdshogo2tb96mKwPFBCUU1Th1dPiZDSUchFeqGIp79a1kMGviDdwFFHGNhtrLXNAJqdhsHzIhLSOCxPU0z0nJxaQw9uJH%2B8r1YJrb41No2n56ylwxJyUwN4yy3zs2Kfq%2BFvPePVPOHvSwU%2FRDUD182XxaZPiNs%2F3XcVqIt4bN9cjvjLsC4B9icd0ARgn%2FUyOC%2FOw03uJDqP8dFnjJ6NNHJI6gNe9aJDNzpy8DZH8CqXMmkbQ6pjobFGxzP%2F9cDacjWd%2Fel4f0FXmczo%3D&rb=x\n",
      "Link numero 37 :\n",
      "https://articulo.mercadolibre.com.pe/MPE-441423132-zapatos-formales-tristan-cobre-fakers-_JM?searchVariation=65439153726#searchVariation=65439153726&position=37&search_layout=grid&type=item&tracking_id=70103ec4-69bd-48d2-b64a-4ea0efd1224f\n",
      "Link numero 38 :\n",
      "https://articulo.mercadolibre.com.pe/MPE-441425053-zapatos-formales-donald-nutria-fakers-_JM?searchVariation=65442803596#searchVariation=65442803596&position=38&search_layout=grid&type=item&tracking_id=70103ec4-69bd-48d2-b64a-4ea0efd1224f\n",
      "Link numero 39 :\n",
      "https://articulo.mercadolibre.com.pe/MPE-441684125-zapatos-formales-emanuel-negro-fakers-_JM?searchVariation=66324056793#searchVariation=66324056793&position=39&search_layout=grid&type=item&tracking_id=70103ec4-69bd-48d2-b64a-4ea0efd1224f\n",
      "Link numero 40 :\n",
      "https://articulo.mercadolibre.com.pe/MPE-441059317-zapatos-caterpillar-hombre-100-cuero-_JM?searchVariation=68213403044#searchVariation=68213403044&position=40&search_layout=grid&type=item&tracking_id=70103ec4-69bd-48d2-b64a-4ea0efd1224f\n",
      "Link numero 41 :\n",
      "https://articulo.mercadolibre.com.pe/MPE-441425119-zapatos-casuales-paris-olivo-fakers-_JM?searchVariation=69383011019#searchVariation=69383011019&position=41&search_layout=grid&type=item&tracking_id=70103ec4-69bd-48d2-b64a-4ea0efd1224f\n",
      "Link numero 42 :\n",
      "https://articulo.mercadolibre.com.pe/MPE-441689219-zapatos-formales-field-habano-fakers-_JM?searchVariation=66331651701#searchVariation=66331651701&position=42&search_layout=grid&type=item&tracking_id=70103ec4-69bd-48d2-b64a-4ea0efd1224f\n",
      "Link numero 43 :\n",
      "https://articulo.mercadolibre.com.pe/MPE-441454340-zapatos-casuales-midway-olivo-fakers-_JM?searchVariation=65506616236#searchVariation=65506616236&position=43&search_layout=grid&type=item&tracking_id=70103ec4-69bd-48d2-b64a-4ea0efd1224f\n",
      "Link numero 44 :\n",
      "https://articulo.mercadolibre.com.pe/MPE-440707170-zapatos-caterpillar-100-cuero-original-nuevo-modelo-_JM?searchVariation=63436012733#searchVariation=63436012733&position=44&search_layout=grid&type=item&tracking_id=70103ec4-69bd-48d2-b64a-4ea0efd1224f\n",
      "Link numero 45 :\n",
      "https://articulo.mercadolibre.com.pe/MPE-447265106-zapatos-de-hombre-moda-casual-_JM?searchVariation=91402532272#searchVariation=91402532272&position=45&search_layout=grid&type=item&tracking_id=70103ec4-69bd-48d2-b64a-4ea0efd1224f\n",
      "Link numero 46 :\n",
      "https://articulo.mercadolibre.com.pe/MPE-440690369-zapatos-caterpillar-kennedy-de-hombre-_JM?searchVariation=63948074687#searchVariation=63948074687&position=46&search_layout=grid&type=item&tracking_id=70103ec4-69bd-48d2-b64a-4ea0efd1224f\n",
      "Link numero 47 :\n",
      "https://articulo.mercadolibre.com.pe/MPE-432405450-zapatillas-nike-tipo-mocasines-original-modelo-toki-_JM?searchVariation=173609036370#searchVariation=173609036370&position=47&search_layout=grid&type=item&tracking_id=70103ec4-69bd-48d2-b64a-4ea0efd1224f\n",
      "Link numero 48 :\n",
      "https://articulo.mercadolibre.com.pe/MPE-441454738-zapatos-formales-field-negro-fakers-_JM?searchVariation=65507407129#searchVariation=65507407129&position=48&search_layout=grid&type=item&tracking_id=70103ec4-69bd-48d2-b64a-4ea0efd1224f\n",
      "Link numero 49 :\n",
      "https://articulo.mercadolibre.com.pe/MPE-441444487-zapatos-casuales-paris-azul-fakers-_JM?searchVariation=65487846628#searchVariation=65487846628&position=49&search_layout=grid&type=item&tracking_id=70103ec4-69bd-48d2-b64a-4ea0efd1224f\n",
      "Link numero 50 :\n",
      "https://articulo.mercadolibre.com.pe/MPE-441512771-zapatos-casuales-andrew-azulino-fakers-_JM?searchVariation=65710213643#searchVariation=65710213643&position=50&search_layout=grid&type=item&tracking_id=70103ec4-69bd-48d2-b64a-4ea0efd1224f\n",
      "Link numero 51 :\n",
      "https://articulo.mercadolibre.com.pe/MPE-435547131-calzado-zapatos-jovenes-liso-puro-cuero-tallas-3943-bmshoes-_JM?searchVariation=37508917793#searchVariation=37508917793&position=51&search_layout=grid&type=item&tracking_id=70103ec4-69bd-48d2-b64a-4ea0efd1224f\n",
      "Link numero 52 :\n",
      "https://articulo.mercadolibre.com.pe/MPE-441424267-zapatos-formales-arnolds-marron-fakers-_JM?searchVariation=65441652463#searchVariation=65441652463&position=52&search_layout=grid&type=item&tracking_id=70103ec4-69bd-48d2-b64a-4ea0efd1224f\n",
      "Link numero 53 :\n",
      "https://articulo.mercadolibre.com.pe/MPE-441513718-mocasines-casuales-hawai-negro-fakers-_JM?searchVariation=65711514027#searchVariation=65711514027&position=53&search_layout=grid&type=item&tracking_id=70103ec4-69bd-48d2-b64a-4ea0efd1224f\n",
      "Link numero 54 :\n",
      "https://articulo.mercadolibre.com.pe/MPE-441513898-zapatos-casuales-venecia-marron-fakers-_JM?searchVariation=65711931098#searchVariation=65711931098&position=54&search_layout=grid&type=item&tracking_id=70103ec4-69bd-48d2-b64a-4ea0efd1224f\n"
     ]
    }
   ],
   "source": [
    "# De una forma mas ordenada y para verificar que la cantidad de URLS sea la correcta:\n",
    "x=0\n",
    "for x in range(len(urls)):\n",
    "    print('Link numero',x+1,':')\n",
    "    print(urls[x])\n",
    "    x==x+1"
   ]
  },
  {
   "cell_type": "markdown",
   "id": "8b088d33",
   "metadata": {},
   "source": [
    "## Scrapeando Precios de los productos"
   ]
  },
  {
   "cell_type": "code",
   "execution_count": 30,
   "id": "b60b40a6",
   "metadata": {},
   "outputs": [],
   "source": [
    "precios = []                  # Creamos una lista vacio para luego poder agregar los precios de todos los productos  \n",
    "#type(precios)                # Siempre es bueno estar corroborando con que tipo de objeto trabajamos "
   ]
  },
  {
   "cell_type": "markdown",
   "id": "a2d2ae44",
   "metadata": {},
   "source": [
    "### Creando función que automatizará nuestra tarea"
   ]
  },
  {
   "cell_type": "code",
   "execution_count": 35,
   "id": "84ecffc1",
   "metadata": {},
   "outputs": [],
   "source": [
    "def scraping_precios(url):\n",
    "    r = requests.get(url)\n",
    "    contenido = r.text\n",
    "    soup = BeautifulSoup(contenido, 'html.parser')\n",
    "    box = soup.find('div', class_=\"ui-pdp-price mt-16 ui-pdp-price--size-large\")\n",
    "    precio = box.find('span', class_= \"andes-visually-hidden\")\n",
    "    precio = precio.getText()\n",
    "    #print(precio.strip())\n",
    "    precios.append(precio.strip())\n"
   ]
  },
  {
   "cell_type": "code",
   "execution_count": 34,
   "id": "c63e0e0b",
   "metadata": {},
   "outputs": [
    {
     "name": "stdout",
     "output_type": "stream",
     "text": [
      "['170 soles', '170 soles', '170 soles', '170 soles', '159 soles', '149 soles', '180 soles', '170 soles', '139 soles', '130 soles', '170 soles', '149 soles', '160 soles', '149 soles', '150 soles', '150 soles', '139 soles', '166 soles', '199 soles con 24 céntimos', '149 soles', '25 soles', '170 soles', '150 soles', '145 soles', '150 soles', '149 soles', '139 soles', '150 soles', '150 soles', '139 soles', '61 soles con 10 céntimos', '149 soles', '139 soles', '149 soles', '150 soles', '149 soles', '149 soles', '149 soles', '149 soles', '150 soles', '149 soles', '149 soles', '149 soles', '150 soles', '150 soles', '150 soles', '239 soles', '149 soles', '149 soles', '149 soles', '130 soles', '149 soles', '149 soles', '149 soles', '170 soles', '170 soles', '170 soles', '170 soles', '159 soles', '149 soles', '180 soles', '170 soles', '139 soles', '130 soles', '170 soles', '149 soles', '160 soles', '149 soles', '150 soles', '150 soles', '139 soles', '166 soles', '199 soles con 24 céntimos', '149 soles', '25 soles', '170 soles', '150 soles', '145 soles', '150 soles', '149 soles', '139 soles', '150 soles', '150 soles', '139 soles', '61 soles con 10 céntimos', '149 soles', '139 soles', '149 soles', '150 soles', '149 soles', '149 soles', '149 soles', '149 soles', '150 soles', '149 soles', '149 soles', '149 soles', '150 soles', '150 soles', '150 soles', '239 soles', '149 soles', '149 soles', '149 soles', '130 soles', '149 soles', '149 soles', '149 soles', '170 soles', '170 soles', '170 soles', '170 soles', '159 soles', '149 soles', '180 soles', '170 soles', '139 soles', '130 soles', '170 soles', '149 soles', '160 soles', '149 soles', '150 soles', '150 soles', '139 soles', '166 soles', '199 soles con 24 céntimos', '149 soles', '25 soles', '170 soles', '150 soles', '145 soles', '150 soles', '149 soles', '139 soles', '150 soles', '150 soles', '139 soles', '61 soles con 10 céntimos', '149 soles', '139 soles', '149 soles', '150 soles', '149 soles', '149 soles', '149 soles', '149 soles', '150 soles', '149 soles', '149 soles', '149 soles', '150 soles', '150 soles', '150 soles', '239 soles', '149 soles', '149 soles', '149 soles', '130 soles', '149 soles', '149 soles', '149 soles']\n"
     ]
    }
   ],
   "source": [
    "for i in urls:\n",
    "    scraping_precios(i)\n",
    "print(precios) #imprimira el precio de cada producto"
   ]
  },
  {
   "cell_type": "code",
   "execution_count": null,
   "id": "16efe787",
   "metadata": {},
   "outputs": [],
   "source": [
    "print(len(precios))"
   ]
  },
  {
   "cell_type": "code",
   "execution_count": null,
   "id": "1888c9bd",
   "metadata": {},
   "outputs": [],
   "source": []
  }
 ],
 "metadata": {
  "kernelspec": {
   "display_name": "Python 3 (ipykernel)",
   "language": "python",
   "name": "python3"
  },
  "language_info": {
   "codemirror_mode": {
    "name": "ipython",
    "version": 3
   },
   "file_extension": ".py",
   "mimetype": "text/x-python",
   "name": "python",
   "nbconvert_exporter": "python",
   "pygments_lexer": "ipython3",
   "version": "3.9.7"
  }
 },
 "nbformat": 4,
 "nbformat_minor": 5
}
